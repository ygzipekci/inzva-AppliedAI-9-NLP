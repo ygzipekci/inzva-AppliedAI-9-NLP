{
 "cells": [
  {
   "cell_type": "markdown",
   "id": "ba65a335-01c4-46a6-94dd-312c281966b6",
   "metadata": {
    "jp-MarkdownHeadingCollapsed": true
   },
   "source": [
    "# Run here only if you are on colab\n",
    "---\n",
    "\n",
    "These are the necessary steps for running ollama from colab that I copied form [this notebook](https://colab.research.google.com/github/5aharsh/collama/blob/main/Ollama_Setup.ipynb#scrollTo=zyGk-87qnbWE)\n",
    "\n",
    "For the list of available models check [models being offerred by Ollama](https://ollama.com/library)."
   ]
  },
  {
   "cell_type": "markdown",
   "id": "2b541d00-8d5d-4e93-9d69-5a9cc9199515",
   "metadata": {},
   "source": [
    "## Before you proceed\n",
    "---\n",
    "\n",
    "Since by default the runtime type of Colab instance is CPU based, in order to use LLM models make sure to change your runtime type to T4 GPU (or better if you're a paid Colab user). This can be done by going to **Runtime > Change runtime type**.\n",
    "\n",
    "While running your script be mindful of the resources you're using. This can be tracked at **Runtime > View resources**."
   ]
  },
  {
   "cell_type": "markdown",
   "id": "83af81da-16e1-4a83-be1c-af66d6b4981c",
   "metadata": {},
   "source": [
    "## Running the notebook\n",
    "---\n",
    "\n",
    "After configuring the runtime just run it with **Runtime > Run all**. And you can start tinkering around. This example uses [Llama 3.2](https://ollama.com/library/llama3.2) to generate a response from a prompted question using [LangChain Ollama Integration](https://python.langchain.com/docs/integrations/chat/ollama/).\n",
    "\n",
    "## Installing Dependencies\n",
    "---\n",
    "\n",
    "1. `pciutils` is required by Ollama to detect the GPU type.\n",
    "2. Installation of Ollama in the runtime instance will be taken care by `curl -fsSL https://ollama.com/install.sh | sh`"
   ]
  },
  {
   "cell_type": "code",
   "execution_count": null,
   "id": "8ce1e1c5-9599-4ce7-8b69-26d47a9d51d5",
   "metadata": {},
   "outputs": [],
   "source": [
    "!sudo apt update\n",
    "!sudo apt install -y pciutils\n",
    "!curl -fsSL https://ollama.com/install.sh | sh"
   ]
  },
  {
   "cell_type": "markdown",
   "id": "2e1cf17c-9c2d-4daa-a5d5-c0750e9f8f75",
   "metadata": {},
   "source": [
    "## Running Ollama\n",
    "---\n",
    "\n",
    "In order to use Ollama it needs to run as a service in background parallel to your scripts. Becasue Jupyter Notebooks is built to run code blocks in sequence this make it difficult to run two blocks at the same time. As a workaround we will create a service using subprocess in Python so it doesn't block any cell from running.\n",
    "\n",
    "Service can be started by command `ollama serve`.\n",
    "\n",
    "`time.sleep(5)` adds some delay to get the Ollama service up before downloading the model."
   ]
  },
  {
   "cell_type": "code",
   "execution_count": null,
   "id": "7d0ad874-89bc-489b-9714-af24cae6f2ab",
   "metadata": {},
   "outputs": [],
   "source": [
    "import threading\n",
    "import subprocess\n",
    "import time\n",
    "\n",
    "def run_ollama_serve():\n",
    "  subprocess.Popen([\"ollama\", \"serve\"])\n",
    "\n",
    "thread = threading.Thread(target=run_ollama_serve)\n",
    "thread.start()\n",
    "time.sleep(5)"
   ]
  },
  {
   "cell_type": "markdown",
   "id": "567a29f4-e648-4b6d-8bfd-d6238028b632",
   "metadata": {},
   "source": [
    "You can now import ollama and go along with the rest of the notebook"
   ]
  },
  {
   "cell_type": "markdown",
   "id": "79f61ca5-5a7f-4f0e-b762-f65a773bbf22",
   "metadata": {},
   "source": [
    "# Exercise: Developing a RAG pipeline, then making it better, then making it better..."
   ]
  },
  {
   "cell_type": "markdown",
   "id": "2f047ce1-80dd-47d2-807f-448b299052d7",
   "metadata": {},
   "source": [
    "## What is RAG anyways?"
   ]
  },
  {
   "cell_type": "markdown",
   "id": "843348f8-d2b0-41ea-ad1c-a29488944d90",
   "metadata": {},
   "source": [
    "Rag is somewhat talked about nowadays, and one of the most popular use cases for generative text models"
   ]
  },
  {
   "cell_type": "markdown",
   "id": "d790e03d-916a-47c2-8850-7735e983b8b2",
   "metadata": {},
   "source": [
    "<img src=\"assets/what_is_rag.jpg\" alt=\"what_is_rag\" width=\"70%\"/>"
   ]
  },
  {
   "cell_type": "markdown",
   "id": "7f9a3ada-7bdf-4fa9-b387-6daf408fd3c3",
   "metadata": {},
   "source": [
    "RAG is coined in [Retrieval-Augmented Generation for Knowledge-Intensive NLP Tasks](https://arxiv.org/abs/2005.11401). It refers to supporting internal knowledge of pretrained language models with dynamic text data. We can practically define it as including the knowledge sources in the input along with the question."
   ]
  },
  {
   "cell_type": "markdown",
   "id": "11dafa11-b393-48e8-b140-7044574da090",
   "metadata": {},
   "source": [
    "Typical RAG process consists of a user query, a knowledge base, a search step that finds relevant documents to the user query from the knowledge base, a generative model that takes those as inputs and generates an answer to the query"
   ]
  },
  {
   "cell_type": "markdown",
   "id": "ec3e3276-9b96-46d4-9f6a-185c08347970",
   "metadata": {},
   "source": [
    "This is basically what we are about to do\n",
    "https://medium.com/@drjulija/what-is-retrieval-augmented-generation-rag-938e4f6e03d1"
   ]
  },
  {
   "cell_type": "markdown",
   "id": "5f1d673a-8a29-4e21-8282-f9c19a50421e",
   "metadata": {},
   "source": [
    "![basic rag pipeline](https://miro.medium.com/v2/resize:fit:800/format:webp/1*FhMJ8OE_PoeOyeAavYjzlw.png)"
   ]
  },
  {
   "cell_type": "markdown",
   "id": "542b15a0-f078-410e-860c-d5d85738fd31",
   "metadata": {},
   "source": [
    "## The toolset"
   ]
  },
  {
   "cell_type": "markdown",
   "id": "bc12e9ba-7191-4bb3-89bc-5046d2a60de7",
   "metadata": {},
   "source": [
    "I willl start by introducing you a very nice tool called [ollama](https://ollama.com/). It is [a user-friendly and powerful software for running LLMs locally.](https://geshan.com.np/blog/2025/02/what-is-ollama/#:~:text=Ollama%20is%20a%20user%2Dfriendly,customizable%20with%20a%20model%20file.)  \n",
    "Ollama manages efficient utilization of your current hardware for accelerated model inference. It is tricky to run big models on limited computation power. There are a lot of trick you can utilize for enabling that, ollama uses those tricks for you.  "
   ]
  },
  {
   "cell_type": "markdown",
   "id": "5851950c-32a4-4b49-b509-22f0d40bad25",
   "metadata": {},
   "source": [
    "check out the [docs](https://github.com/ollama/ollama/tree/main/docs)"
   ]
  },
  {
   "cell_type": "markdown",
   "id": "2af2e91e-90e3-4ce1-8393-68b1d529ff5e",
   "metadata": {},
   "source": [
    "I encourage you to read the [blogs](https://ollama.com/blog) on the official page and other guides to get an idea about its inner workings. Or simply peak at the code itself it is [open source](https://github.com/ollama/ollama)"
   ]
  },
  {
   "cell_type": "markdown",
   "id": "e3724970-b930-4954-8be3-f27cd326173d",
   "metadata": {},
   "source": [
    "Needless to say we will be using [ollama python library](https://github.com/ollama/ollama-python) in this week's challenge"
   ]
  },
  {
   "cell_type": "markdown",
   "id": "025bbf74-2f7d-49c3-a040-1b3a8652befb",
   "metadata": {},
   "source": [
    "Go ahead and install it and get it up and running before you import the ollama library (of course if you are using colab you don't need the ollama desktop app)"
   ]
  },
  {
   "cell_type": "markdown",
   "id": "34e1eb9a-2fbf-4e71-a5f4-0d9d49b58240",
   "metadata": {},
   "source": [
    "## Recap: Orthogonalization"
   ]
  },
  {
   "cell_type": "markdown",
   "id": "edc4d2ad-7b40-468b-9960-856362df8a07",
   "metadata": {},
   "source": [
    "You may have watched [this lecture](https://www.youtube.com/watch?v=UEtvV1D6B3s) before. It talks about the concept called \"orthogonalization\". It refers to system design and machine learning in general, being aware of what to tune in order to achieve what effect. It is simpler in, for example, supervised machine learning. However, it requires a different approach when we are dealing with tools and systems that are developed by other people and not for your exact spesific usecase (happens a lot, like almost all the time)"
   ]
  },
  {
   "cell_type": "markdown",
   "id": "1615c3a4-aebc-4481-8cac-eb4938e40508",
   "metadata": {},
   "source": [
    "I will introduce our system, and I will identify the moving parts of our system, the parts that can be modified or replaced. Then I will ask you to **play around with these moving parts and try to get an idea about what causes what**."
   ]
  },
  {
   "cell_type": "markdown",
   "id": "9f34215b-ff34-4ccb-bf4e-fb884b067b96",
   "metadata": {},
   "source": [
    "To do that, we need to have an objective. Our objective is of course to answer questions accurately. I have put together an evaluation set to measure our objective. It is a bunch of *Multiple Choice* questions about a specific knowledge base."
   ]
  },
  {
   "cell_type": "markdown",
   "id": "ee3ee172-774d-46ae-a496-70162931c7d6",
   "metadata": {},
   "source": [
    "Why multiple choice? Because it is very easy to measure, no partial points, no other business concerns, just true or false. It is usually a lot harder to measure the goodness of a RAG system in real life."
   ]
  },
  {
   "cell_type": "markdown",
   "id": "15b3f04e-b47c-4a45-8b5a-dd6d27a9983d",
   "metadata": {},
   "source": [
    "## Evaluation set"
   ]
  },
  {
   "cell_type": "markdown",
   "id": "9540ff73-5685-4b31-8c3b-74f437300ddd",
   "metadata": {},
   "source": [
    "The question set that we will evaluate our system consists of 50 questions about a specific topic. I chose this topic because if I used something common and well known, it might already exist in the pretraining data of the generative models. To measure that bias, **we will also need to measure the baseline score without any rag for each llm in our experiments** "
   ]
  },
  {
   "cell_type": "markdown",
   "id": "62689dcf-1c13-4b73-8d85-87a521431a8d",
   "metadata": {},
   "source": []
  },
  {
   "cell_type": "code",
   "execution_count": 1,
   "id": "1e0d033f-4f45-4d69-a7b7-8db056fa2523",
   "metadata": {},
   "outputs": [],
   "source": [
    "import pandas as pd\n",
    "# If your experiments take too long, you can use the mini evaluation set instead\n",
    "# evalset = pd.read_csv(\"evaluation_set_mini.csv\", sep=\"|\") # you can even make it minier for your convenience\n",
    "# In my hardware and pipeline 50 questions took around 10-15 minutes\n",
    "evalset = pd.read_csv(\"evaluation_set.csv\", sep=\"|\")"
   ]
  },
  {
   "cell_type": "code",
   "execution_count": 2,
   "id": "1099900a-c90a-46c1-8189-ac613714c3f9",
   "metadata": {},
   "outputs": [],
   "source": [
    "pd.set_option('display.max_colwidth', None)"
   ]
  },
  {
   "cell_type": "code",
   "execution_count": 3,
   "id": "9ac3089b-f02a-400b-93c6-275c62bfd033",
   "metadata": {},
   "outputs": [
    {
     "data": {
      "text/html": [
       "<div>\n",
       "<style scoped>\n",
       "    .dataframe tbody tr th:only-of-type {\n",
       "        vertical-align: middle;\n",
       "    }\n",
       "\n",
       "    .dataframe tbody tr th {\n",
       "        vertical-align: top;\n",
       "    }\n",
       "\n",
       "    .dataframe thead th {\n",
       "        text-align: right;\n",
       "    }\n",
       "</style>\n",
       "<table border=\"1\" class=\"dataframe\">\n",
       "  <thead>\n",
       "    <tr style=\"text-align: right;\">\n",
       "      <th></th>\n",
       "      <th>question</th>\n",
       "      <th>A</th>\n",
       "      <th>B</th>\n",
       "      <th>C</th>\n",
       "      <th>D</th>\n",
       "      <th>answer</th>\n",
       "    </tr>\n",
       "  </thead>\n",
       "  <tbody>\n",
       "    <tr>\n",
       "      <th>31</th>\n",
       "      <td>Dizinin yapımcısı kimdir?</td>\n",
       "      <td>A) Gülse Birsel</td>\n",
       "      <td>B) Sinan Çetin</td>\n",
       "      <td>C) Şenay Gürler</td>\n",
       "      <td>D) Jale Atabey Özberk</td>\n",
       "      <td>B</td>\n",
       "    </tr>\n",
       "    <tr>\n",
       "      <th>45</th>\n",
       "      <td>Volkan'ın şöhret olma tutkusu hangi sezonda yoğunluk kazanmıştır?</td>\n",
       "      <td>A) İkinci</td>\n",
       "      <td>B) Üçüncü</td>\n",
       "      <td>C) Dördüncü</td>\n",
       "      <td>D) Beşinci</td>\n",
       "      <td>A</td>\n",
       "    </tr>\n",
       "    <tr>\n",
       "      <th>21</th>\n",
       "      <td>Dizinin beşinci sezonunda yeni katılan karakterlerden biri olan Şahika'yı hangi oyuncu canlandırmıştır?</td>\n",
       "      <td>A) Hasibe Eren</td>\n",
       "      <td>B) Binnur Kaya</td>\n",
       "      <td>C) Şenay Gürler</td>\n",
       "      <td>D) Hümeyra</td>\n",
       "      <td>B</td>\n",
       "    </tr>\n",
       "    <tr>\n",
       "      <th>35</th>\n",
       "      <td>Dizinin altıncı sezonunda hangi ünlü karakter, iki karakteri aynı anda canlandırmıştır?</td>\n",
       "      <td>A) Ata Demirer</td>\n",
       "      <td>B) Engin Günaydın</td>\n",
       "      <td>C) Binnur Kaya</td>\n",
       "      <td>D) Levent Üzümcü</td>\n",
       "      <td>A</td>\n",
       "    </tr>\n",
       "    <tr>\n",
       "      <th>15</th>\n",
       "      <td>What is the total number of seasons for \"Avrupa Yakası\"?</td>\n",
       "      <td>A) Four</td>\n",
       "      <td>B) Five</td>\n",
       "      <td>C) Six</td>\n",
       "      <td>D) Seven</td>\n",
       "      <td>C</td>\n",
       "    </tr>\n",
       "    <tr>\n",
       "      <th>41</th>\n",
       "      <td>Dizinin beşinci sezonunda, hangi karakter yılbaşı bölümünden sonra performansından memnun olunmadığı için ayrılmıştır?</td>\n",
       "      <td>A) Cesur</td>\n",
       "      <td>B) Gülenay</td>\n",
       "      <td>C) Kubilay</td>\n",
       "      <td>D) Makbule</td>\n",
       "      <td>A</td>\n",
       "    </tr>\n",
       "    <tr>\n",
       "      <th>36</th>\n",
       "      <td>Dizinin beşinci sezonunda hangi karakter Burhan ile birlikte kaçmıştır?</td>\n",
       "      <td>A) İffet</td>\n",
       "      <td>B) Şahika</td>\n",
       "      <td>C) Selin</td>\n",
       "      <td>D) Makbule</td>\n",
       "      <td>D</td>\n",
       "    </tr>\n",
       "    <tr>\n",
       "      <th>4</th>\n",
       "      <td>How many total episodes does the \"Avrupa Yakası\" series have?</td>\n",
       "      <td>A) 132</td>\n",
       "      <td>B) 150</td>\n",
       "      <td>C) 190</td>\n",
       "      <td>D) 200</td>\n",
       "      <td>C</td>\n",
       "    </tr>\n",
       "    <tr>\n",
       "      <th>10</th>\n",
       "      <td>Who was the producer of \"Avrupa Yakası\"?</td>\n",
       "      <td>A) Gülse Birsel</td>\n",
       "      <td>B) Sinan Çetin</td>\n",
       "      <td>C) Şenay Gürler</td>\n",
       "      <td>D) Jale Atabey Özberk</td>\n",
       "      <td>B</td>\n",
       "    </tr>\n",
       "    <tr>\n",
       "      <th>34</th>\n",
       "      <td>Dizinin hangi sezonunda Volkan, askerden dönerek diziye geri katılmıştır?</td>\n",
       "      <td>A) Üçüncü</td>\n",
       "      <td>B) Dördüncü</td>\n",
       "      <td>C) Beşinci</td>\n",
       "      <td>D) Altıncı</td>\n",
       "      <td>D</td>\n",
       "    </tr>\n",
       "  </tbody>\n",
       "</table>\n",
       "</div>"
      ],
      "text/plain": [
       "                                                                                                                   question  \\\n",
       "31                                                                                               Dizinin yapımcısı kimdir?    \n",
       "45                                                       Volkan'ın şöhret olma tutkusu hangi sezonda yoğunluk kazanmıştır?    \n",
       "21                 Dizinin beşinci sezonunda yeni katılan karakterlerden biri olan Şahika'yı hangi oyuncu canlandırmıştır?    \n",
       "35                                 Dizinin altıncı sezonunda hangi ünlü karakter, iki karakteri aynı anda canlandırmıştır?    \n",
       "15                                                                What is the total number of seasons for \"Avrupa Yakası\"?    \n",
       "41  Dizinin beşinci sezonunda, hangi karakter yılbaşı bölümünden sonra performansından memnun olunmadığı için ayrılmıştır?    \n",
       "36                                                 Dizinin beşinci sezonunda hangi karakter Burhan ile birlikte kaçmıştır?    \n",
       "4                                                            How many total episodes does the \"Avrupa Yakası\" series have?    \n",
       "10                                                                                Who was the producer of \"Avrupa Yakası\"?    \n",
       "34                                               Dizinin hangi sezonunda Volkan, askerden dönerek diziye geri katılmıştır?    \n",
       "\n",
       "                    A                    B                  C  \\\n",
       "31   A) Gülse Birsel       B) Sinan Çetin    C) Şenay Gürler    \n",
       "45         A) İkinci            B) Üçüncü        C) Dördüncü    \n",
       "21    A) Hasibe Eren       B) Binnur Kaya    C) Şenay Gürler    \n",
       "35    A) Ata Demirer    B) Engin Günaydın     C) Binnur Kaya    \n",
       "15           A) Four              B) Five             C) Six    \n",
       "41          A) Cesur           B) Gülenay         C) Kubilay    \n",
       "36          A) İffet            B) Şahika           C) Selin    \n",
       "4             A) 132               B) 150             C) 190    \n",
       "10   A) Gülse Birsel       B) Sinan Çetin    C) Şenay Gürler    \n",
       "34         A) Üçüncü          B) Dördüncü         C) Beşinci    \n",
       "\n",
       "                          D answer  \n",
       "31   D) Jale Atabey Özberk       B  \n",
       "45              D) Beşinci       A  \n",
       "21              D) Hümeyra       B  \n",
       "35        D) Levent Üzümcü       A  \n",
       "15                D) Seven       C  \n",
       "41              D) Makbule       A  \n",
       "36              D) Makbule       D  \n",
       "4                   D) 200       C  \n",
       "10   D) Jale Atabey Özberk       B  \n",
       "34              D) Altıncı       D  "
      ]
     },
     "execution_count": 3,
     "metadata": {},
     "output_type": "execute_result"
    }
   ],
   "source": [
    "evalset.sample(10)"
   ]
  },
  {
   "cell_type": "markdown",
   "id": "4fe9fe07-3a5b-4855-8fa9-a82fabe5ba6a",
   "metadata": {},
   "source": [
    "Are the questions familiar to you? Do you know some of the answers?"
   ]
  },
  {
   "cell_type": "markdown",
   "id": "bfc880ef-5120-4ac4-a8d8-d1616aa4ff88",
   "metadata": {},
   "source": [
    "## Knowledge Base"
   ]
  },
  {
   "cell_type": "markdown",
   "id": "2f63f17b-8e07-409a-9529-35ed9959dda1",
   "metadata": {},
   "source": [
    "To be able to answer the questions about *that* topic, we need to build a knowledge base."
   ]
  },
  {
   "cell_type": "markdown",
   "id": "a29f4282-2531-4249-8c52-404733720fb4",
   "metadata": {},
   "source": [
    "To achieve that, I wrote a script to scrape information from vikipedi (or wikipedia). Let's collect our knowledge intensive documents from the internet."
   ]
  },
  {
   "cell_type": "code",
   "execution_count": 4,
   "id": "ace4bcdd",
   "metadata": {},
   "outputs": [
    {
     "name": "stdout",
     "output_type": "stream",
     "text": [
      "usage: wiki_crawler.py [-h] -c CATEGORY -o OUTPUT [-l {en,tr}] [--pdf]\n",
      "\n",
      "Wikipedia Category Crawler\n",
      "\n",
      "options:\n",
      "  -h, --help            show this help message and exit\n",
      "  -c CATEGORY, --category CATEGORY\n",
      "                        Wikipedia category to crawl (e.g.,\n",
      "                        \"Search_algorithms\", \"Alacakaranlık_filmleri\")\n",
      "  -o OUTPUT, --output OUTPUT\n",
      "                        Output directory path within current working directory\n",
      "  -l {en,tr}, --language {en,tr}\n",
      "                        Wikipedia language (en or tr), used for configuring\n",
      "                        urls\n",
      "  --pdf                 Download articles as PDF instead of text\n",
      "\n",
      "Example usage:\n",
      "        python wiki_crawler.py -c \"Search_algorithms\" -o search-algorithms -l en\n",
      "        python wiki_crawler.py --category \"Avrupa_Yakası\" --output avrupa-yakasi --pdf --language tr\n"
     ]
    }
   ],
   "source": [
    "!python wiki_crawler.py -h"
   ]
  },
  {
   "cell_type": "markdown",
   "id": "514c4629-ed72-4968-8384-60d8030a4a52",
   "metadata": {},
   "source": [
    "The script crawls a given wikipedia *Category*. I encourage you to go and check how the script works. I hope it can be useful for your personal RAG projects :)"
   ]
  },
  {
   "cell_type": "markdown",
   "id": "acbba045-1464-4710-9fd3-6d5c8de57bb3",
   "metadata": {},
   "source": [
    "The *Category* we are interested in, as you may have noticed, is Avrupa Yakası."
   ]
  },
  {
   "cell_type": "markdown",
   "id": "7bcb928a-837e-4a9c-b486-261b5380a453",
   "metadata": {},
   "source": [
    "The cell below downloads the main text body from every page in \"Avrupa_Yakası\" category as txt files and also pdf files."
   ]
  },
  {
   "cell_type": "code",
   "execution_count": 6,
   "id": "228871e3",
   "metadata": {},
   "outputs": [
    {
     "name": "stdout",
     "output_type": "stream",
     "text": [
      "100%|█████████████████████████████████████████████| 9/9 [00:02<00:00,  3.37it/s]\n",
      "100%|█████████████████████████████████████████████| 9/9 [00:27<00:00,  3.04s/it]\n"
     ]
    }
   ],
   "source": [
    "!python wiki_crawler.py --category \"Avrupa_Yakası\" --output avrupa-yakasi --language tr\n",
    "!python wiki_crawler.py --category \"Avrupa_Yakası\" --output avrupa-yakasi --pdf --language tr"
   ]
  },
  {
   "cell_type": "markdown",
   "id": "737b8d69-e8f0-4822-b14e-5b3c200017d3",
   "metadata": {},
   "source": [
    "Go ahead and take a look at the files generated. You may notice the pdf versions contain more information than the txt files. Meaning we can change the scope of our knowledge base by parsing the pdfs or txts"
   ]
  },
  {
   "cell_type": "code",
   "execution_count": null,
   "id": "3822c0b4-4d97-423a-aad8-246e2e858caf",
   "metadata": {},
   "outputs": [],
   "source": []
  },
  {
   "cell_type": "markdown",
   "id": "03a9cd87-23ca-4526-b4a8-661ebf6b2e9c",
   "metadata": {},
   "source": [
    "## Indexing"
   ]
  },
  {
   "cell_type": "markdown",
   "id": "f7794db5-7172-46b4-816e-83a66fad22e1",
   "metadata": {},
   "source": [
    "Before we can do the actual searching on our newly created knowledge base, we need to create an index. An Index is basically a searchable space. The nature of the indexing process depends on the nature of the search. In our search, we want to input a query and want to get the relevant contexts to the desired answer."
   ]
  },
  {
   "cell_type": "markdown",
   "id": "1473a9bf-f907-4bf6-a716-2738565a25fa",
   "metadata": {},
   "source": [
    "The relevant contexts will be the inputs to an LLM. To reduce the irrelevant data we input to the LLM, which can result in noise in the generation, we need to divide our documents into smaller parts."
   ]
  },
  {
   "cell_type": "markdown",
   "id": "717c9295-ddc8-4dcf-b6c0-dd033e236fc7",
   "metadata": {},
   "source": [
    "### Chunking"
   ]
  },
  {
   "cell_type": "markdown",
   "id": "fccb9339-c095-4b7c-992c-f80300ee9c87",
   "metadata": {},
   "source": [
    "Chunking is the process of splitting text into meaningful *chunks.* The quality of the chunks have a significant impact on the quality of the search. For that, there are a lot of developed chunking strategies that are useful in various usecases. You can also come up with yours for this exercise. **This is the first moving part of our system**"
   ]
  },
  {
   "attachments": {},
   "cell_type": "markdown",
   "id": "b5e03b3a-9fe4-4e5f-b756-2b5c11079db5",
   "metadata": {},
   "source": [
    "- TokenChunker: Splits text into fixed-size token chunks.\n",
    "- WordChunker: Splits text into chunks based on words.\n",
    "- SentenceChunker: Splits text into chunks based on sentences.\n",
    "- RecursiveChunker: Splits text hierarchically using customizable rules to create semantically meaningful chunks.\n",
    "- SemanticChunker: Splits text into chunks based on semantic similarity."
   ]
  },
  {
   "cell_type": "markdown",
   "id": "1449eb77-ee0a-4a93-9498-834a2ff19100",
   "metadata": {},
   "source": [
    "If we are going to use an embedding model for the retrieval process, it is a good idea to enforce the maximum token size of chunks with that model's tokenizer. Otherwise we can create chunks that are too big for our embedding model."
   ]
  },
  {
   "cell_type": "code",
   "execution_count": 4,
   "id": "73e6f018-5db7-4159-96d6-380eea89a6b1",
   "metadata": {},
   "outputs": [
    {
     "name": "stderr",
     "output_type": "stream",
     "text": [
      "None of PyTorch, TensorFlow >= 2.0, or Flax have been found. Models won't be available and only tokenizers, configuration and file/data utilities can be used.\n"
     ]
    }
   ],
   "source": [
    "from sentence_splitter import SentenceSplitter\n",
    "from transformers import AutoTokenizer\n",
    "\n",
    "tokenizer = AutoTokenizer.from_pretrained('bert-base-uncased')\n",
    "# For the later embedding part, I will use the nomic-embed-text model for demonstration\n",
    "# that model uses bert-base-uncased tokenizer according to the model card https://huggingface.co/nomic-ai/nomic-embed-text-v1#transformers\n"
   ]
  },
  {
   "cell_type": "markdown",
   "id": "22979090-5ed6-444d-9a19-9bf0e223ef39",
   "metadata": {},
   "source": [
    "Below I implemented a simple recursive chunking algorithm from scratch for demonstration. You are free to use whatever method from whatever library to chunk your knowledge base for your experiments. Even go ahead and try the code generating models to see which one writes better chunking code for our use case :)"
   ]
  },
  {
   "cell_type": "code",
   "execution_count": 5,
   "id": "e41d9135-7397-4c7b-ac13-4ecbaaa1abea",
   "metadata": {},
   "outputs": [],
   "source": [
    "levels = [\"paragraph\", \"sentence\", \"word\", \"token\"]\n",
    "sentence_splitter = SentenceSplitter(language=\"en\")\n",
    "\n",
    "def _split(text, split_level):\n",
    "    \n",
    "    if split_level == \"paragraph\":\n",
    "        return text.split(\"\\n\")\n",
    "    elif split_level == \"sentence\":\n",
    "        return sentence_splitter.split(text)\n",
    "    elif split_level == \"word\":\n",
    "        return text.split()\n",
    "    elif split_level == \"token\":\n",
    "        return tokenizer.tokenize(text)\n",
    "\n",
    "def _merge(current_chunk, new_text, merge_level):\n",
    "    if merge_level == \"paragraph\":\n",
    "        join_char = \"\\n\"\n",
    "    elif merge_level == \"sentence\":\n",
    "        join_char = \" \"\n",
    "    elif merge_level == \"word\":\n",
    "        join_char = \" \"\n",
    "    elif merge_level == \"token\":\n",
    "        join_char = \"\"\n",
    "        \n",
    "    if not current_chunk:\n",
    "        return new_text\n",
    "        \n",
    "    return current_chunk + join_char + new_text\n",
    "\n",
    "\n",
    "def recursive_chunker(text, max_token_length, level=0):\n",
    "\n",
    "    if not text.strip() or len(tokenizer.tokenize(text)) <= max_token_length:\n",
    "        # if the input text is already smaller than the token limit, we return it directly as a one element list\n",
    "        return [text]\n",
    "\n",
    "    # if we are here, the input text is larger than the max_token_length\n",
    "    list_of_texts = _split(text, levels[level])\n",
    "    \n",
    "    # if we can split the large text with the current level, loop inside the splitted text to see if each element is small enough\n",
    "    if len(list_of_texts) > 1:\n",
    "        chunks = []\n",
    "        for text in list_of_texts:\n",
    "            # Process each piece recursively so that the initial list_of_texts can only contain texts smaller than max_token_length\n",
    "            sub_chunks = recursive_chunker(text, max_token_length, level + 1)\n",
    "            chunks.extend(sub_chunks)\n",
    "    else:\n",
    "        # If the large text cannot be splitted with the current level, we move to the next level\n",
    "        return recursive_chunker(text, max_token_length, level + 1)\n",
    "\n",
    "    \n",
    "    ### Merging phase\n",
    "\n",
    "    final_chunks = []\n",
    "    current_chunk_size = 0\n",
    "    current_chunk = \"\"\n",
    "    for element in chunks:\n",
    "        element_size = len(tokenizer.tokenize(element))\n",
    "        \n",
    "        # can i merge the current element with the current chunk?\n",
    "        if current_chunk_size + element_size <= max_token_length: #yes\n",
    "            current_chunk = _merge(current_chunk, element, levels[level])\n",
    "            current_chunk_size += element_size\n",
    "\n",
    "        else: \n",
    "            # if the current chunk and candidate element exceeds the limit,\n",
    "            # we add the current chunk to final chunk list, and flush the current chunk and current chunk size, with the misfit element\n",
    "            final_chunks.append(current_chunk.strip())\n",
    "            current_chunk_size = element_size\n",
    "            current_chunk = element\n",
    "\n",
    "    if current_chunk: # lastly we add the dangling chunk after the loop has ended\n",
    "        final_chunks.append(current_chunk.strip())\n",
    "        \n",
    "    return final_chunks"
   ]
  },
  {
   "cell_type": "markdown",
   "id": "0e25efe6-5385-4f56-b72a-422ec193ef1d",
   "metadata": {},
   "source": [
    "Let's demostrate what the function does to a tiny little text. **It is clear that the chunking algorithm and the maximum token size would have an observable impact on our search results**"
   ]
  },
  {
   "cell_type": "code",
   "execution_count": 6,
   "id": "4f712ce3-35fb-4031-8965-14fcf53c2da3",
   "metadata": {},
   "outputs": [
    {
     "name": "stdout",
     "output_type": "stream",
     "text": [
      "with maximum of 10 tokens:\n",
      "1:\tThis is a long piece of text that needs to\n",
      "\n",
      "2:\tbe split into chunks.\n",
      "\n",
      "3:\tThe text contains multiple sentences and paragraphs.\n",
      "\n",
      "4:\tEach chunk should contain no more than a set number\n",
      "\n",
      "5:\tof tokens.\n",
      "\n",
      "================================\n",
      "with maximum of 20 tokens:\n",
      "1:\tThis is a long piece of text that needs to be split into chunks.\n",
      "\n",
      "2:\tThe text contains multiple sentences and paragraphs.\n",
      "\n",
      "3:\tEach chunk should contain no more than a set number of tokens.\n",
      "\n",
      "================================\n",
      "with maximum of 32 tokens:\n",
      "1:\tThis is a long piece of text that needs to be split into chunks.\n",
      "\n",
      "2:\tThe text contains multiple sentences and paragraphs. Each chunk should contain no more than a set number of tokens.\n",
      "\n",
      "================================\n",
      "with maximum of 64 tokens:\n",
      "1:\tThis is a long piece of text that needs to be split into chunks.\n",
      "The text contains multiple sentences and paragraphs. Each chunk should contain no more than a set number of tokens.\n",
      "\n",
      "================================\n",
      "with maximum of 256 tokens:\n",
      "1:\tThis is a long piece of text that needs to be split into chunks.\n",
      "The text contains multiple sentences and paragraphs. Each chunk should contain no more than a set number of tokens.\n",
      "\n"
     ]
    }
   ],
   "source": [
    "def print_chunks(chunks):\n",
    "    for i, chunk in enumerate(chunks):\n",
    "        print(f\"{i+1}:\\t{chunk}\")\n",
    "        print()\n",
    "\n",
    "text = \"\"\"This is a long piece of text that needs to be split into chunks.\n",
    "The text contains multiple sentences and paragraphs. Each chunk should contain no more than a set number of tokens.\"\"\"\n",
    "\n",
    "chunks = recursive_chunker(text, max_token_length=10)\n",
    "print(\"with maximum of 10 tokens:\")\n",
    "print_chunks(chunks)\n",
    "print(\"=\"*32)\n",
    "\n",
    "chunks = recursive_chunker(text, max_token_length=20)\n",
    "print(\"with maximum of 20 tokens:\")\n",
    "print_chunks(chunks)\n",
    "print(\"=\"*32)\n",
    "\n",
    "chunks = recursive_chunker(text, max_token_length=32)\n",
    "print(\"with maximum of 32 tokens:\")\n",
    "print_chunks(chunks)\n",
    "print(\"=\"*32)\n",
    "\n",
    "chunks = recursive_chunker(text, max_token_length=64)\n",
    "print(\"with maximum of 64 tokens:\")\n",
    "print_chunks(chunks)\n",
    "print(\"=\"*32)\n",
    "\n",
    "chunks = recursive_chunker(text, max_token_length=256)\n",
    "print(\"with maximum of 256 tokens:\")\n",
    "print_chunks(chunks)"
   ]
  },
  {
   "cell_type": "markdown",
   "id": "db9ec02a-a822-44ff-8e00-351972b49eb3",
   "metadata": {},
   "source": [
    "Using that function, this is what the chunks of an entire document will look like:"
   ]
  },
  {
   "cell_type": "code",
   "execution_count": 7,
   "id": "ec398dec-6ec0-4d75-9403-0df1b6ff9d96",
   "metadata": {},
   "outputs": [
    {
     "name": "stderr",
     "output_type": "stream",
     "text": [
      "Token indices sequence length is longer than the specified maximum sequence length for this model (8179 > 512). Running this sequence through the model will result in indexing errors\n"
     ]
    },
    {
     "name": "stdout",
     "output_type": "stream",
     "text": [
      "1:\tAvrupa Yakası, Plato Film imzalı, 2004-2009 yılları  arasında atv'de yayımlanan durum komedisi türündeki Türk televizyon dizisidir.[5] Dizide, Nişantaşı'nda yaşayan Sütçüoğlu ailesi ile Avrupa Yakası dergisi çalışanlarının ve onların yakınlarının komik öyküsü anlatılmaktadır.[6] Toplam 6 sezondan oluşan dizi, 24 Haziran 2009 tarihinde yayımlanan 190. bölümü ile final yaparak sona erdi.\n",
      "\n",
      "2:\tOyuncu kadrosu sezondan sezona farklılık gösterse de; Gülse Birsel, Gazanfer Özcan, Levent Üzümcü, Şenay Gürler, Hale Caneroğlu, Yavuz Seçkin, Veysel Diker ve Yıldırım Öcek tüm sezonlarda yer alan oyunculardır. Üçüncü sezonda Engin Günaydın,[7] dördüncü sezonda ise Peker Açıkalın, Tolga Çevik, Hasibe Eren ve Sarp Apak oyuncu kadrosuna katılmıştır.[8]\n",
      "\n",
      "3:\tİlk sezon, 11 Şubat 2004 tarihinde yayımlanmaya başlamış ve 19. bölümüyle 23 Haziran 2004 tarihinde sona ermiştir. 1. sezon toplam 19 bölümden oluşmaktadır. Aslı ve Cem'in aşkı, Volkan'ın müzik sevdası, Fatoş'un erkeklerle olan ilişkisi gibi konular 1. sezonda işlenmiştir.\n",
      "\n",
      "4:\tAslı, artık 30'una dayanmıştır ve Aslı'nın annesi İffet onu evlendirmeye çalışmaktadır ama Aslı annesinin adaylarını beğenmemektedir. Aslı'nın en büyük taliplisi aile dostlarının oğulları Tacettin'dir ve birkaç kız isteme denemesinden sonra kendini Aslı'nın sözlüsü sanmaktadır. Aslı ise yeni genel müdürleri Cem'e âşıktır ve de aşkı karşılıksız değildir. Bu sırada Volkan şöhret olmanın yollarını aramakta ve bunun için en yakın arkadaşı Sertaç'ın projelerini değerlendirmektedir.\n",
      "\n",
      "5:\tVolkan aynı zamanda Aslı'nın ofisine patron kızı olarak giren Selin'i tavlamaya çalışmaktadır. Volkan'ın maço tavırlarını çok beğenen Yaprak da Volkan'a âşık olmuştur. Yaprak'ın Volkan'a yakınlaşmasını kıskanan Selin de Volkan'a ilgi duymaya başlamıştır. Sütçüoğlu ailesinin annesi ve babası İffet ile Tahsin ise bu iki gelin adayından da hoşnut değildir. Dizinin sezon finaline doğru, kendisini Aslı'nın sözlüsü sanan Tacettin Cem'e \"Ben Aslı'nın sözlüsüyüm.\" demiş ve şok geçiren Cem de Amerika'ya gidip orada eski sevgilisine evlenme teklif etmiştir.\n",
      "\n"
     ]
    }
   ],
   "source": [
    "with open(\"avrupa-yakasi/Avrupa Yakası (dizi) - Vikipedi.txt\") as f:\n",
    "    text = f.read()\n",
    "\n",
    "chunks = recursive_chunker(text, max_token_length=256)\n",
    "print_chunks(chunks[:5])"
   ]
  },
  {
   "cell_type": "markdown",
   "id": "90f64b67-160a-445d-9ea5-6198ba483c4c",
   "metadata": {},
   "source": [
    "and so on..."
   ]
  },
  {
   "cell_type": "markdown",
   "id": "d99bdf7e-b941-442c-b469-c9b002f4d954",
   "metadata": {},
   "source": [
    "Are these chunks *good?* Are they *bad?* In terms of what? This is exactly why we are running experiments with the moving parts. We let the metrics speak"
   ]
  },
  {
   "cell_type": "markdown",
   "id": "27f18620-bcfd-4f40-922d-5e20e00b493a",
   "metadata": {},
   "source": [
    "___"
   ]
  },
  {
   "cell_type": "markdown",
   "id": "752fbd90-133d-4cef-a638-beb0807f9077",
   "metadata": {},
   "source": [
    "Let's get all the chunks for our knowledge base"
   ]
  },
  {
   "cell_type": "code",
   "execution_count": 7,
   "id": "38c9a00b-b6f5-4b4e-95ba-2e97d09b33f4",
   "metadata": {},
   "outputs": [],
   "source": [
    "from pathlib import Path\n",
    "def create_folder_chunks(path, chunking_function, max_token_length=256):\n",
    "    \"\"\"\n",
    "    Process text files in a folder and split their contents into chunks based on token length.\n",
    "\n",
    "    Args:\n",
    "        path (str or Path): Directory path containing text files to process\n",
    "        max_token_length (int, optional): Maximum number of tokens per chunk. Defaults to 256.\n",
    "        chunking_function (callable): Function that splits text into chunks based on token count.\n",
    "            Must accept two parameters: text (str) and max_tokens (int)\n",
    "            Should return a list of text chunks\n",
    "\n",
    "    Returns:\n",
    "        list[str]: List of text chunks from all processed files\n",
    "    \n",
    "    Notes:\n",
    "        - Processes all .txt files found in the specified path\n",
    "        - Each file's contents are processed independently\n",
    "        - The chunking_function determines the actual splitting behavior\n",
    "        - Returns a flat list containing chunks from all processed files\n",
    "    \"\"\"\n",
    "    chunks = []\n",
    "    for file in Path(path).glob(\"*.txt\"):\n",
    "        print(file)\n",
    "        with open(file) as f:\n",
    "            text = f.read()\n",
    "        chunks.extend(chunking_function(text, max_token_length))\n",
    "    return chunks"
   ]
  },
  {
   "cell_type": "code",
   "execution_count": 9,
   "id": "97676281-e343-4517-922e-c955f0fac77e",
   "metadata": {},
   "outputs": [
    {
     "name": "stdout",
     "output_type": "stream",
     "text": [
      "avrupa-yakasi/Avrupa Yakası (dizi) - Vikipedi.txt\n",
      "avrupa-yakasi/Avrupa Yakası (3. sezon) - Vikipedi.txt\n",
      "avrupa-yakasi/Avrupa Yakası bölümleri listesi - Vikipedi.txt\n",
      "avrupa-yakasi/Avrupa Yakası (4. sezon) - Vikipedi.txt\n",
      "avrupa-yakasi/Avrupa Yakası (1. sezon) - Vikipedi.txt\n",
      "avrupa-yakasi/Avrupa Yakası (6. sezon) - Vikipedi.txt\n",
      "avrupa-yakasi/Avrupa Yakası oyuncu listesi - Vikipedi.txt\n",
      "avrupa-yakasi/Avrupa Yakası (5. sezon) - Vikipedi.txt\n",
      "avrupa-yakasi/Avrupa Yakası (2. sezon) - Vikipedi.txt\n"
     ]
    }
   ],
   "source": [
    "# The function takes as input the chunking function that takes a string and max_token_length\n",
    "all_the_chunks = create_folder_chunks(path=\"avrupa-yakasi\", chunking_function=recursive_chunker, max_token_length=256)"
   ]
  },
  {
   "cell_type": "code",
   "execution_count": 10,
   "id": "581a5a2f",
   "metadata": {},
   "outputs": [
    {
     "data": {
      "text/plain": [
       "73"
      ]
     },
     "execution_count": 10,
     "metadata": {},
     "output_type": "execute_result"
    }
   ],
   "source": [
    "len(all_the_chunks) # take a look at how many chunks we would have with different max token sizes"
   ]
  },
  {
   "cell_type": "code",
   "execution_count": null,
   "id": "15bc4836-c683-44e6-8b95-0978528c40c3",
   "metadata": {},
   "outputs": [],
   "source": []
  },
  {
   "cell_type": "markdown",
   "id": "5f05e653-b6a5-454a-9148-5601d7f1f709",
   "metadata": {},
   "source": [
    "### Embedding"
   ]
  },
  {
   "cell_type": "markdown",
   "id": "b0da0561-a1b1-481d-9a13-dd7e85cac397",
   "metadata": {},
   "source": [
    "We will create an index with the embeddings of the chunks we have chunked just now. **This is the second moving part.** We can use different models from huggingface or ollama. I will demonstrate one from ollama"
   ]
  },
  {
   "cell_type": "markdown",
   "id": "481080b2-0862-46c9-8143-65ed30e9e6bc",
   "metadata": {},
   "source": [
    "#### Ollama embedding inference"
   ]
  },
  {
   "cell_type": "markdown",
   "id": "72226ab4-9c83-493c-93eb-06ab148457cd",
   "metadata": {},
   "source": [
    "Ollama have a limited selection of embedding models but they are worth trying"
   ]
  },
  {
   "cell_type": "code",
   "execution_count": 8,
   "id": "86cc17bd-d7ed-4a3a-9836-0d7e8fc48083",
   "metadata": {},
   "outputs": [],
   "source": [
    "import ollama\n",
    "embedding_model = \"bge-m3\""
   ]
  },
  {
   "cell_type": "code",
   "execution_count": 10,
   "id": "02a62e3a-6ba6-42ff-863c-7673bba6490c",
   "metadata": {},
   "outputs": [
    {
     "name": "stdout",
     "output_type": "stream",
     "text": [
      "CPU times: user 3.44 ms, sys: 1.49 ms, total: 4.93 ms\n",
      "Wall time: 748 ms\n"
     ]
    },
    {
     "data": {
      "text/plain": [
       "ProgressResponse(status='success', completed=None, total=None, digest=None)"
      ]
     },
     "execution_count": 10,
     "metadata": {},
     "output_type": "execute_result"
    }
   ],
   "source": [
    "%%time\n",
    "# pulling the model for the first time might take a little while\n",
    "ollama.pull(embedding_model)"
   ]
  },
  {
   "cell_type": "code",
   "execution_count": 12,
   "id": "09e23da0-ef89-4d05-b665-d42adba7890e",
   "metadata": {},
   "outputs": [
    {
     "name": "stdout",
     "output_type": "stream",
     "text": [
      "CPU times: user 2.91 ms, sys: 1.55 ms, total: 4.46 ms\n",
      "Wall time: 2.52 s\n"
     ]
    }
   ],
   "source": [
    "%%time\n",
    "res = ollama.embed(embedding_model, input=['Merhaba Dünya!','Hello World!'])"
   ]
  },
  {
   "cell_type": "code",
   "execution_count": 14,
   "id": "8313949a-e695-43cf-901c-d9c919aab40b",
   "metadata": {},
   "outputs": [
    {
     "name": "stdout",
     "output_type": "stream",
     "text": [
      "CPU times: user 20.2 ms, sys: 3.77 ms, total: 24 ms\n",
      "Wall time: 23.9 s\n"
     ]
    }
   ],
   "source": [
    "%%time\n",
    "all_the_embeddings = ollama.embed(embedding_model, input=all_the_chunks)"
   ]
  },
  {
   "cell_type": "code",
   "execution_count": 15,
   "id": "5720646b-9ba4-44c7-9c74-8cde7fedef08",
   "metadata": {},
   "outputs": [
    {
     "data": {
      "text/plain": [
       "73"
      ]
     },
     "execution_count": 15,
     "metadata": {},
     "output_type": "execute_result"
    }
   ],
   "source": [
    "len(all_the_embeddings.embeddings)"
   ]
  },
  {
   "cell_type": "markdown",
   "id": "bb8ee9e0-23f7-4389-8ce2-7d49ec50165a",
   "metadata": {},
   "source": [
    "### Finally the actual indexing"
   ]
  },
  {
   "cell_type": "markdown",
   "id": "ac47fe90-a14d-44f1-9377-bd6293e9e183",
   "metadata": {},
   "source": [
    "I am using a very simple faiss code that I stole directly from [here](https://cheatsheet.md/vector-database/faiss-python-api#:~:text=Sample%20Code%20for%20Basic%20FAISS%20Setup%20in%20Python)"
   ]
  },
  {
   "cell_type": "markdown",
   "id": "853e17c7-4e00-4f1b-9348-633c897ed587",
   "metadata": {},
   "source": [
    "Why am i not using a fancy vectordb? Because we don't need one for this simple of a case. Right now everything is happening on the memory."
   ]
  },
  {
   "cell_type": "code",
   "execution_count": 11,
   "id": "e65b22b0-4ff1-447a-89d4-50bcc9c7a198",
   "metadata": {},
   "outputs": [],
   "source": [
    "import faiss # while installing faiss, pay attention to whether you will run it on gpu or cpu\n",
    "# https://github.com/facebookresearch/faiss?tab=readme-ov-file#installing\n",
    "\n",
    "def create_index(embeddings):\n",
    "    # Initialize a FAISS index\n",
    "    dimension = len(embeddings[0])  # dimension of each vector\n",
    "    index = faiss.IndexFlatL2(dimension)\n",
    "     \n",
    "    index.add(embeddings)\n",
    "    return index"
   ]
  },
  {
   "cell_type": "code",
   "execution_count": 16,
   "id": "652d4012-a82c-4847-b759-bf1c7e9a7078",
   "metadata": {},
   "outputs": [],
   "source": [
    "import numpy as np\n",
    "\n",
    "index = create_index(np.array(all_the_embeddings.embeddings))"
   ]
  },
  {
   "cell_type": "code",
   "execution_count": 17,
   "id": "75a0d6ab-4d88-4ec5-8af9-cb97c14bec75",
   "metadata": {},
   "outputs": [
    {
     "data": {
      "text/plain": [
       "<faiss.swigfaiss_avx2.IndexFlatL2; proxy of <Swig Object of type 'faiss::IndexFlatL2 *' at 0x1154005a0> >"
      ]
     },
     "execution_count": 17,
     "metadata": {},
     "output_type": "execute_result"
    }
   ],
   "source": [
    "index"
   ]
  },
  {
   "cell_type": "markdown",
   "id": "ff63c943-3c4d-4457-8f90-14157a326d8a",
   "metadata": {},
   "source": [
    "## Search"
   ]
  },
  {
   "cell_type": "markdown",
   "id": "1ae81467-b85c-4ce3-9d6b-0c5ad79d3380",
   "metadata": {},
   "source": [
    "To query our index, we need to get vectors for the question. Below, index.search() calculates vector distances between the query vectors and chunk embeddings, then returns the top_k closest chunks."
   ]
  },
  {
   "cell_type": "markdown",
   "id": "f8d0a59b-d76a-48ea-9d35-7ebbed50d238",
   "metadata": {},
   "source": [
    "**This is the third moving part** of our system. We can perform a lot of tricks with the search algorithm to improve our final results."
   ]
  },
  {
   "cell_type": "code",
   "execution_count": 14,
   "id": "5965fcb4-9594-4e16-a27a-ef5a53cacf97",
   "metadata": {},
   "outputs": [],
   "source": [
    "def search(query_vector, index, top_k):\n",
    "\n",
    "    distances, indices = index.search(query_vector, top_k)\n",
    "    \n",
    "    return indices, distances"
   ]
  },
  {
   "cell_type": "code",
   "execution_count": 27,
   "id": "a8f06652-44a5-44e0-840a-0a01a89eb049",
   "metadata": {},
   "outputs": [],
   "source": [
    "example_queries = ['Tacettin karakterini kim canlandırmaktadır?', \"Bu dizinin adı ne?\"]\n",
    "query_vectors = ollama.embed(embedding_model, input=example_queries).embeddings\n",
    "\n",
    "indices, distances = search(np.array(query_vectors), index, top_k=3)"
   ]
  },
  {
   "cell_type": "code",
   "execution_count": 28,
   "id": "fc4f3225-4764-4b67-9f49-8d6b33b1eb23",
   "metadata": {},
   "outputs": [
    {
     "data": {
      "text/plain": [
       "(2, 3)"
      ]
     },
     "execution_count": 28,
     "metadata": {},
     "output_type": "execute_result"
    }
   ],
   "source": [
    "indices.shape # queries, top_k"
   ]
  },
  {
   "cell_type": "code",
   "execution_count": 29,
   "id": "f3a34955-a059-4d9d-99b6-e4a6c81925ed",
   "metadata": {},
   "outputs": [
    {
     "name": "stdout",
     "output_type": "stream",
     "text": [
      "********* Retrieved contexes for 1th question:\n",
      "#### context: 1\n",
      "Sütçüoğlu Muhallebicisi'nde daha çok görünen Sertaç rolünü Yavuz Seçkin, Tacettin rolünü Veysel Diker ve İzzet rolünü ise Timur Acar oynadı. Dizinin son bölümlerine doğru diziye konuk oyuncu olarak dahil olan fakat daha sonraki bölümlerde programın oyuncu kadrosunda yer alan Ömür Arpacı, Dursun rolü ile Avrupa Yakası'nda yer aldı.[22]\n",
      "\n",
      "\n",
      "Kapıcı ailesinindeki karakterleri ise Bihter Özdemir, Ececan Gümeci, Celal Belgil ve Şensel Uykal canlandırdı. 5. sezonda diziye katılan Gürgen Öz, kapıcı ailesinin akrabası olan Cesur'u oynadı fakat dizinin ilerleyen bölümlerinde diziden ayrıldı.\n",
      "\n",
      "#### context: 2\n",
      "Gazanfer Özcan'ın vefat etmesinden sonra diziye Özcan'ın eşi Gönül Ülkü ile Müşfik Kenter diziye Hasibe Eren'in canlandırdığı Makbule'nin anne ve babası rolleriyle katıldı.[12]\n",
      "\n",
      "\n",
      "Diziye adını veren Avrupa Yakası dergisinde çalışanlar diziye katkı sağlayan tamamlayıcı oyunculardır. Derginin editörü Fatoş 'u Şenay Gürler, modacısı Yaprak 'ı Hale Caneroğlu, çaycısı Tanrıverdi 'yi Sarp Apak, fotoğrafçısı Cem 'ı Levent Üzümcü, hissedarı Şahika 'yı Binnur Kaya, derginin patronu Sadettin 'i ise Yıldırım Öcek canlandırmaktadır.\n",
      "\n",
      "#### context: 3\n",
      "Aslı, artık 30'una dayanmıştır ve Aslı'nın annesi İffet onu evlendirmeye çalışmaktadır ama Aslı annesinin adaylarını beğenmemektedir. Aslı'nın en büyük taliplisi aile dostlarının oğulları Tacettin'dir ve birkaç kız isteme denemesinden sonra kendini Aslı'nın sözlüsü sanmaktadır. Aslı ise yeni genel müdürleri Cem'e âşıktır ve de aşkı karşılıksız değildir. Bu sırada Volkan şöhret olmanın yollarını aramakta ve bunun için en yakın arkadaşı Sertaç'ın projelerini değerlendirmektedir.\n",
      "\n",
      "\n",
      "********* Retrieved contexes for 2th question:\n",
      "#### context: 1\n",
      "Bu maddede, 2004-2009 yılları arasında atv'de yayımlanmış olan Avrupa Yakası adlı durum komedisi türündeki Türk televizyon dizisinin bölümlerinin listesi yer almaktadır.[1] Dizi, 6 sezon olup toplam 190 bölümden oluşmaktadır.\n",
      "\n",
      "#### context: 2\n",
      "İlk sezon, 11 Şubat 2004 tarihinde yayımlanmaya başlamış ve 19. bölümüyle 23 Haziran 2004 tarihinde sona ermiştir. 1. sezon toplam 19 bölümden oluşmaktadır. Aslı ve Cem'in aşkı, Volkan'ın müzik sevdası, Fatoş'un erkeklerle olan ilişkisi gibi konular 1. sezonda işlenmiştir.\n",
      "\n",
      "#### context: 3\n",
      "Durum komedisi türündeki Avrupa Yakası dizisinin 6. sezonu 163. bölümüyle 24 Eylül 2008[1] tarihinde atv'de yayımlanmaya başladı. Dizi, 24 Haziran 2009 tarihinde yayımlanan 190. bölümüyle final yaparak sona erdi. 6. sezon, toplam 28 bölümden oluşmaktadır. Plato stüdyolarında çekilen dizinin senaristliğini Gülse Birsel, yönetmenliğini ise Jale Atabey Özberk yapmaktadır.[2] Dizide ilk sezondan itibaren İffet Sütçüoğlu 'nu canlandıran Hümeyra,[3] ikinci sezondan itibaren Kubilay ve Gülenay karakterlerini canlandıran Vural Çelik,[4] diziye Sacit Kral rolü ile katılan Tolga Çevik[5] diziden ayrıldılar.\n",
      "\n",
      "\n"
     ]
    }
   ],
   "source": [
    "for i, results in enumerate(indices):\n",
    "    print(f\"********* Retrieved contexts for {i+1}th question:\")\n",
    "    for j, chunk_id in enumerate(results):\n",
    "        print(f\"#### context: {j+1}\")\n",
    "        print(all_the_chunks[chunk_id])\n",
    "        print()\n",
    "    print()"
   ]
  },
  {
   "cell_type": "markdown",
   "id": "c64faa73-8c6d-4cfe-bbaf-61b30d742ef3",
   "metadata": {},
   "source": [
    "The chunks will be the input to our generation model"
   ]
  },
  {
   "cell_type": "markdown",
   "id": "893984ee-dca8-4911-9a88-f3a27ca55975",
   "metadata": {},
   "source": [
    "## Generation"
   ]
  },
  {
   "cell_type": "markdown",
   "id": "fcfa577b-f9fb-459c-8a57-240389b6d906",
   "metadata": {},
   "source": [
    "Finally we got to the LLM part. Let's see what is so great about them."
   ]
  },
  {
   "cell_type": "markdown",
   "id": "0cf9e495-7a72-4b77-80f1-e665b06c7d2d",
   "metadata": {},
   "source": [
    "**This is the final moving part.** We can tweak with generation model, generation algorithm, generation parameters, system prompts and so on to improve scores."
   ]
  },
  {
   "cell_type": "code",
   "execution_count": 13,
   "id": "be13370b-fd4b-4a74-ba76-bcf8de1397e1",
   "metadata": {},
   "outputs": [],
   "source": [
    "# pick any one you like from https://ollama.com/search\n",
    "generation_model = \"gemma2:2b\""
   ]
  },
  {
   "cell_type": "code",
   "execution_count": 14,
   "id": "e7de90b5-8da1-4a1c-91b5-7e97bdd11746",
   "metadata": {},
   "outputs": [
    {
     "name": "stdout",
     "output_type": "stream",
     "text": [
      "CPU times: user 2.78 ms, sys: 1.46 ms, total: 4.25 ms\n",
      "Wall time: 594 ms\n"
     ]
    },
    {
     "data": {
      "text/plain": [
       "ProgressResponse(status='success', completed=None, total=None, digest=None)"
      ]
     },
     "execution_count": 14,
     "metadata": {},
     "output_type": "execute_result"
    }
   ],
   "source": [
    "%%time\n",
    "ollama.pull(generation_model)"
   ]
  },
  {
   "cell_type": "markdown",
   "id": "59fc16db-bde8-415f-90e9-ff48150b0831",
   "metadata": {},
   "source": [
    "We can display the models we have pulled so far like this:"
   ]
  },
  {
   "cell_type": "code",
   "execution_count": 15,
   "id": "7a2337c6-4e01-461d-9288-385497ef43a7",
   "metadata": {},
   "outputs": [
    {
     "data": {
      "text/plain": [
       "ListResponse(models=[Model(model='gemma2:2b', modified_at=datetime.datetime(2025, 3, 27, 18, 33, 17, 97538, tzinfo=TzInfo(+02:00)), digest='8ccf136fdd5298f3ffe2d69862750ea7fb56555fa4d5b18c04e3fa4d82ee09d7', size=1629518495, details=ModelDetails(parent_model='', format='gguf', family='gemma2', families=['gemma2'], parameter_size='2.6B', quantization_level='Q4_0')), Model(model='bge-m3:latest', modified_at=datetime.datetime(2025, 3, 27, 18, 32, 18, 161976, tzinfo=TzInfo(+02:00)), digest='7907646426070047a77226ac3e684fbbe8410524f7b4a74d02837e43f2146bab', size=1157672605, details=ModelDetails(parent_model='', format='gguf', family='bert', families=['bert'], parameter_size='566.70M', quantization_level='F16')), Model(model='deepseek-r1:7b-qwen-distill-q4_K_M', modified_at=datetime.datetime(2025, 3, 27, 2, 15, 38, 242072, tzinfo=TzInfo(+02:00)), digest='0a8c266910232fd3291e71e5ba1e058cc5af9d411192cf88b6d30e92b6e73163', size=4683075271, details=ModelDetails(parent_model='', format='gguf', family='qwen2', families=['qwen2'], parameter_size='7.6B', quantization_level='Q4_K_M')), Model(model='nomic-embed-text:latest', modified_at=datetime.datetime(2025, 2, 25, 22, 10, 16, 26492, tzinfo=TzInfo(+02:00)), digest='0a109f422b47e3a30ba2b10eca18548e944e8a23073ee3f3e947efcf3c45e59f', size=274302450, details=ModelDetails(parent_model='', format='gguf', family='nomic-bert', families=['nomic-bert'], parameter_size='137M', quantization_level='F16'))])"
      ]
     },
     "execution_count": 15,
     "metadata": {},
     "output_type": "execute_result"
    }
   ],
   "source": [
    "ollama.list()"
   ]
  },
  {
   "cell_type": "markdown",
   "id": "47f7aedc-ef4f-405b-918a-74992f9f9b78",
   "metadata": {},
   "source": [
    "This is just a regular general purpose LLM running on our hardware"
   ]
  },
  {
   "cell_type": "code",
   "execution_count": 154,
   "id": "f9a8dc8c-5551-487d-95bd-aca9f9cccfdb",
   "metadata": {},
   "outputs": [
    {
     "name": "stdout",
     "output_type": "stream",
     "text": [
      "CPU times: user 2.45 ms, sys: 687 μs, total: 3.13 ms\n",
      "Wall time: 5.33 s\n"
     ]
    }
   ],
   "source": [
    "%%time\n",
    "generation = ollama.generate(generation_model, prompt='Beşi beş kuruştan beş yumurta kaç kuruş yapar?')"
   ]
  },
  {
   "cell_type": "code",
   "execution_count": 155,
   "id": "16587912-26cd-4560-9be1-1a702c49aa39",
   "metadata": {},
   "outputs": [
    {
     "name": "stdout",
     "output_type": "stream",
     "text": [
      "Bu soru, aritmetik işlemle çözülebilir! \n",
      "\n",
      "* **Her yumurta, 1 kuruş değerinde.**\n",
      "* **Beş yumurtanın toplam değeri, 5 * 1 = 5 kuruştur.**\n",
      "\n",
      "\n",
      "**Cevap:** Beşi beş kuruştan beş yumurta **5 kuruş** yapar. 😊 \n",
      "\n"
     ]
    }
   ],
   "source": [
    "print(generation.response)"
   ]
  },
  {
   "cell_type": "markdown",
   "id": "4a6db132-0996-4b5b-8aee-23e512ec270c",
   "metadata": {},
   "source": [
    "not bad actually"
   ]
  },
  {
   "cell_type": "markdown",
   "id": "34bc6586-5157-40f4-8586-709c9589fbb7",
   "metadata": {},
   "source": [
    "Here is a function for streaming LLM response for artistic effect."
   ]
  },
  {
   "cell_type": "code",
   "execution_count": 29,
   "id": "5f07970a-99c7-476c-8083-b4a3a8c53945",
   "metadata": {},
   "outputs": [
    {
     "name": "stdout",
     "output_type": "stream",
     "text": [
      " gibi"
     ]
    },
    {
     "name": "stdout",
     "output_type": "stream",
     "text": [
      " görünü"
     ]
    },
    {
     "name": "stdout",
     "output_type": "stream",
     "text": [
      "yor"
     ]
    },
    {
     "name": "stdout",
     "output_type": "stream",
     "text": [
      "!"
     ]
    },
    {
     "name": "stdout",
     "output_type": "stream",
     "text": [
      "  "
     ]
    },
    {
     "name": "stdout",
     "output_type": "stream",
     "text": [
      "😊"
     ]
    },
    {
     "name": "stdout",
     "output_type": "stream",
     "text": [
      " "
     ]
    },
    {
     "name": "stdout",
     "output_type": "stream",
     "text": [
      "\n",
      "\n"
     ]
    },
    {
     "name": "stdout",
     "output_type": "stream",
     "text": [
      "Be"
     ]
    },
    {
     "name": "stdout",
     "output_type": "stream",
     "text": [
      "ş"
     ]
    },
    {
     "name": "stdout",
     "output_type": "stream",
     "text": [
      " kur"
     ]
    },
    {
     "name": "stdout",
     "output_type": "stream",
     "text": [
      "uş"
     ]
    },
    {
     "name": "stdout",
     "output_type": "stream",
     "text": [
      "luk"
     ]
    },
    {
     "name": "stdout",
     "output_type": "stream",
     "text": [
      " bir"
     ]
    },
    {
     "name": "stdout",
     "output_type": "stream",
     "text": [
      " değer"
     ]
    },
    {
     "name": "stdout",
     "output_type": "stream",
     "text": [
      "li"
     ]
    },
    {
     "name": "stdout",
     "output_type": "stream",
     "text": [
      " mal"
     ]
    },
    {
     "name": "stdout",
     "output_type": "stream",
     "text": [
      "ze"
     ]
    },
    {
     "name": "stdout",
     "output_type": "stream",
     "text": [
      "meden"
     ]
    },
    {
     "name": "stdout",
     "output_type": "stream",
     "text": [
      " oluşan"
     ]
    },
    {
     "name": "stdout",
     "output_type": "stream",
     "text": [
      " bir"
     ]
    },
    {
     "name": "stdout",
     "output_type": "stream",
     "text": [
      " şey"
     ]
    },
    {
     "name": "stdout",
     "output_type": "stream",
     "text": [
      "de"
     ]
    },
    {
     "name": "stdout",
     "output_type": "stream",
     "text": [
      ","
     ]
    },
    {
     "name": "stdout",
     "output_type": "stream",
     "text": [
      " bir"
     ]
    },
    {
     "name": "stdout",
     "output_type": "stream",
     "text": [
      " yum"
     ]
    },
    {
     "name": "stdout",
     "output_type": "stream",
     "text": [
      "urta"
     ]
    },
    {
     "name": "stdout",
     "output_type": "stream",
     "text": [
      " veya"
     ]
    },
    {
     "name": "stdout",
     "output_type": "stream",
     "text": [
      " yum"
     ]
    },
    {
     "name": "stdout",
     "output_type": "stream",
     "text": [
      "ur"
     ]
    },
    {
     "name": "stdout",
     "output_type": "stream",
     "text": [
      "tal"
     ]
    },
    {
     "name": "stdout",
     "output_type": "stream",
     "text": [
      "ara"
     ]
    },
    {
     "name": "stdout",
     "output_type": "stream",
     "text": [
      " ver"
     ]
    },
    {
     "name": "stdout",
     "output_type": "stream",
     "text": [
      "ile"
     ]
    },
    {
     "name": "stdout",
     "output_type": "stream",
     "text": [
      "cek"
     ]
    },
    {
     "name": "stdout",
     "output_type": "stream",
     "text": [
      " bir"
     ]
    },
    {
     "name": "stdout",
     "output_type": "stream",
     "text": [
      " işlem"
     ]
    },
    {
     "name": "stdout",
     "output_type": "stream",
     "text": [
      " olduğu"
     ]
    },
    {
     "name": "stdout",
     "output_type": "stream",
     "text": [
      " için"
     ]
    },
    {
     "name": "stdout",
     "output_type": "stream",
     "text": [
      " bu"
     ]
    },
    {
     "name": "stdout",
     "output_type": "stream",
     "text": [
      " sor"
     ]
    },
    {
     "name": "stdout",
     "output_type": "stream",
     "text": [
      "uyu"
     ]
    },
    {
     "name": "stdout",
     "output_type": "stream",
     "text": [
      " cevap"
     ]
    },
    {
     "name": "stdout",
     "output_type": "stream",
     "text": [
      "lamak"
     ]
    },
    {
     "name": "stdout",
     "output_type": "stream",
     "text": [
      " zor"
     ]
    },
    {
     "name": "stdout",
     "output_type": "stream",
     "text": [
      "."
     ]
    },
    {
     "name": "stdout",
     "output_type": "stream",
     "text": [
      " "
     ]
    },
    {
     "name": "stdout",
     "output_type": "stream",
     "text": [
      "\n",
      "\n",
      "\n"
     ]
    },
    {
     "name": "stdout",
     "output_type": "stream",
     "text": [
      "**"
     ]
    },
    {
     "name": "stdout",
     "output_type": "stream",
     "text": [
      "Bil"
     ]
    },
    {
     "name": "stdout",
     "output_type": "stream",
     "text": [
      "me"
     ]
    },
    {
     "name": "stdout",
     "output_type": "stream",
     "text": [
      "celer"
     ]
    },
    {
     "name": "stdout",
     "output_type": "stream",
     "text": [
      ":**"
     ]
    },
    {
     "name": "stdout",
     "output_type": "stream",
     "text": [
      "\n",
      "\n",
      "\n"
     ]
    },
    {
     "name": "stdout",
     "output_type": "stream",
     "text": [
      "An"
     ]
    },
    {
     "name": "stdout",
     "output_type": "stream",
     "text": [
      "cak"
     ]
    },
    {
     "name": "stdout",
     "output_type": "stream",
     "text": [
      ","
     ]
    },
    {
     "name": "stdout",
     "output_type": "stream",
     "text": [
      " bu"
     ]
    },
    {
     "name": "stdout",
     "output_type": "stream",
     "text": [
      " sor"
     ]
    },
    {
     "name": "stdout",
     "output_type": "stream",
     "text": [
      "unun"
     ]
    },
    {
     "name": "stdout",
     "output_type": "stream",
     "text": [
      " ne"
     ]
    },
    {
     "name": "stdout",
     "output_type": "stream",
     "text": [
      " kadar"
     ]
    },
    {
     "name": "stdout",
     "output_type": "stream",
     "text": [
      " basit"
     ]
    },
    {
     "name": "stdout",
     "output_type": "stream",
     "text": [
      " ol"
     ]
    },
    {
     "name": "stdout",
     "output_type": "stream",
     "text": [
      "masına"
     ]
    },
    {
     "name": "stdout",
     "output_type": "stream",
     "text": [
      " rağmen"
     ]
    },
    {
     "name": "stdout",
     "output_type": "stream",
     "text": [
      ","
     ]
    },
    {
     "name": "stdout",
     "output_type": "stream",
     "text": [
      " cev"
     ]
    },
    {
     "name": "stdout",
     "output_type": "stream",
     "text": [
      "ab"
     ]
    },
    {
     "name": "stdout",
     "output_type": "stream",
     "text": [
      "ını"
     ]
    },
    {
     "name": "stdout",
     "output_type": "stream",
     "text": [
      " bul"
     ]
    },
    {
     "name": "stdout",
     "output_type": "stream",
     "text": [
      "mak"
     ]
    },
    {
     "name": "stdout",
     "output_type": "stream",
     "text": [
      " için"
     ]
    },
    {
     "name": "stdout",
     "output_type": "stream",
     "text": [
      " biraz"
     ]
    },
    {
     "name": "stdout",
     "output_type": "stream",
     "text": [
      " düşün"
     ]
    },
    {
     "name": "stdout",
     "output_type": "stream",
     "text": [
      "mek"
     ]
    },
    {
     "name": "stdout",
     "output_type": "stream",
     "text": [
      " gerekiyor"
     ]
    },
    {
     "name": "stdout",
     "output_type": "stream",
     "text": [
      ":"
     ]
    },
    {
     "name": "stdout",
     "output_type": "stream",
     "text": [
      "\n",
      "\n",
      "\n"
     ]
    },
    {
     "name": "stdout",
     "output_type": "stream",
     "text": [
      "*"
     ]
    },
    {
     "name": "stdout",
     "output_type": "stream",
     "text": [
      " Be"
     ]
    },
    {
     "name": "stdout",
     "output_type": "stream",
     "text": [
      "şi"
     ]
    },
    {
     "name": "stdout",
     "output_type": "stream",
     "text": [
      " beş"
     ]
    },
    {
     "name": "stdout",
     "output_type": "stream",
     "text": [
      " kur"
     ]
    },
    {
     "name": "stdout",
     "output_type": "stream",
     "text": [
      "uş"
     ]
    },
    {
     "name": "stdout",
     "output_type": "stream",
     "text": [
      "tan"
     ]
    },
    {
     "name": "stdout",
     "output_type": "stream",
     "text": [
      " beş"
     ]
    },
    {
     "name": "stdout",
     "output_type": "stream",
     "text": [
      " yum"
     ]
    },
    {
     "name": "stdout",
     "output_type": "stream",
     "text": [
      "urta"
     ]
    },
    {
     "name": "stdout",
     "output_type": "stream",
     "text": [
      " kaç"
     ]
    },
    {
     "name": "stdout",
     "output_type": "stream",
     "text": [
      " kur"
     ]
    },
    {
     "name": "stdout",
     "output_type": "stream",
     "text": [
      "uş"
     ]
    },
    {
     "name": "stdout",
     "output_type": "stream",
     "text": [
      " yap"
     ]
    },
    {
     "name": "stdout",
     "output_type": "stream",
     "text": [
      "ar"
     ]
    },
    {
     "name": "stdout",
     "output_type": "stream",
     "text": [
      "?"
     ]
    },
    {
     "name": "stdout",
     "output_type": "stream",
     "text": [
      "\n"
     ]
    },
    {
     "name": "stdout",
     "output_type": "stream",
     "text": [
      "    "
     ]
    },
    {
     "name": "stdout",
     "output_type": "stream",
     "text": [
      "\n"
     ]
    },
    {
     "name": "stdout",
     "output_type": "stream",
     "text": [
      "Bu"
     ]
    },
    {
     "name": "stdout",
     "output_type": "stream",
     "text": [
      " gibi"
     ]
    },
    {
     "name": "stdout",
     "output_type": "stream",
     "text": [
      " bil"
     ]
    },
    {
     "name": "stdout",
     "output_type": "stream",
     "text": [
      "me"
     ]
    },
    {
     "name": "stdout",
     "output_type": "stream",
     "text": [
      "cel"
     ]
    },
    {
     "name": "stdout",
     "output_type": "stream",
     "text": [
      "erin"
     ]
    },
    {
     "name": "stdout",
     "output_type": "stream",
     "text": [
      " amac"
     ]
    },
    {
     "name": "stdout",
     "output_type": "stream",
     "text": [
      "ı"
     ]
    },
    {
     "name": "stdout",
     "output_type": "stream",
     "text": [
      ","
     ]
    },
    {
     "name": "stdout",
     "output_type": "stream",
     "text": [
      " kelime"
     ]
    },
    {
     "name": "stdout",
     "output_type": "stream",
     "text": [
      "leri"
     ]
    },
    {
     "name": "stdout",
     "output_type": "stream",
     "text": [
      " ve"
     ]
    },
    {
     "name": "stdout",
     "output_type": "stream",
     "text": [
      " if"
     ]
    },
    {
     "name": "stdout",
     "output_type": "stream",
     "text": [
      "adel"
     ]
    },
    {
     "name": "stdout",
     "output_type": "stream",
     "text": [
      "eri"
     ]
    },
    {
     "name": "stdout",
     "output_type": "stream",
     "text": [
      " kullan"
     ]
    },
    {
     "name": "stdout",
     "output_type": "stream",
     "text": [
      "arak"
     ]
    },
    {
     "name": "stdout",
     "output_type": "stream",
     "text": [
      " mant"
     ]
    },
    {
     "name": "stdout",
     "output_type": "stream",
     "text": [
      "ıklı"
     ]
    },
    {
     "name": "stdout",
     "output_type": "stream",
     "text": [
      " bir"
     ]
    },
    {
     "name": "stdout",
     "output_type": "stream",
     "text": [
      " şekilde"
     ]
    },
    {
     "name": "stdout",
     "output_type": "stream",
     "text": [
      " çöz"
     ]
    },
    {
     "name": "stdout",
     "output_type": "stream",
     "text": [
      "üm"
     ]
    },
    {
     "name": "stdout",
     "output_type": "stream",
     "text": [
      " bul"
     ]
    },
    {
     "name": "stdout",
     "output_type": "stream",
     "text": [
      "mam"
     ]
    },
    {
     "name": "stdout",
     "output_type": "stream",
     "text": [
      "ızı"
     ]
    },
    {
     "name": "stdout",
     "output_type": "stream",
     "text": [
      " sağ"
     ]
    },
    {
     "name": "stdout",
     "output_type": "stream",
     "text": [
      "lamak"
     ]
    },
    {
     "name": "stdout",
     "output_type": "stream",
     "text": [
      "."
     ]
    },
    {
     "name": "stdout",
     "output_type": "stream",
     "text": [
      " "
     ]
    },
    {
     "name": "stdout",
     "output_type": "stream",
     "text": [
      "\n",
      "\n"
     ]
    },
    {
     "name": "stdout",
     "output_type": "stream",
     "text": [
      "**"
     ]
    },
    {
     "name": "stdout",
     "output_type": "stream",
     "text": [
      "Baş"
     ]
    },
    {
     "name": "stdout",
     "output_type": "stream",
     "text": [
      "arı"
     ]
    },
    {
     "name": "stdout",
     "output_type": "stream",
     "text": [
      "lar"
     ]
    },
    {
     "name": "stdout",
     "output_type": "stream",
     "text": [
      "!"
     ]
    },
    {
     "name": "stdout",
     "output_type": "stream",
     "text": [
      "**"
     ]
    },
    {
     "name": "stdout",
     "output_type": "stream",
     "text": [
      "  "
     ]
    },
    {
     "name": "stdout",
     "output_type": "stream",
     "text": [
      "🙌"
     ]
    },
    {
     "name": "stdout",
     "output_type": "stream",
     "text": [
      " "
     ]
    },
    {
     "name": "stdout",
     "output_type": "stream",
     "text": [
      "\n"
     ]
    }
   ],
   "source": [
    "def generate_answer(model, prompt, generation_kwargs):\n",
    "    for chunk in ollama.generate(generation_model, prompt=prompt, stream=True, options=generation_kwargs):\n",
    "      print(chunk[\"response\"], end='', flush=True)"
   ]
  },
  {
   "cell_type": "code",
   "execution_count": 30,
   "id": "0376f7dc-a3d2-4517-a104-9a42d533d325",
   "metadata": {},
   "outputs": [
    {
     "name": "stdout",
     "output_type": "stream",
     "text": [
      "Retrieval-Augmented Generation (RAG),  **bilgi tabanlı sistemlerin yapay zekâ tarafından üretilip, o bilgileri içeren özetler oluşturması için bir yöntemdir.** \n",
      "\n",
      "* **Geri Call:** Öncelikle sistem bilgisini **dahili bilgi bankasına** yani \"retrieval\" ile bağlar. Bu bilgi bankası, büyük miktarda bilgiyi tutar ve bu bilgileri kullanarak sorgulamalarını destekleyebilir.\n",
      "* **Yapay Zeka Üretimi:** Sonra o bilgi bankasına dayalı olarak yapay zeka algoritması tarafından bir özet oluşturulur.\n",
      "\n",
      "**Sonuç:** RAG, hem bilgi birikimini hem de yapay zekânın yaratıcılığını birleştirerek daha akıllı ve doğru cevaplar üretebilir. \n",
      "\n",
      "\n",
      "Örneğin, bir müşteri talepte bulunan ürün hakkında bilgiyi bulmak için RAG kullanabilirsiniz: \n",
      "\n",
      "1. **Talep:** \"Bir otomobil satın almak istiyorum, ancak en az 200 km mesafeyle hareket edebilen bir model istiyor\"\n",
      "2. **Geri Call:** Sistem bilgisini bu talep üzerine otomatik olarak araştırarak, otomobil modellerinin özelliklerini ve mesafelerini karşılayan öneriler sunar.\n",
      "3. **Yapay Zeka Üretimi:** Yapay zekâ algoritması bu bilgileri kullanarak müşterinin isteğine uygun en iyi ürün önerilerini oluşturabilir.\n",
      "\n",
      "\n",
      "RAG, bu şekilde daha akıllı, hızlı ve verimli bir çözümdür. \n"
     ]
    }
   ],
   "source": [
    "generate_answer(generation_model, \"Retrieval Augmented Generation nedir? çok kısaca açıkla\", None)"
   ]
  },
  {
   "cell_type": "code",
   "execution_count": null,
   "id": "0300b69d-ef42-4498-bf46-eccee2626618",
   "metadata": {},
   "outputs": [],
   "source": []
  },
  {
   "cell_type": "markdown",
   "id": "bd125b99-6cc6-46d3-a7a1-0c621329be34",
   "metadata": {
    "jp-MarkdownHeadingCollapsed": true
   },
   "source": [
    "## Putting it all together"
   ]
  },
  {
   "cell_type": "code",
   "execution_count": 17,
   "id": "3bb50a66-b066-42f3-8e4e-2b9c2cac69b2",
   "metadata": {},
   "outputs": [],
   "source": [
    "def _form_prompt(question, contexts): # this is arbitrary, you will optimize this\n",
    "    contexts_input = \"\\n\"\n",
    "    for i, context in enumerate(contexts):\n",
    "        contexts_input += f\"Context{i+1}: {context}\\n\"\n",
    "\n",
    "    prompt = \"\"\"You are a state of the art question answering model. \n",
    "Given a query and context, you will generate an accurate and complete answer.\n",
    "You will generate your answer in turkish.\n",
    "The contexts and question are as follows:\n",
    "Question: {question}\n",
    "Contexts: {contexts}\n",
    "\"\"\".format(question=question, contexts=contexts_input)\n",
    "\n",
    "    return prompt\n",
    "\n",
    "def get_RAG_answer(query, embedding_model, generation_model, chunks, index, params):\n",
    "    query_vector = ollama.embed(embedding_model, query).embeddings\n",
    "    chunk_indices, _ = search(np.array(query_vector), index, params[\"top_k\"])\n",
    "    contexts = np.array(chunks)[chunk_indices[0]]\n",
    "    prompt = _form_prompt(query, contexts)\n",
    "\n",
    "    generate_answer(generation_model, prompt, params[\"generation_kwargs\"])\n",
    "    "
   ]
  },
  {
   "cell_type": "code",
   "execution_count": 38,
   "id": "ebfe8dce-4dc8-48e8-85fd-077e487eb316",
   "metadata": {},
   "outputs": [
    {
     "name": "stdout",
     "output_type": "stream",
     "text": [
      "Fatoş, Avrupa Yakası dergisinin editörü olarak görev yapıyor. \n"
     ]
    }
   ],
   "source": [
    "params = {\n",
    "    \"top_k\": 3,\n",
    "    \"generation_kwargs\": {\n",
    "        \"top_k\": None,\n",
    "        \"top_p\": 0.8,\n",
    "        \"temperature\": 0.7,\n",
    "    }\n",
    "}\n",
    "\n",
    "get_RAG_answer(\"Fatoş'un dergideki görevi nedir?\", embedding_model, generation_model, all_the_chunks, index, params)\n"
   ]
  },
  {
   "cell_type": "markdown",
   "id": "161e0aaf-b835-45a9-a8cf-33c8688121ac",
   "metadata": {},
   "source": [
    "___"
   ]
  },
  {
   "cell_type": "markdown",
   "id": "fc3efb58-3f86-49f2-b740-4a861b87c670",
   "metadata": {},
   "source": [
    "We have done it! We have done 1 RAG, now it is time to make it better and better"
   ]
  },
  {
   "cell_type": "markdown",
   "id": "086c6d4e-72a6-48eb-9a4f-91a7a0dc95d9",
   "metadata": {},
   "source": [
    "# Benchmarking"
   ]
  },
  {
   "cell_type": "markdown",
   "id": "0945ea76-f60b-4a10-a692-3381a9e0afe7",
   "metadata": {},
   "source": [
    "First step on making something better is to measure its goodness. We will use our evaluation set to benchmark our experments"
   ]
  },
  {
   "cell_type": "code",
   "execution_count": 18,
   "id": "38975d5d-b7a4-4590-8825-c2f5c6ff5b20",
   "metadata": {
    "scrolled": true
   },
   "outputs": [
    {
     "data": {
      "text/html": [
       "<div>\n",
       "<style scoped>\n",
       "    .dataframe tbody tr th:only-of-type {\n",
       "        vertical-align: middle;\n",
       "    }\n",
       "\n",
       "    .dataframe tbody tr th {\n",
       "        vertical-align: top;\n",
       "    }\n",
       "\n",
       "    .dataframe thead th {\n",
       "        text-align: right;\n",
       "    }\n",
       "</style>\n",
       "<table border=\"1\" class=\"dataframe\">\n",
       "  <thead>\n",
       "    <tr style=\"text-align: right;\">\n",
       "      <th></th>\n",
       "      <th>question</th>\n",
       "      <th>A</th>\n",
       "      <th>B</th>\n",
       "      <th>C</th>\n",
       "      <th>D</th>\n",
       "      <th>answer</th>\n",
       "    </tr>\n",
       "  </thead>\n",
       "  <tbody>\n",
       "    <tr>\n",
       "      <th>0</th>\n",
       "      <td>When did the first season of \"Avrupa Yakası\" air?</td>\n",
       "      <td>A) 2002-2003</td>\n",
       "      <td>B) 2003-2004</td>\n",
       "      <td>C) 2004-2005</td>\n",
       "      <td>D) 2005-2006</td>\n",
       "      <td>C</td>\n",
       "    </tr>\n",
       "    <tr>\n",
       "      <th>1</th>\n",
       "      <td>How many episodes does the second season of \"Avrupa Yakası\" contain?</td>\n",
       "      <td>A) 19</td>\n",
       "      <td>B) 32</td>\n",
       "      <td>C) 39</td>\n",
       "      <td>D) 28</td>\n",
       "      <td>C</td>\n",
       "    </tr>\n",
       "    <tr>\n",
       "      <th>2</th>\n",
       "      <td>Which season introduced the character Şahika?</td>\n",
       "      <td>A) Third Season</td>\n",
       "      <td>B) Fourth Season</td>\n",
       "      <td>C) Fifth Season</td>\n",
       "      <td>D) Sixth Season</td>\n",
       "      <td>C</td>\n",
       "    </tr>\n",
       "    <tr>\n",
       "      <th>3</th>\n",
       "      <td>Which character did Binnur Kaya play in the sixth season of \"Avrupa Yakası\"?</td>\n",
       "      <td>A) İffet Sütçüoğlu</td>\n",
       "      <td>B) Dilber Hala</td>\n",
       "      <td>C) Aslı</td>\n",
       "      <td>D) Makbule</td>\n",
       "      <td>B</td>\n",
       "    </tr>\n",
       "    <tr>\n",
       "      <th>4</th>\n",
       "      <td>How many total episodes does the \"Avrupa Yakası\" series have?</td>\n",
       "      <td>A) 132</td>\n",
       "      <td>B) 150</td>\n",
       "      <td>C) 190</td>\n",
       "      <td>D) 200</td>\n",
       "      <td>C</td>\n",
       "    </tr>\n",
       "    <tr>\n",
       "      <th>5</th>\n",
       "      <td>Who was the director for the majority of the \"Avrupa Yakası\" series?</td>\n",
       "      <td>A) Sinan Çetin</td>\n",
       "      <td>B) Gülse Birsel</td>\n",
       "      <td>C) Jale Atabey Özberk</td>\n",
       "      <td>D) Hakan Algül</td>\n",
       "      <td>C</td>\n",
       "    </tr>\n",
       "    <tr>\n",
       "      <th>6</th>\n",
       "      <td>Which actor played the character of Cem throughout the series?</td>\n",
       "      <td>A) Ata Demirer</td>\n",
       "      <td>B) Levent Üzümcü</td>\n",
       "      <td>C) Engin Günaydın</td>\n",
       "      <td>D) Yıldırım Öcek</td>\n",
       "      <td>B</td>\n",
       "    </tr>\n",
       "    <tr>\n",
       "      <th>7</th>\n",
       "      <td>In which season did Engin Günaydın join the cast of \"Avrupa Yakası\"?</td>\n",
       "      <td>A) First</td>\n",
       "      <td>B) Second</td>\n",
       "      <td>C) Third</td>\n",
       "      <td>D) Fourth</td>\n",
       "      <td>C</td>\n",
       "    </tr>\n",
       "    <tr>\n",
       "      <th>8</th>\n",
       "      <td>What was the main setting of \"Avrupa Yakası\"?</td>\n",
       "      <td>A) An office building</td>\n",
       "      <td>B) A suburban neighborhood</td>\n",
       "      <td>C) A family residence</td>\n",
       "      <td>D) A magazine office</td>\n",
       "      <td>C</td>\n",
       "    </tr>\n",
       "    <tr>\n",
       "      <th>9</th>\n",
       "      <td>Which character tried to marry Aslı in the first season?</td>\n",
       "      <td>A) Cem</td>\n",
       "      <td>B) Volkan</td>\n",
       "      <td>C) Tacettin</td>\n",
       "      <td>D) Sertaç</td>\n",
       "      <td>C</td>\n",
       "    </tr>\n",
       "    <tr>\n",
       "      <th>10</th>\n",
       "      <td>Who was the producer of \"Avrupa Yakası\"?</td>\n",
       "      <td>A) Gülse Birsel</td>\n",
       "      <td>B) Sinan Çetin</td>\n",
       "      <td>C) Şenay Gürler</td>\n",
       "      <td>D) Jale Atabey Özberk</td>\n",
       "      <td>B</td>\n",
       "    </tr>\n",
       "    <tr>\n",
       "      <th>11</th>\n",
       "      <td>Which character did Peker Açıkalın play starting from the fourth season?</td>\n",
       "      <td>A) Sacit</td>\n",
       "      <td>B) Burhan</td>\n",
       "      <td>C) Kubilay</td>\n",
       "      <td>D) Volkan</td>\n",
       "      <td>A</td>\n",
       "    </tr>\n",
       "    <tr>\n",
       "      <th>12</th>\n",
       "      <td>What significant change occurred in the cast in the third season?</td>\n",
       "      <td>A) Introduction of the character Aslı</td>\n",
       "      <td>B) Departure of the character Cem</td>\n",
       "      <td>C) Introduction of the character Burhan</td>\n",
       "      <td>D) Departure of the character Sertaç</td>\n",
       "      <td>C</td>\n",
       "    </tr>\n",
       "    <tr>\n",
       "      <th>13</th>\n",
       "      <td>Which season ended with Cem and Aslı getting married?</td>\n",
       "      <td>A) First</td>\n",
       "      <td>B) Second</td>\n",
       "      <td>C) Third</td>\n",
       "      <td>D) Fourth</td>\n",
       "      <td>C</td>\n",
       "    </tr>\n",
       "    <tr>\n",
       "      <th>14</th>\n",
       "      <td>How did the fourth season of \"Avrupa Yakası\" conclude?</td>\n",
       "      <td>A) With Aslı and Osman's wedding</td>\n",
       "      <td>B) With a holiday trip</td>\n",
       "      <td>C) With a season-ending party</td>\n",
       "      <td>D) None of the above</td>\n",
       "      <td>D</td>\n",
       "    </tr>\n",
       "    <tr>\n",
       "      <th>15</th>\n",
       "      <td>What is the total number of seasons for \"Avrupa Yakası\"?</td>\n",
       "      <td>A) Four</td>\n",
       "      <td>B) Five</td>\n",
       "      <td>C) Six</td>\n",
       "      <td>D) Seven</td>\n",
       "      <td>C</td>\n",
       "    </tr>\n",
       "    <tr>\n",
       "      <th>16</th>\n",
       "      <td>Which character did Binnur Kaya add in the fifth season?</td>\n",
       "      <td>A) İffet</td>\n",
       "      <td>B) Şahika</td>\n",
       "      <td>C) Selin</td>\n",
       "      <td>D) Yaprak</td>\n",
       "      <td>B</td>\n",
       "    </tr>\n",
       "    <tr>\n",
       "      <th>17</th>\n",
       "      <td>Which character is known for multiple roles throughout the series, including a season where they played two characters at once?</td>\n",
       "      <td>A) Ata Demirer</td>\n",
       "      <td>B) Engin Günaydın</td>\n",
       "      <td>C) Binnur Kaya</td>\n",
       "      <td>D) Levent Üzümcü</td>\n",
       "      <td>C</td>\n",
       "    </tr>\n",
       "    <tr>\n",
       "      <th>18</th>\n",
       "      <td>What role did Rutkay Aziz portray in the series?</td>\n",
       "      <td>A) Cem's father</td>\n",
       "      <td>B) Aslı's father</td>\n",
       "      <td>C) Volkan's father</td>\n",
       "      <td>D) None of the above</td>\n",
       "      <td>A</td>\n",
       "    </tr>\n",
       "    <tr>\n",
       "      <th>19</th>\n",
       "      <td>Which character was played by Hasibe Eren?</td>\n",
       "      <td>A) Aslı</td>\n",
       "      <td>B) Makbule</td>\n",
       "      <td>C) İffet</td>\n",
       "      <td>D) Şahika</td>\n",
       "      <td>B</td>\n",
       "    </tr>\n",
       "    <tr>\n",
       "      <th>20</th>\n",
       "      <td>Avrupa Yakası dizisinin ilk sezonu kaç bölüm sürmüştür?</td>\n",
       "      <td>A) 15</td>\n",
       "      <td>B) 19</td>\n",
       "      <td>C) 22</td>\n",
       "      <td>D) 25</td>\n",
       "      <td>B</td>\n",
       "    </tr>\n",
       "    <tr>\n",
       "      <th>21</th>\n",
       "      <td>Dizinin beşinci sezonunda yeni katılan karakterlerden biri olan Şahika'yı hangi oyuncu canlandırmıştır?</td>\n",
       "      <td>A) Hasibe Eren</td>\n",
       "      <td>B) Binnur Kaya</td>\n",
       "      <td>C) Şenay Gürler</td>\n",
       "      <td>D) Hümeyra</td>\n",
       "      <td>B</td>\n",
       "    </tr>\n",
       "    <tr>\n",
       "      <th>22</th>\n",
       "      <td>Dizinin altıncı sezonunda Binnur Kaya hangi iki karakteri canlandırmıştır?</td>\n",
       "      <td>A) Şahika ve Dilber Hala</td>\n",
       "      <td>B) Aslı ve İffet</td>\n",
       "      <td>C) Makbule ve Şahika</td>\n",
       "      <td>D) Dilber Hala ve Makbule</td>\n",
       "      <td>A</td>\n",
       "    </tr>\n",
       "    <tr>\n",
       "      <th>23</th>\n",
       "      <td>Dizinin kaçıncı sezonunda Volkan karakteri askere gitmiştir?</td>\n",
       "      <td>A) İkinci</td>\n",
       "      <td>B) Üçüncü</td>\n",
       "      <td>C) Dördüncü</td>\n",
       "      <td>D) Beşinci</td>\n",
       "      <td>B</td>\n",
       "    </tr>\n",
       "    <tr>\n",
       "      <th>24</th>\n",
       "      <td>Avrupa Yakası dizisinin toplam kaç sezon sürdüğü belirtilmiştir?</td>\n",
       "      <td>A) 4</td>\n",
       "      <td>B) 5</td>\n",
       "      <td>C) 6</td>\n",
       "      <td>D) 7</td>\n",
       "      <td>C</td>\n",
       "    </tr>\n",
       "    <tr>\n",
       "      <th>25</th>\n",
       "      <td>Dizinin altıncı sezonunda, diziden ayrılan hangi oyuncu sezon içerisinde diziye geri dönmüştür?</td>\n",
       "      <td>A) Rutkay Aziz</td>\n",
       "      <td>B) Hümeyra</td>\n",
       "      <td>C) Vural Çelik</td>\n",
       "      <td>D) Ata Demirer</td>\n",
       "      <td>A</td>\n",
       "    </tr>\n",
       "    <tr>\n",
       "      <th>26</th>\n",
       "      <td>Dizideki Sütçüoğlu ailesinin babası karakterini canlandıran oyuncu kimdir?</td>\n",
       "      <td>A) Engin Günaydın</td>\n",
       "      <td>B) Gazanfer Özcan</td>\n",
       "      <td>C) Yıldırım Öcek</td>\n",
       "      <td>D) Rutkay Aziz</td>\n",
       "      <td>B</td>\n",
       "    </tr>\n",
       "    <tr>\n",
       "      <th>27</th>\n",
       "      <td>Beşinci sezonda diziye katılan ve daha sonra ayrılan, kapıcı ailesinin bir üyesi olan Cesur karakterini kim oynamıştır?</td>\n",
       "      <td>A) Gürgen Öz</td>\n",
       "      <td>B) Vural Çelik</td>\n",
       "      <td>C) Yavuz Seçkin</td>\n",
       "      <td>D) Engin Günaydın</td>\n",
       "      <td>A</td>\n",
       "    </tr>\n",
       "    <tr>\n",
       "      <th>28</th>\n",
       "      <td>Dizide \"Avrupa Yakası\" dergisinin editörü olan karakterin adı nedir?</td>\n",
       "      <td>A) Fatoş</td>\n",
       "      <td>B) Aslı</td>\n",
       "      <td>C) Yaprak</td>\n",
       "      <td>D) Makbule</td>\n",
       "      <td>A</td>\n",
       "    </tr>\n",
       "    <tr>\n",
       "      <th>29</th>\n",
       "      <td>Dizinin final bölümü hangi tarihte yayımlanmıştır?</td>\n",
       "      <td>A) 24 Haziran 2007</td>\n",
       "      <td>B) 24 Haziran 2008</td>\n",
       "      <td>C) 24 Haziran 2009</td>\n",
       "      <td>D) 24 Haziran 2010</td>\n",
       "      <td>C</td>\n",
       "    </tr>\n",
       "    <tr>\n",
       "      <th>30</th>\n",
       "      <td>İlk sezonda, Aslı'nın annesi İffet tarafından evlendirilmeye çalışılan karakterin adı nedir?</td>\n",
       "      <td>A) Cem</td>\n",
       "      <td>B) Volkan</td>\n",
       "      <td>C) Tacettin</td>\n",
       "      <td>D) Sertaç</td>\n",
       "      <td>C</td>\n",
       "    </tr>\n",
       "    <tr>\n",
       "      <th>31</th>\n",
       "      <td>Dizinin yapımcısı kimdir?</td>\n",
       "      <td>A) Gülse Birsel</td>\n",
       "      <td>B) Sinan Çetin</td>\n",
       "      <td>C) Şenay Gürler</td>\n",
       "      <td>D) Jale Atabey Özberk</td>\n",
       "      <td>B</td>\n",
       "    </tr>\n",
       "    <tr>\n",
       "      <th>32</th>\n",
       "      <td>Dizide Fatoş karakterini canlandıran oyuncu kimdir?</td>\n",
       "      <td>A) Hasibe Eren</td>\n",
       "      <td>B) Şenay Gürler</td>\n",
       "      <td>C) Hümeyra</td>\n",
       "      <td>D) Binnur Kaya</td>\n",
       "      <td>B</td>\n",
       "    </tr>\n",
       "    <tr>\n",
       "      <th>33</th>\n",
       "      <td>Dizinin hangi sezonda piyasaya yeni çıkan iPhone hakkında yan konular işlenmiştir?</td>\n",
       "      <td>A) Dördüncü</td>\n",
       "      <td>B) Beşinci</td>\n",
       "      <td>C) Altıncı</td>\n",
       "      <td>D) Yedinci</td>\n",
       "      <td>C</td>\n",
       "    </tr>\n",
       "    <tr>\n",
       "      <th>34</th>\n",
       "      <td>Dizinin hangi sezonunda Volkan, askerden dönerek diziye geri katılmıştır?</td>\n",
       "      <td>A) Üçüncü</td>\n",
       "      <td>B) Dördüncü</td>\n",
       "      <td>C) Beşinci</td>\n",
       "      <td>D) Altıncı</td>\n",
       "      <td>D</td>\n",
       "    </tr>\n",
       "    <tr>\n",
       "      <th>35</th>\n",
       "      <td>Dizinin altıncı sezonunda hangi ünlü karakter, iki karakteri aynı anda canlandırmıştır?</td>\n",
       "      <td>A) Ata Demirer</td>\n",
       "      <td>B) Engin Günaydın</td>\n",
       "      <td>C) Binnur Kaya</td>\n",
       "      <td>D) Levent Üzümcü</td>\n",
       "      <td>A</td>\n",
       "    </tr>\n",
       "    <tr>\n",
       "      <th>36</th>\n",
       "      <td>Dizinin beşinci sezonunda hangi karakter Burhan ile birlikte kaçmıştır?</td>\n",
       "      <td>A) İffet</td>\n",
       "      <td>B) Şahika</td>\n",
       "      <td>C) Selin</td>\n",
       "      <td>D) Makbule</td>\n",
       "      <td>D</td>\n",
       "    </tr>\n",
       "    <tr>\n",
       "      <th>37</th>\n",
       "      <td>Dizide Sütçüoğlu Muhallebicisi'nde sık görülen karakterlerden biri olan Sertaç'ı kim oynamıştır?</td>\n",
       "      <td>A) Gürgen Öz</td>\n",
       "      <td>B) Vural Çelik</td>\n",
       "      <td>C) Yavuz Seçkin</td>\n",
       "      <td>D) Engin Günaydın</td>\n",
       "      <td>C</td>\n",
       "    </tr>\n",
       "    <tr>\n",
       "      <th>38</th>\n",
       "      <td>Dizinin senaryosunu kim yazmıştır?</td>\n",
       "      <td>A) Sinan Çetin</td>\n",
       "      <td>B) Şenay Gürler</td>\n",
       "      <td>C) Gülse Birsel</td>\n",
       "      <td>D) Jale Atabey Özberk</td>\n",
       "      <td>C</td>\n",
       "    </tr>\n",
       "    <tr>\n",
       "      <th>39</th>\n",
       "      <td>Avrupa Yakası dizisi toplam kaç bölümden oluşmaktadır?</td>\n",
       "      <td>A) 150</td>\n",
       "      <td>B) 175</td>\n",
       "      <td>C) 190</td>\n",
       "      <td>D) 200</td>\n",
       "      <td>C</td>\n",
       "    </tr>\n",
       "    <tr>\n",
       "      <th>40</th>\n",
       "      <td>Dizinin üçüncü sezonunda, Sütçüoğlu ailesinin hangi üyesi dergi ofisinde idare müdürü olarak işe başlamıştır?</td>\n",
       "      <td>A) Volkan</td>\n",
       "      <td>B) Aslı</td>\n",
       "      <td>C) Burhan</td>\n",
       "      <td>D) Tacettin</td>\n",
       "      <td>C</td>\n",
       "    </tr>\n",
       "    <tr>\n",
       "      <th>41</th>\n",
       "      <td>Dizinin beşinci sezonunda, hangi karakter yılbaşı bölümünden sonra performansından memnun olunmadığı için ayrılmıştır?</td>\n",
       "      <td>A) Cesur</td>\n",
       "      <td>B) Gülenay</td>\n",
       "      <td>C) Kubilay</td>\n",
       "      <td>D) Makbule</td>\n",
       "      <td>A</td>\n",
       "    </tr>\n",
       "    <tr>\n",
       "      <th>42</th>\n",
       "      <td>Altıncı sezonun ilk üç bölümünde hangi karakterin repliği kaldırılarak yerine Ata Demirer'in Zeki Müren tonlamasında replik getirilmiştir?</td>\n",
       "      <td>A) Vural Çelik</td>\n",
       "      <td>B) Engin Günaydın</td>\n",
       "      <td>C) Yıldırım Öcek</td>\n",
       "      <td>D) Sarp Apak</td>\n",
       "      <td>A</td>\n",
       "    </tr>\n",
       "    <tr>\n",
       "      <th>43</th>\n",
       "      <td>Dizinin altıncı sezonunda, Gazanfer Özcan'ın vefatı sonrası diziye katılan iki yeni karakter kimlerdir?</td>\n",
       "      <td>A) Müşfik Kenter ve Gönül Ülkü</td>\n",
       "      <td>B) Rutkay Aziz ve Suna Keskin</td>\n",
       "      <td>C) Yıldırım Öcek ve Şenay Gürler</td>\n",
       "      <td>D) Peker Açıkalın ve Hasibe Eren</td>\n",
       "      <td>A</td>\n",
       "    </tr>\n",
       "    <tr>\n",
       "      <th>44</th>\n",
       "      <td>Dizinin dördüncü sezonunda, Fatoş ile hangi karakter arasında aşk başlamıştır?</td>\n",
       "      <td>A) Tanrıverdi</td>\n",
       "      <td>B) Cem</td>\n",
       "      <td>C) Kubilay</td>\n",
       "      <td>D) Tacettin</td>\n",
       "      <td>A</td>\n",
       "    </tr>\n",
       "    <tr>\n",
       "      <th>45</th>\n",
       "      <td>Volkan'ın şöhret olma tutkusu hangi sezonda yoğunluk kazanmıştır?</td>\n",
       "      <td>A) İkinci</td>\n",
       "      <td>B) Üçüncü</td>\n",
       "      <td>C) Dördüncü</td>\n",
       "      <td>D) Beşinci</td>\n",
       "      <td>A</td>\n",
       "    </tr>\n",
       "    <tr>\n",
       "      <th>46</th>\n",
       "      <td>Beşinci sezonda, Burhan Altıntop hangi popüler Türk televizyon programına katılmıştır?</td>\n",
       "      <td>A) Survivor</td>\n",
       "      <td>B) Var mısın Yok musun</td>\n",
       "      <td>C) Kim Milyoner Olmak İster</td>\n",
       "      <td>D) Yetenek Sizsiniz</td>\n",
       "      <td>B</td>\n",
       "    </tr>\n",
       "    <tr>\n",
       "      <th>47</th>\n",
       "      <td>Dizinin altıncı sezonunda, Dilber Hala karakterinin Adana Demirspor taraftarları tarafından nasıl bir jest yapılmıştır?</td>\n",
       "      <td>A) Forma hediye edilmesi</td>\n",
       "      <td>B) Pankart açılması</td>\n",
       "      <td>C) Maçta özel şarkı söylenmesi</td>\n",
       "      <td>D) Onuruna özel maç düzenlenmesi</td>\n",
       "      <td>B</td>\n",
       "    </tr>\n",
       "    <tr>\n",
       "      <th>48</th>\n",
       "      <td>Dizinin altıncı sezonunda, iPhone'un tanıtım amaçlı dağıtılması hangi bölümde işlenmiştir?</td>\n",
       "      <td>A) İlk bölüm</td>\n",
       "      <td>B) Üçüncü bölüm</td>\n",
       "      <td>C) Dördüncü bölüm</td>\n",
       "      <td>D) Beşinci bölüm</td>\n",
       "      <td>C</td>\n",
       "    </tr>\n",
       "    <tr>\n",
       "      <th>49</th>\n",
       "      <td>Avrupa Yakası dizisinde, Volkan karakterinin askere gitmesi hangi şehirde gerçekleşmiştir?</td>\n",
       "      <td>A) İstanbul</td>\n",
       "      <td>B) Trabzon</td>\n",
       "      <td>C) Bursa</td>\n",
       "      <td>D) Adana</td>\n",
       "      <td>B</td>\n",
       "    </tr>\n",
       "  </tbody>\n",
       "</table>\n",
       "</div>"
      ],
      "text/plain": [
       "                                                                                                                                       question  \\\n",
       "0                                                                                            When did the first season of \"Avrupa Yakası\" air?    \n",
       "1                                                                         How many episodes does the second season of \"Avrupa Yakası\" contain?    \n",
       "2                                                                                                Which season introduced the character Şahika?    \n",
       "3                                                                 Which character did Binnur Kaya play in the sixth season of \"Avrupa Yakası\"?    \n",
       "4                                                                                How many total episodes does the \"Avrupa Yakası\" series have?    \n",
       "5                                                                         Who was the director for the majority of the \"Avrupa Yakası\" series?    \n",
       "6                                                                               Which actor played the character of Cem throughout the series?    \n",
       "7                                                                         In which season did Engin Günaydın join the cast of \"Avrupa Yakası\"?    \n",
       "8                                                                                                What was the main setting of \"Avrupa Yakası\"?    \n",
       "9                                                                                     Which character tried to marry Aslı in the first season?    \n",
       "10                                                                                                    Who was the producer of \"Avrupa Yakası\"?    \n",
       "11                                                                    Which character did Peker Açıkalın play starting from the fourth season?    \n",
       "12                                                                           What significant change occurred in the cast in the third season?    \n",
       "13                                                                                       Which season ended with Cem and Aslı getting married?    \n",
       "14                                                                                      How did the fourth season of \"Avrupa Yakası\" conclude?    \n",
       "15                                                                                    What is the total number of seasons for \"Avrupa Yakası\"?    \n",
       "16                                                                                    Which character did Binnur Kaya add in the fifth season?    \n",
       "17             Which character is known for multiple roles throughout the series, including a season where they played two characters at once?    \n",
       "18                                                                                            What role did Rutkay Aziz portray in the series?    \n",
       "19                                                                                                  Which character was played by Hasibe Eren?    \n",
       "20                                                                                     Avrupa Yakası dizisinin ilk sezonu kaç bölüm sürmüştür?    \n",
       "21                                     Dizinin beşinci sezonunda yeni katılan karakterlerden biri olan Şahika'yı hangi oyuncu canlandırmıştır?    \n",
       "22                                                                  Dizinin altıncı sezonunda Binnur Kaya hangi iki karakteri canlandırmıştır?    \n",
       "23                                                                                Dizinin kaçıncı sezonunda Volkan karakteri askere gitmiştir?    \n",
       "24                                                                            Avrupa Yakası dizisinin toplam kaç sezon sürdüğü belirtilmiştir?    \n",
       "25                                             Dizinin altıncı sezonunda, diziden ayrılan hangi oyuncu sezon içerisinde diziye geri dönmüştür?    \n",
       "26                                                                  Dizideki Sütçüoğlu ailesinin babası karakterini canlandıran oyuncu kimdir?    \n",
       "27                     Beşinci sezonda diziye katılan ve daha sonra ayrılan, kapıcı ailesinin bir üyesi olan Cesur karakterini kim oynamıştır?    \n",
       "28                                                                        Dizide \"Avrupa Yakası\" dergisinin editörü olan karakterin adı nedir?    \n",
       "29                                                                                          Dizinin final bölümü hangi tarihte yayımlanmıştır?    \n",
       "30                                                İlk sezonda, Aslı'nın annesi İffet tarafından evlendirilmeye çalışılan karakterin adı nedir?    \n",
       "31                                                                                                                   Dizinin yapımcısı kimdir?    \n",
       "32                                                                                         Dizide Fatoş karakterini canlandıran oyuncu kimdir?    \n",
       "33                                                          Dizinin hangi sezonda piyasaya yeni çıkan iPhone hakkında yan konular işlenmiştir?    \n",
       "34                                                                   Dizinin hangi sezonunda Volkan, askerden dönerek diziye geri katılmıştır?    \n",
       "35                                                     Dizinin altıncı sezonunda hangi ünlü karakter, iki karakteri aynı anda canlandırmıştır?    \n",
       "36                                                                     Dizinin beşinci sezonunda hangi karakter Burhan ile birlikte kaçmıştır?    \n",
       "37                                            Dizide Sütçüoğlu Muhallebicisi'nde sık görülen karakterlerden biri olan Sertaç'ı kim oynamıştır?    \n",
       "38                                                                                                          Dizinin senaryosunu kim yazmıştır?    \n",
       "39                                                                                      Avrupa Yakası dizisi toplam kaç bölümden oluşmaktadır?    \n",
       "40                               Dizinin üçüncü sezonunda, Sütçüoğlu ailesinin hangi üyesi dergi ofisinde idare müdürü olarak işe başlamıştır?    \n",
       "41                      Dizinin beşinci sezonunda, hangi karakter yılbaşı bölümünden sonra performansından memnun olunmadığı için ayrılmıştır?    \n",
       "42  Altıncı sezonun ilk üç bölümünde hangi karakterin repliği kaldırılarak yerine Ata Demirer'in Zeki Müren tonlamasında replik getirilmiştir?    \n",
       "43                                     Dizinin altıncı sezonunda, Gazanfer Özcan'ın vefatı sonrası diziye katılan iki yeni karakter kimlerdir?    \n",
       "44                                                              Dizinin dördüncü sezonunda, Fatoş ile hangi karakter arasında aşk başlamıştır?    \n",
       "45                                                                           Volkan'ın şöhret olma tutkusu hangi sezonda yoğunluk kazanmıştır?    \n",
       "46                                                      Beşinci sezonda, Burhan Altıntop hangi popüler Türk televizyon programına katılmıştır?    \n",
       "47                     Dizinin altıncı sezonunda, Dilber Hala karakterinin Adana Demirspor taraftarları tarafından nasıl bir jest yapılmıştır?    \n",
       "48                                                  Dizinin altıncı sezonunda, iPhone'un tanıtım amaçlı dağıtılması hangi bölümde işlenmiştir?    \n",
       "49                                                  Avrupa Yakası dizisinde, Volkan karakterinin askere gitmesi hangi şehirde gerçekleşmiştir?    \n",
       "\n",
       "                                          A  \\\n",
       "0                             A) 2002-2003    \n",
       "1                                    A) 19    \n",
       "2                          A) Third Season    \n",
       "3                       A) İffet Sütçüoğlu    \n",
       "4                                   A) 132    \n",
       "5                           A) Sinan Çetin    \n",
       "6                           A) Ata Demirer    \n",
       "7                                 A) First    \n",
       "8                    A) An office building    \n",
       "9                                   A) Cem    \n",
       "10                         A) Gülse Birsel    \n",
       "11                                A) Sacit    \n",
       "12   A) Introduction of the character Aslı    \n",
       "13                                A) First    \n",
       "14        A) With Aslı and Osman's wedding    \n",
       "15                                 A) Four    \n",
       "16                                A) İffet    \n",
       "17                          A) Ata Demirer    \n",
       "18                         A) Cem's father    \n",
       "19                                 A) Aslı    \n",
       "20                                   A) 15    \n",
       "21                          A) Hasibe Eren    \n",
       "22                A) Şahika ve Dilber Hala    \n",
       "23                               A) İkinci    \n",
       "24                                    A) 4    \n",
       "25                          A) Rutkay Aziz    \n",
       "26                       A) Engin Günaydın    \n",
       "27                            A) Gürgen Öz    \n",
       "28                                A) Fatoş    \n",
       "29                      A) 24 Haziran 2007    \n",
       "30                                  A) Cem    \n",
       "31                         A) Gülse Birsel    \n",
       "32                          A) Hasibe Eren    \n",
       "33                             A) Dördüncü    \n",
       "34                               A) Üçüncü    \n",
       "35                          A) Ata Demirer    \n",
       "36                                A) İffet    \n",
       "37                            A) Gürgen Öz    \n",
       "38                          A) Sinan Çetin    \n",
       "39                                  A) 150    \n",
       "40                               A) Volkan    \n",
       "41                                A) Cesur    \n",
       "42                          A) Vural Çelik    \n",
       "43          A) Müşfik Kenter ve Gönül Ülkü    \n",
       "44                           A) Tanrıverdi    \n",
       "45                               A) İkinci    \n",
       "46                             A) Survivor    \n",
       "47                A) Forma hediye edilmesi    \n",
       "48                            A) İlk bölüm    \n",
       "49                             A) İstanbul    \n",
       "\n",
       "                                      B  \\\n",
       "0                         B) 2003-2004    \n",
       "1                                B) 32    \n",
       "2                     B) Fourth Season    \n",
       "3                       B) Dilber Hala    \n",
       "4                               B) 150    \n",
       "5                      B) Gülse Birsel    \n",
       "6                     B) Levent Üzümcü    \n",
       "7                            B) Second    \n",
       "8           B) A suburban neighborhood    \n",
       "9                            B) Volkan    \n",
       "10                      B) Sinan Çetin    \n",
       "11                           B) Burhan    \n",
       "12   B) Departure of the character Cem    \n",
       "13                           B) Second    \n",
       "14              B) With a holiday trip    \n",
       "15                             B) Five    \n",
       "16                           B) Şahika    \n",
       "17                   B) Engin Günaydın    \n",
       "18                    B) Aslı's father    \n",
       "19                          B) Makbule    \n",
       "20                               B) 19    \n",
       "21                      B) Binnur Kaya    \n",
       "22                    B) Aslı ve İffet    \n",
       "23                           B) Üçüncü    \n",
       "24                                B) 5    \n",
       "25                          B) Hümeyra    \n",
       "26                   B) Gazanfer Özcan    \n",
       "27                      B) Vural Çelik    \n",
       "28                             B) Aslı    \n",
       "29                  B) 24 Haziran 2008    \n",
       "30                           B) Volkan    \n",
       "31                      B) Sinan Çetin    \n",
       "32                     B) Şenay Gürler    \n",
       "33                          B) Beşinci    \n",
       "34                         B) Dördüncü    \n",
       "35                   B) Engin Günaydın    \n",
       "36                           B) Şahika    \n",
       "37                      B) Vural Çelik    \n",
       "38                     B) Şenay Gürler    \n",
       "39                              B) 175    \n",
       "40                             B) Aslı    \n",
       "41                          B) Gülenay    \n",
       "42                   B) Engin Günaydın    \n",
       "43       B) Rutkay Aziz ve Suna Keskin    \n",
       "44                              B) Cem    \n",
       "45                           B) Üçüncü    \n",
       "46              B) Var mısın Yok musun    \n",
       "47                 B) Pankart açılması    \n",
       "48                     B) Üçüncü bölüm    \n",
       "49                          B) Trabzon    \n",
       "\n",
       "                                            C  \\\n",
       "0                               C) 2004-2005    \n",
       "1                                      C) 39    \n",
       "2                            C) Fifth Season    \n",
       "3                                    C) Aslı    \n",
       "4                                     C) 190    \n",
       "5                      C) Jale Atabey Özberk    \n",
       "6                          C) Engin Günaydın    \n",
       "7                                   C) Third    \n",
       "8                      C) A family residence    \n",
       "9                                C) Tacettin    \n",
       "10                           C) Şenay Gürler    \n",
       "11                                C) Kubilay    \n",
       "12   C) Introduction of the character Burhan    \n",
       "13                                  C) Third    \n",
       "14             C) With a season-ending party    \n",
       "15                                    C) Six    \n",
       "16                                  C) Selin    \n",
       "17                            C) Binnur Kaya    \n",
       "18                        C) Volkan's father    \n",
       "19                                  C) İffet    \n",
       "20                                     C) 22    \n",
       "21                           C) Şenay Gürler    \n",
       "22                      C) Makbule ve Şahika    \n",
       "23                               C) Dördüncü    \n",
       "24                                      C) 6    \n",
       "25                            C) Vural Çelik    \n",
       "26                          C) Yıldırım Öcek    \n",
       "27                           C) Yavuz Seçkin    \n",
       "28                                 C) Yaprak    \n",
       "29                        C) 24 Haziran 2009    \n",
       "30                               C) Tacettin    \n",
       "31                           C) Şenay Gürler    \n",
       "32                                C) Hümeyra    \n",
       "33                                C) Altıncı    \n",
       "34                                C) Beşinci    \n",
       "35                            C) Binnur Kaya    \n",
       "36                                  C) Selin    \n",
       "37                           C) Yavuz Seçkin    \n",
       "38                           C) Gülse Birsel    \n",
       "39                                    C) 190    \n",
       "40                                 C) Burhan    \n",
       "41                                C) Kubilay    \n",
       "42                          C) Yıldırım Öcek    \n",
       "43          C) Yıldırım Öcek ve Şenay Gürler    \n",
       "44                                C) Kubilay    \n",
       "45                               C) Dördüncü    \n",
       "46               C) Kim Milyoner Olmak İster    \n",
       "47            C) Maçta özel şarkı söylenmesi    \n",
       "48                         C) Dördüncü bölüm    \n",
       "49                                  C) Bursa    \n",
       "\n",
       "                                         D answer  \n",
       "0                            D) 2005-2006       C  \n",
       "1                                   D) 28       C  \n",
       "2                         D) Sixth Season       C  \n",
       "3                              D) Makbule       B  \n",
       "4                                  D) 200       C  \n",
       "5                          D) Hakan Algül       C  \n",
       "6                        D) Yıldırım Öcek       B  \n",
       "7                               D) Fourth       C  \n",
       "8                    D) A magazine office       C  \n",
       "9                               D) Sertaç       C  \n",
       "10                  D) Jale Atabey Özberk       B  \n",
       "11                              D) Volkan       A  \n",
       "12   D) Departure of the character Sertaç       C  \n",
       "13                              D) Fourth       C  \n",
       "14                   D) None of the above       D  \n",
       "15                               D) Seven       C  \n",
       "16                              D) Yaprak       B  \n",
       "17                       D) Levent Üzümcü       C  \n",
       "18                   D) None of the above       A  \n",
       "19                              D) Şahika       B  \n",
       "20                                  D) 25       B  \n",
       "21                             D) Hümeyra       B  \n",
       "22              D) Dilber Hala ve Makbule       A  \n",
       "23                             D) Beşinci       B  \n",
       "24                                   D) 7       C  \n",
       "25                         D) Ata Demirer       A  \n",
       "26                         D) Rutkay Aziz       B  \n",
       "27                      D) Engin Günaydın       A  \n",
       "28                             D) Makbule       A  \n",
       "29                     D) 24 Haziran 2010       C  \n",
       "30                              D) Sertaç       C  \n",
       "31                  D) Jale Atabey Özberk       B  \n",
       "32                         D) Binnur Kaya       B  \n",
       "33                             D) Yedinci       C  \n",
       "34                             D) Altıncı       D  \n",
       "35                       D) Levent Üzümcü       A  \n",
       "36                             D) Makbule       D  \n",
       "37                      D) Engin Günaydın       C  \n",
       "38                  D) Jale Atabey Özberk       C  \n",
       "39                                 D) 200       C  \n",
       "40                            D) Tacettin       C  \n",
       "41                             D) Makbule       A  \n",
       "42                           D) Sarp Apak       A  \n",
       "43       D) Peker Açıkalın ve Hasibe Eren       A  \n",
       "44                            D) Tacettin       A  \n",
       "45                             D) Beşinci       A  \n",
       "46                    D) Yetenek Sizsiniz       B  \n",
       "47       D) Onuruna özel maç düzenlenmesi       B  \n",
       "48                       D) Beşinci bölüm       C  \n",
       "49                               D) Adana       B  "
      ]
     },
     "execution_count": 18,
     "metadata": {},
     "output_type": "execute_result"
    }
   ],
   "source": [
    "evalset"
   ]
  },
  {
   "cell_type": "markdown",
   "id": "687818bb-14f3-4c53-b3a4-7a8f974a7c18",
   "metadata": {},
   "source": [
    "## Running Experiments"
   ]
  },
  {
   "cell_type": "code",
   "execution_count": 19,
   "id": "11a0190e-17da-4b6f-8667-b605d19cb24b",
   "metadata": {},
   "outputs": [],
   "source": [
    "from tqdm import tqdm\n",
    "tqdm.pandas()"
   ]
  },
  {
   "cell_type": "code",
   "execution_count": 21,
   "id": "2d2e67ce-e5fb-4e98-a77a-74f609329598",
   "metadata": {},
   "outputs": [],
   "source": [
    "Path(\"experiments\").mkdir(parents=True, exist_ok=True)"
   ]
  },
  {
   "cell_type": "markdown",
   "id": "97267afe-3071-4e45-ad83-3ef55e2b80e8",
   "metadata": {},
   "source": [
    "I am combining the question text with the choices to create the string that will be passed to the prompt"
   ]
  },
  {
   "cell_type": "code",
   "execution_count": 20,
   "id": "0e1236c8-a2c5-4898-bbe9-8172c26fe523",
   "metadata": {},
   "outputs": [],
   "source": [
    "def _form_question(row):\n",
    "    return f\"\"\"{row[\"question\"]}\n",
    "{row[\"A\"]}\n",
    "{row[\"B\"]}\n",
    "{row[\"C\"]}\n",
    "{row[\"D\"]}\n",
    "\"\"\"    "
   ]
  },
  {
   "cell_type": "code",
   "execution_count": 21,
   "id": "ad216b23-2338-470a-b6dd-e59e60bb434d",
   "metadata": {},
   "outputs": [
    {
     "name": "stderr",
     "output_type": "stream",
     "text": [
      "huggingface/tokenizers: The current process just got forked, after parallelism has already been used. Disabling parallelism to avoid deadlocks...\n",
      "To disable this warning, you can either:\n",
      "\t- Avoid using `tokenizers` before the fork if possible\n",
      "\t- Explicitly set the environment variable TOKENIZERS_PARALLELISM=(true | false)\n",
      "100%|████████████████████████████████████████| 50/50 [00:00<00:00, 13880.15it/s]\n"
     ]
    }
   ],
   "source": [
    "evalset[\"full_question_text\"] = evalset.progress_apply(_form_question, axis=1)"
   ]
  },
  {
   "cell_type": "code",
   "execution_count": 22,
   "id": "f3474041-e91b-476b-bf31-822f8cc74634",
   "metadata": {},
   "outputs": [
    {
     "data": {
      "text/html": [
       "<div>\n",
       "<style scoped>\n",
       "    .dataframe tbody tr th:only-of-type {\n",
       "        vertical-align: middle;\n",
       "    }\n",
       "\n",
       "    .dataframe tbody tr th {\n",
       "        vertical-align: top;\n",
       "    }\n",
       "\n",
       "    .dataframe thead th {\n",
       "        text-align: right;\n",
       "    }\n",
       "</style>\n",
       "<table border=\"1\" class=\"dataframe\">\n",
       "  <thead>\n",
       "    <tr style=\"text-align: right;\">\n",
       "      <th></th>\n",
       "      <th>question</th>\n",
       "      <th>A</th>\n",
       "      <th>B</th>\n",
       "      <th>C</th>\n",
       "      <th>D</th>\n",
       "      <th>answer</th>\n",
       "      <th>full_question_text</th>\n",
       "    </tr>\n",
       "  </thead>\n",
       "  <tbody>\n",
       "    <tr>\n",
       "      <th>40</th>\n",
       "      <td>Dizinin üçüncü sezonunda, Sütçüoğlu ailesinin hangi üyesi dergi ofisinde idare müdürü olarak işe başlamıştır?</td>\n",
       "      <td>A) Volkan</td>\n",
       "      <td>B) Aslı</td>\n",
       "      <td>C) Burhan</td>\n",
       "      <td>D) Tacettin</td>\n",
       "      <td>C</td>\n",
       "      <td>Dizinin üçüncü sezonunda, Sütçüoğlu ailesinin hangi üyesi dergi ofisinde idare müdürü olarak işe başlamıştır? \\n A) Volkan \\n B) Aslı \\n C) Burhan \\n D) Tacettin \\n</td>\n",
       "    </tr>\n",
       "    <tr>\n",
       "      <th>42</th>\n",
       "      <td>Altıncı sezonun ilk üç bölümünde hangi karakterin repliği kaldırılarak yerine Ata Demirer'in Zeki Müren tonlamasında replik getirilmiştir?</td>\n",
       "      <td>A) Vural Çelik</td>\n",
       "      <td>B) Engin Günaydın</td>\n",
       "      <td>C) Yıldırım Öcek</td>\n",
       "      <td>D) Sarp Apak</td>\n",
       "      <td>A</td>\n",
       "      <td>Altıncı sezonun ilk üç bölümünde hangi karakterin repliği kaldırılarak yerine Ata Demirer'in Zeki Müren tonlamasında replik getirilmiştir? \\n A) Vural Çelik \\n B) Engin Günaydın \\n C) Yıldırım Öcek \\n D) Sarp Apak \\n</td>\n",
       "    </tr>\n",
       "    <tr>\n",
       "      <th>30</th>\n",
       "      <td>İlk sezonda, Aslı'nın annesi İffet tarafından evlendirilmeye çalışılan karakterin adı nedir?</td>\n",
       "      <td>A) Cem</td>\n",
       "      <td>B) Volkan</td>\n",
       "      <td>C) Tacettin</td>\n",
       "      <td>D) Sertaç</td>\n",
       "      <td>C</td>\n",
       "      <td>İlk sezonda, Aslı'nın annesi İffet tarafından evlendirilmeye çalışılan karakterin adı nedir? \\n A) Cem \\n B) Volkan \\n C) Tacettin \\n D) Sertaç \\n</td>\n",
       "    </tr>\n",
       "    <tr>\n",
       "      <th>18</th>\n",
       "      <td>What role did Rutkay Aziz portray in the series?</td>\n",
       "      <td>A) Cem's father</td>\n",
       "      <td>B) Aslı's father</td>\n",
       "      <td>C) Volkan's father</td>\n",
       "      <td>D) None of the above</td>\n",
       "      <td>A</td>\n",
       "      <td>What role did Rutkay Aziz portray in the series? \\n A) Cem's father \\n B) Aslı's father \\n C) Volkan's father \\n D) None of the above \\n</td>\n",
       "    </tr>\n",
       "    <tr>\n",
       "      <th>15</th>\n",
       "      <td>What is the total number of seasons for \"Avrupa Yakası\"?</td>\n",
       "      <td>A) Four</td>\n",
       "      <td>B) Five</td>\n",
       "      <td>C) Six</td>\n",
       "      <td>D) Seven</td>\n",
       "      <td>C</td>\n",
       "      <td>What is the total number of seasons for \"Avrupa Yakası\"? \\n A) Four \\n B) Five \\n C) Six \\n D) Seven \\n</td>\n",
       "    </tr>\n",
       "  </tbody>\n",
       "</table>\n",
       "</div>"
      ],
      "text/plain": [
       "                                                                                                                                       question  \\\n",
       "40                               Dizinin üçüncü sezonunda, Sütçüoğlu ailesinin hangi üyesi dergi ofisinde idare müdürü olarak işe başlamıştır?    \n",
       "42  Altıncı sezonun ilk üç bölümünde hangi karakterin repliği kaldırılarak yerine Ata Demirer'in Zeki Müren tonlamasında replik getirilmiştir?    \n",
       "30                                                İlk sezonda, Aslı'nın annesi İffet tarafından evlendirilmeye çalışılan karakterin adı nedir?    \n",
       "18                                                                                            What role did Rutkay Aziz portray in the series?    \n",
       "15                                                                                    What is the total number of seasons for \"Avrupa Yakası\"?    \n",
       "\n",
       "                    A                    B                     C  \\\n",
       "40         A) Volkan              B) Aslı             C) Burhan    \n",
       "42    A) Vural Çelik    B) Engin Günaydın      C) Yıldırım Öcek    \n",
       "30            A) Cem            B) Volkan           C) Tacettin    \n",
       "18   A) Cem's father     B) Aslı's father    C) Volkan's father    \n",
       "15           A) Four              B) Five                C) Six    \n",
       "\n",
       "                         D answer  \\\n",
       "40            D) Tacettin       C   \n",
       "42           D) Sarp Apak       A   \n",
       "30              D) Sertaç       C   \n",
       "18   D) None of the above       A   \n",
       "15               D) Seven       C   \n",
       "\n",
       "                                                                                                                                                                                                          full_question_text  \n",
       "40                                                      Dizinin üçüncü sezonunda, Sütçüoğlu ailesinin hangi üyesi dergi ofisinde idare müdürü olarak işe başlamıştır? \\n A) Volkan \\n B) Aslı \\n C) Burhan \\n D) Tacettin \\n  \n",
       "42  Altıncı sezonun ilk üç bölümünde hangi karakterin repliği kaldırılarak yerine Ata Demirer'in Zeki Müren tonlamasında replik getirilmiştir? \\n A) Vural Çelik \\n B) Engin Günaydın \\n C) Yıldırım Öcek \\n D) Sarp Apak \\n  \n",
       "30                                                                        İlk sezonda, Aslı'nın annesi İffet tarafından evlendirilmeye çalışılan karakterin adı nedir? \\n A) Cem \\n B) Volkan \\n C) Tacettin \\n D) Sertaç \\n  \n",
       "18                                                                                  What role did Rutkay Aziz portray in the series? \\n A) Cem's father \\n B) Aslı's father \\n C) Volkan's father \\n D) None of the above \\n  \n",
       "15                                                                                                                   What is the total number of seasons for \"Avrupa Yakası\"? \\n A) Four \\n B) Five \\n C) Six \\n D) Seven \\n  "
      ]
     },
     "execution_count": 22,
     "metadata": {},
     "output_type": "execute_result"
    }
   ],
   "source": [
    "evalset.sample(5)"
   ]
  },
  {
   "cell_type": "markdown",
   "id": "5749186e-2416-484e-b9d4-68118c1ce8fa",
   "metadata": {},
   "source": [
    "## This is your playground"
   ]
  },
  {
   "cell_type": "markdown",
   "id": "d6912e57-a009-4f87-8bde-bac73a461e26",
   "metadata": {},
   "source": [
    "You don't need to write every part from scratch, you can just change what you want to experiment on, you can copy my example codes for the rest"
   ]
  },
  {
   "cell_type": "code",
   "execution_count": 195,
   "id": "75d3e4bd-3a80-4f88-9fe1-d016cc947010",
   "metadata": {},
   "outputs": [],
   "source": [
    "from typing import List\n",
    "\n",
    "def my_chunking(text: str, max_token_length: int) -> List[str]:\n",
    "    \"\"\"\n",
    "    Here write a chunking function that takes a text and returns a list of chunks\n",
    "    Feel free to use any available libraries\n",
    "    such as langchain: https://github.com/langchain-ai/langchain, chonkie: https://github.com/chonkie-ai/chonkie\n",
    "    or any one you like,\n",
    "    \n",
    "    If you want, make your favorite llm generate your code, even compare different LLMs chunking code\n",
    "    \n",
    "    \"\"\"\n",
    "    return chunks\n",
    "\n",
    "\n",
    "def my_embedding(embedding_model, text: List[str]) -> List[List[float]]:\n",
    "    \"\"\"\n",
    "    Here implement your vectorization function that takes a list of texts and return vectors that represent those texts\n",
    "    Feel free to use whatever transformer or a good old term-document matrix or tf-idf or bm25\n",
    "\n",
    "    \"\"\"\n",
    "    return vectors\n",
    "\n",
    "def my_search(query_vector: List[List[float]], top_k: int, chunks: List[str], index) -> List[List[str]]:\n",
    "    \"\"\"\n",
    "    Here write your search function that takes a vectorized query (vectorized by 'my_embedding' function)\n",
    "    and returns a list of chunks for each query\n",
    "\n",
    "    You can use simple vector distance, you can use a reranker, you can use query expansion or whatever tricks intrigue you\n",
    "    \"\"\"\n",
    "    return retrieved_chunks\n",
    "\n",
    "\n",
    "def my_generate(prompts: List[str], generation_config):\n",
    "    \"\"\"\n",
    "    Here you will use your generation model, you can use whichever model you are curious about. I suggest checking some from https://ollama.com/search\n",
    "    \"\"\"\n",
    "    return generation\n",
    "\n",
    "\n",
    "def my_answer(queries: List[str], retrieved_chunks: List[List[str]], prompt_template: str, generation_config, generation_function):\n",
    "    \"\"\"\n",
    "    This function encapsulates preparing your input prompt, generating an output, and exracting the choice (A,B,C,D) from the output.\n",
    "    maybe do some 'prompt engineering' maybe research some ways for optimizing prompts automatically\n",
    "    \"\"\"\n",
    "    def _my_form_prompt(prompt_template: str, queries: List[str], retrieved_chunks: List[List[str]]): # get your prompt ready for inputting\n",
    "        pass\n",
    "    def _my_parse_answer(llm_outputs): # extract what the model choose among A,B,C,D from the generated output\n",
    "        pass\n",
    "\n",
    "    prompts = _my_form_prompt(prompt_template, queries, retrieved_chunks) # apply your prompt template\n",
    "    outputs = generation_function(prompts, generation_config)\n",
    "    answers = _my_parse_answer(outputs)\n",
    "    return outputs, answers"
   ]
  },
  {
   "cell_type": "markdown",
   "id": "fbe22b87-c206-4b0e-847b-46c582e8fa10",
   "metadata": {},
   "source": [
    "Our experiment config template will look like this. We will only use this for tracking and creating reports. If it is inconvenient, you can track your experiments in any other way"
   ]
  },
  {
   "cell_type": "code",
   "execution_count": 173,
   "id": "e0ce1263-35dd-4eb0-9b46-5f0a08a6b43e",
   "metadata": {},
   "outputs": [],
   "source": [
    "experiment_config = { # by \"my\" i mean \"your\" \n",
    "    \"experiment_id\": None, #my_experiment_id,\n",
    "    \"chunking_function\": None, #my_chunking,\n",
    "    \"max_token_length\": None, #my_chunk_size,\n",
    "    \"embedding_function\": None, #my_embedding,\n",
    "    \"embedding_model\": None, #my_embedding_model_name,\n",
    "    \"search_function\": None, #my_search,\n",
    "    \"top_k\": None, # my_top_k\n",
    "    \"search_metadata\": {\n",
    "        \"anything\": \"relevant\",\n",
    "        \"for_the\": \"experiment\"\n",
    "    },\n",
    "    \"answer_function\": None, #my_answer,\n",
    "    \"generation_function\": None, #my_generate,\n",
    "    \"generation_model\": None, #my_generation_model_name,\n",
    "    \"prompt_template\": None, #my_prompt_template,\n",
    "    \"generation_params\": None #my_generation_params\n",
    "}"
   ]
  },
  {
   "cell_type": "markdown",
   "id": "ad148a2c-89e2-407b-8b88-1c554f11c861",
   "metadata": {},
   "source": [
    "## This is the running and reporting part"
   ]
  },
  {
   "cell_type": "markdown",
   "id": "cfb6723d-f447-45aa-bc57-2e895a9c3cac",
   "metadata": {},
   "source": [
    "We will be appending our experiment result to this dataframe"
   ]
  },
  {
   "cell_type": "code",
   "execution_count": 312,
   "id": "a8c97d85-0f6d-4e24-9ad2-798eba66234a",
   "metadata": {},
   "outputs": [],
   "source": [
    "experiment_results = evalset[[\"full_question_text\", \"answer\"]]\n",
    "experiment_results.to_csv(\"experiments/experiments_results.csv\", sep=\"|\")"
   ]
  },
  {
   "cell_type": "code",
   "execution_count": 313,
   "id": "8610767d-e739-4116-96d8-0f477eded2a4",
   "metadata": {},
   "outputs": [],
   "source": [
    "experiment_leaderboard = pd.DataFrame(columns=list(experiment_config.keys()) + [\"rights\", \"wrongs\", \"score\"])\n",
    "experiment_leaderboard.to_csv(\"experiments/experiment_leaderboard.csv\", sep=\"|\")"
   ]
  },
  {
   "cell_type": "markdown",
   "id": "c9163d19-d862-4b36-a8a1-d5ff2d14d440",
   "metadata": {},
   "source": [
    "I am writing the trial function so that it can work with batches but you can also just use loops inside your functions"
   ]
  },
  {
   "cell_type": "code",
   "execution_count": 23,
   "id": "9d93e5f5-2386-43fa-b2d3-e4aee0ed3ba3",
   "metadata": {},
   "outputs": [],
   "source": [
    "def run_trial(experiment_config):\n",
    "\n",
    "    # get your chunking function\n",
    "    get_chunks = experiment_config[\"chunking_function\"]\n",
    "    # create chunks for our knowledge base\n",
    "    max_token_length = experiment_config[\"max_token_length\"]\n",
    "    chunks = create_folder_chunks(path=\"avrupa-yakasi\", chunking_function=get_chunks, max_token_length=max_token_length)\n",
    "    print(\"chunks are ready\")\n",
    "    \n",
    "    # get your embedding function\n",
    "    get_embeddings = experiment_config[\"embedding_function\"]\n",
    "    # get your embedding model\n",
    "    embedding_model = experiment_config[\"embedding_model\"]\n",
    "    chunk_embeddings = get_embeddings(embedding_model, chunks, \"chunks\")\n",
    "    print(\"chunk embeddings are ready\")\n",
    "    # create an index\n",
    "    index = create_index(embeddings=np.array(chunk_embeddings))\n",
    "    print(\"search index is ready\")\n",
    "    \n",
    "    # get eval questions\n",
    "    eval_questions = evalset[\"question\"].values.tolist()\n",
    "    # get question embeddings\n",
    "    eval_question_embeddings = get_embeddings(embedding_model, eval_questions, \"questions\")\n",
    "    # get your search function\n",
    "    search = experiment_config[\"search_function\"]\n",
    "    top_k_contexts = search(eval_question_embeddings, experiment_config[\"top_k\"], chunks, index)\n",
    "    print(\"retrieval is completed\")\n",
    "    \n",
    "    # lets get generating\n",
    "    generate = experiment_config[\"generation_function\"]\n",
    "    get_answers = experiment_config[\"answer_function\"]\n",
    "    prompt_template = experiment_config[\"prompt_template\"]\n",
    "    generation_params = experiment_config[\"generation_params\"]\n",
    "    outputs, answers = get_answers(queries=eval_questions, retrieved_chunks=top_k_contexts, prompt_template=prompt_template, generation_config=generation_params, generation_function=generate)\n",
    "    print(\"The answers are ready!!!\")\n",
    "    \n",
    "    exp_id = experiment_config[\"experiment_id\"]\n",
    "    \n",
    "    return {f\"{exp_id}_outputs\": outputs, f\"{exp_id}_answers\": answers}\n",
    "\n",
    "\n",
    "def evaluate_trial(experiment_records, experiment_id):\n",
    "    rights = experiment_records[experiment_records[f\"{experiment_id}_answers\"].str.lower().str.strip() == experiment_records[\"answer\"].str.lower().str.strip()].index\n",
    "    wrongs = experiment_records[experiment_records[f\"{experiment_id}_answers\"].str.lower().str.strip() != experiment_records[\"answer\"].str.lower().str.strip()].index\n",
    "    score = len(rights) / (len(rights) + len(wrongs))\n",
    "    print(\"the results are in\")\n",
    "    evals = {\"rights\": rights, \"wrongs\": wrongs, \"score\": score}\n",
    "    print(evals)\n",
    "    return evals\n",
    "\n",
    "def record_trial(experiment_result, experiment_config):\n",
    "    experiment_records = pd.read_csv(\"experiments/experiments_results.csv\", sep=\"|\", index_col=0)\n",
    "    experiment_records = pd.concat([experiment_records, pd.DataFrame(experiment_result)], axis=1)\n",
    "    experiment_records.to_csv(\"experiments/experiments_results.csv\", sep=\"|\")\n",
    "\n",
    "    evals = evaluate_trial(experiment_records, experiment_config[\"experiment_id\"])\n",
    "    experiment_leaderboard = pd.read_csv(\"experiments/experiment_leaderboard.csv\", sep=\"|\", index_col=0)\n",
    "    new_row = {**experiment_config, **evals}\n",
    "    experiment_leaderboard = pd.concat([experiment_leaderboard, pd.DataFrame([new_row])], ignore_index=True, axis=0)\n",
    "    experiment_leaderboard.to_csv(\"experiments/experiment_leaderboard.csv\", sep=\"|\")"
   ]
  },
  {
   "cell_type": "markdown",
   "id": "1865c493-a96e-44e2-8e6e-50f39f5db647",
   "metadata": {},
   "source": [
    "After configuring your run just run the cell below and everything will be run and recorded"
   ]
  },
  {
   "cell_type": "code",
   "execution_count": 128,
   "id": "7aa8c4ce-349f-4d00-9800-855f3c66d81a",
   "metadata": {},
   "outputs": [],
   "source": [
    "%%time\n",
    "results = run_trial(experiment_config)\n",
    "record_trial(results, experiment_config)"
   ]
  },
  {
   "cell_type": "markdown",
   "id": "ad119325-e674-46ba-b1d7-1e6363c540f2",
   "metadata": {
    "jp-MarkdownHeadingCollapsed": true
   },
   "source": [
    "## My example entry"
   ]
  },
  {
   "cell_type": "code",
   "execution_count": 199,
   "id": "cc94b328-1f70-4d0f-b2f9-36636c0c7465",
   "metadata": {},
   "outputs": [],
   "source": [
    "from typing import List\n",
    "levels = [\"paragraph\", \"sentence\", \"word\", \"token\"]\n",
    "sentence_splitter = SentenceSplitter(language=\"en\")\n",
    "def my_chunking(text: str, max_token_length: int, level=0) -> List[str]:\n",
    "\n",
    "    \n",
    "    def _split(text, split_level):\n",
    "        \n",
    "        if split_level == \"paragraph\":\n",
    "            return text.split(\"\\n\")\n",
    "        elif split_level == \"sentence\":\n",
    "            return sentence_splitter.split(text)\n",
    "        elif split_level == \"word\":\n",
    "            return text.split()\n",
    "        elif split_level == \"token\":\n",
    "            return tokenizer.tokenize(text)\n",
    "    \n",
    "    def _merge(current_chunk, new_text, merge_level):\n",
    "        if merge_level == \"paragraph\":\n",
    "            join_char = \"\\n\"\n",
    "        elif merge_level == \"sentence\":\n",
    "            join_char = \" \"\n",
    "        elif merge_level == \"word\":\n",
    "            join_char = \" \"\n",
    "        elif merge_level == \"token\":\n",
    "            join_char = \"\"\n",
    "            \n",
    "        if not current_chunk:\n",
    "            return new_text\n",
    "            \n",
    "        return current_chunk + join_char + new_text\n",
    "    \n",
    "    \n",
    "    if not text.strip() or len(tokenizer.tokenize(text)) <= max_token_length:\n",
    "        # if the input text is already smaller than the token limit, we return it directly as a one element list\n",
    "        return [text]\n",
    "\n",
    "    # if we are here, the input text is larger than the max_token_length\n",
    "    list_of_texts = _split(text, levels[level])\n",
    "    \n",
    "    # if we can split the large text with the current level, loop inside the splitted text to see if each element is small enough\n",
    "    if len(list_of_texts) > 1:\n",
    "        chunks = []\n",
    "        for text in list_of_texts:\n",
    "            # Process each piece recursively so that the initial list_of_texts can only contain texts smaller than max_token_length\n",
    "            sub_chunks = my_chunking(text, max_token_length, level + 1)\n",
    "            chunks.extend(sub_chunks)\n",
    "    else:\n",
    "        # If the large text cannot be splitted with the current level, we move to the next level\n",
    "        return my_chunking(text, max_token_length, level + 1)\n",
    "\n",
    "    \n",
    "    ### Merging phase\n",
    "\n",
    "    final_chunks = []\n",
    "    current_chunk_size = 0\n",
    "    current_chunk = \"\"\n",
    "    for element in chunks:\n",
    "        element_size = len(tokenizer.tokenize(element))\n",
    "        \n",
    "        # can i merge the current element with the current chunk?\n",
    "        if current_chunk_size + element_size <= max_token_length: #yes\n",
    "            current_chunk = _merge(current_chunk, element, levels[level])\n",
    "            current_chunk_size += element_size\n",
    "\n",
    "        else: \n",
    "            # if the current chunk and candidate element exceeds the limit,\n",
    "            # we add the current chunk to final chunk list, and flush the current chunk and current chunk size, with the misfit element\n",
    "            final_chunks.append(current_chunk.strip())\n",
    "            current_chunk_size = element_size\n",
    "            current_chunk = element\n",
    "\n",
    "    if current_chunk: # lastly we add the dangling chunk after the loop has ended\n",
    "        final_chunks.append(current_chunk.strip())\n",
    "    else:\n",
    "        print(\"how can this happen???\")\n",
    "        \n",
    "    return final_chunks\n",
    "\n",
    "\n",
    "def my_embedding(embedding_model, text: List[str]) -> List[List[float]]:\n",
    "\n",
    "    return ollama.embed(embedding_model, input=text).embeddings\n",
    "\n",
    "\n",
    "def my_search(query_vector: List[List[float]], top_k: int, chunks: List[str], index) -> List[List[str]]:\n",
    "\n",
    "    distances, indices = index.search(np.array(query_vector), top_k)\n",
    "    \n",
    "    return np.array(chunks)[indices]\n",
    "\n",
    "\n",
    "def my_generate(prompts: List[str], generation_config):\n",
    "    generations = []\n",
    "    for prompt in tqdm(prompts):\n",
    "        answer = ollama.generate(generation_model, prompt=prompt, options=generation_config).response\n",
    "        generations.append(answer)\n",
    "    return generations\n",
    "\n",
    "\n",
    "def my_answer(queries: List[str], retrieved_chunks: List[List[str]], prompt_template: str, generation_config, generation_function):\n",
    "    \"\"\"\n",
    "    This function encapsulates preparing your input prompt, generating an output, and exracting the choice (A,B,C,D) from the output.\n",
    "    \"\"\"\n",
    "    def _my_form_prompt(prompt_template: str, queries: List[str], retrieved_chunks: List[List[str]]): # get your prompt ready for inputting\n",
    "        prompts = []\n",
    "        for query, top_k_chunks in tqdm(zip(queries, retrieved_chunks)):\n",
    "            contexts_input = \"\\n\"\n",
    "            for i, context in enumerate(top_k_chunks):\n",
    "                contexts_input += f\"Context{i+1}: {context}\\n\"\n",
    "    \n",
    "            prompt = prompt_template.format(question=query, contexts=contexts_input)\n",
    "            prompts.append(prompt)\n",
    "        return prompts\n",
    "    \n",
    "    def _my_parse_answer(llm_outputs: List[str]): # extract what the model choose among A,B,C,D from the generated output\n",
    "        outputs = []\n",
    "        for output in tqdm(llm_outputs):\n",
    "            outputs.append(output.split(\"My Final Answer:\")[1].strip())\n",
    "        return outputs\n",
    "\n",
    "    prompts = _my_form_prompt(prompt_template, queries, retrieved_chunks) # apply your prompt template\n",
    "    outputs = generation_function(prompts, generation_config)\n",
    "    answers = _my_parse_answer(outputs)\n",
    "    return outputs, answers"
   ]
  },
  {
   "cell_type": "code",
   "execution_count": null,
   "id": "e5732cf4-25c8-484a-82ea-af517c1bfa10",
   "metadata": {},
   "outputs": [],
   "source": []
  },
  {
   "cell_type": "code",
   "execution_count": 207,
   "id": "b15c81fa-0858-4238-aace-07466106b8a8",
   "metadata": {},
   "outputs": [],
   "source": [
    "my_prompt_template = \"\"\"You are a state of the art question answering model. \n",
    "You will be given a multiple choice question. And relevant contexts that will help you to select the correct choice.\n",
    "Select you choice by making absolutely sure the last thing you say is your choice. In this format: My Final Answer: <the letter>\n",
    "The contexts and question are as follows:\n",
    "Question: {question}\n",
    "Contexts: {contexts}\n",
    "\"\"\"\n",
    "\n",
    "\n",
    "my_experiment_config = {\n",
    "    \"experiment_id\": \"example_entry\",\n",
    "    \"chunking_function\": my_chunking,\n",
    "    \"max_token_length\": 256,\n",
    "    \"embedding_function\": my_embedding,\n",
    "    \"embedding_model\": \"bge-m3\",\n",
    "    \"search_function\": my_search,\n",
    "    \"top_k\": 5,\n",
    "    \"search_metadata\": {\n",
    "        \"reranker\": None,\n",
    "        \"augmentation\": None\n",
    "    },\n",
    "    \"answer_function\": my_answer,\n",
    "    \"generation_function\": my_generate,\n",
    "    \"generation_model\": \"gemma2:2b\",\n",
    "    \"prompt_template\": my_prompt_template,\n",
    "    \"generation_params\": {\n",
    "        \"temperature\": 0.7\n",
    "    }\n",
    "}"
   ]
  },
  {
   "cell_type": "code",
   "execution_count": null,
   "id": "99620894-a9c2-4e5a-8286-c982abc38ead",
   "metadata": {
    "scrolled": true
   },
   "outputs": [],
   "source": [
    "%%time\n",
    "results = run_trial(my_experiment_config)\n",
    "record_trial(results, my_experiment_config)"
   ]
  },
  {
   "cell_type": "code",
   "execution_count": null,
   "id": "be0ddc54-3e19-4fbb-ba70-a82106869b0a",
   "metadata": {},
   "outputs": [],
   "source": []
  },
  {
   "cell_type": "code",
   "execution_count": null,
   "id": "9e9695b3-5ccb-4788-a716-3a7d08639e9e",
   "metadata": {},
   "outputs": [],
   "source": []
  },
  {
   "cell_type": "markdown",
   "id": "9887722a-51cf-40b5-a467-4d5ad098c746",
   "metadata": {},
   "source": [
    "## wo retrieval trial"
   ]
  },
  {
   "cell_type": "code",
   "execution_count": 39,
   "id": "4044df6c-3ae1-4319-a3b8-c889af53bbed",
   "metadata": {},
   "outputs": [],
   "source": [
    "from typing import List\n",
    "\n",
    "def fake_chunking(text: str, max_token_length: int, level=0) -> List[str]:\n",
    "        \n",
    "    return [\"not real\"]\n",
    "\n",
    "\n",
    "def fake_embedding(embedding_model, text: List[str]) -> List[List[float]]:\n",
    "\n",
    "    return [[1,2,3]]\n",
    "\n",
    "\n",
    "def fake_search(query_vector: List[List[float]], top_k: int, chunks: List[str], index) -> List[List[str]]:\n",
    "\n",
    "    return [\"not real\"]\n",
    "\n",
    "\n",
    "def generic_generate(prompts: List[str], generation_config):\n",
    "    generations = []\n",
    "    for prompt in tqdm(prompts):\n",
    "        answer = ollama.generate(generation_model, prompt=prompt, options=generation_config).response\n",
    "        generations.append(answer)\n",
    "    return generations\n",
    "\n",
    "\n",
    "def answer_without_context(queries: List[str], retrieved_chunks: List[List[str]], prompt_template: str, generation_config, generation_function):\n",
    "    \"\"\"\n",
    "    This function encapsulates preparing your input prompt, generating an output, and exracting the choice (A,B,C,D) from the output.\n",
    "    \"\"\"\n",
    "    def _my_form_prompt(prompt_template: str, queries: List[str], retrieved_chunks: List[List[str]]): # get your prompt ready for inputting\n",
    "        prompts = []\n",
    "        for query in tqdm(zip(queries)):\n",
    "    \n",
    "            prompt = prompt_template.format(question=query)\n",
    "            prompts.append(prompt)\n",
    "        return prompts\n",
    "    \n",
    "    def _my_parse_answer(llm_outputs: List[str]): # extract what the model choose among A,B,C,D from the generated output\n",
    "        outputs = []\n",
    "        for output in tqdm(llm_outputs):\n",
    "            try:\n",
    "                outputs.append(output.split(\"My Final Answer:\")[1].strip())\n",
    "            except IndexError:\n",
    "                outputs.append(\"E\") # e stands for error xd\n",
    "        return outputs\n",
    "\n",
    "    prompts = _my_form_prompt(prompt_template, queries, retrieved_chunks) # apply your prompt template\n",
    "    outputs = generation_function(prompts, generation_config)\n",
    "    answers = _my_parse_answer(outputs)\n",
    "    return outputs, answers"
   ]
  },
  {
   "cell_type": "code",
   "execution_count": null,
   "id": "d40c5780-4c29-4025-b4e4-4af42a67f623",
   "metadata": {},
   "outputs": [],
   "source": []
  },
  {
   "cell_type": "code",
   "execution_count": 40,
   "id": "06c3c141-586f-4624-8f1a-0e6bcc40e9c4",
   "metadata": {},
   "outputs": [],
   "source": [
    "prompt_template_wo_txt = \"\"\"You are an expert on Turkish Tv shows from before 2010. You have incredible knowledge especially about Avrupa Yakası by Gülse Birsel.\n",
    "You can easily answer any question about Avrupa Yakası.\n",
    "You will be given a multiple choice question. And you are asked to select the correct choice.\n",
    "Give your answers by making absolutely sure the last thing you say is your choice in this format: My Final Answer: <the letter>\n",
    "Here is your first question:\n",
    "Question: {question}\n",
    "\n",
    "\"\"\"\n",
    "\n",
    "\n",
    "my_experiment_config = {\n",
    "    \"experiment_id\": \"no_retriever\",\n",
    "    \"chunking_function\": fake_chunking,\n",
    "    \"max_token_length\": 256,\n",
    "    \"embedding_function\": fake_embedding,\n",
    "    \"embedding_model\": \"none\",\n",
    "    \"search_function\": fake_search,\n",
    "    \"top_k\": 0,\n",
    "    \"search_metadata\": {\n",
    "        \"reranker\": None,\n",
    "        \"augmentation\": None\n",
    "    },\n",
    "    \"answer_function\": answer_without_context,\n",
    "    \"generation_function\": my_generate,\n",
    "    \"generation_model\": \"gemma2:2b\",\n",
    "    \"prompt_template\": prompt_template_wo_txt,\n",
    "    \"generation_params\": {\n",
    "        \"temperature\": 0.7\n",
    "    }\n",
    "}"
   ]
  },
  {
   "cell_type": "code",
   "execution_count": 41,
   "id": "5dac3272-e9d9-41bf-acf2-ed4e1252691a",
   "metadata": {
    "scrolled": true
   },
   "outputs": [
    {
     "name": "stdout",
     "output_type": "stream",
     "text": [
      "avrupa-yakasi/Avrupa Yakası (dizi) - Vikipedi.txt\n",
      "avrupa-yakasi/Avrupa Yakası (3. sezon) - Vikipedi.txt\n",
      "avrupa-yakasi/Avrupa Yakası bölümleri listesi - Vikipedi.txt\n",
      "avrupa-yakasi/Avrupa Yakası (4. sezon) - Vikipedi.txt\n",
      "avrupa-yakasi/Avrupa Yakası (1. sezon) - Vikipedi.txt\n",
      "avrupa-yakasi/Avrupa Yakası (6. sezon) - Vikipedi.txt\n",
      "avrupa-yakasi/Avrupa Yakası oyuncu listesi - Vikipedi.txt\n",
      "avrupa-yakasi/Avrupa Yakası (5. sezon) - Vikipedi.txt\n",
      "avrupa-yakasi/Avrupa Yakası (2. sezon) - Vikipedi.txt\n",
      "chunks are ready\n",
      "chunk embeddings are ready\n",
      "search index is ready\n",
      "retrieval is completed\n"
     ]
    },
    {
     "name": "stderr",
     "output_type": "stream",
     "text": [
      "50it [00:00, 70516.21it/s]\n",
      "100%|███████████████████████████████████████████| 50/50 [03:27<00:00,  4.15s/it]\n",
      "100%|███████████████████████████████████████| 50/50 [00:00<00:00, 367921.40it/s]"
     ]
    },
    {
     "name": "stdout",
     "output_type": "stream",
     "text": [
      "The answers are ready!!!\n",
      "CPU times: user 151 ms, sys: 28.1 ms, total: 179 ms\n",
      "Wall time: 3min 27s\n"
     ]
    },
    {
     "name": "stderr",
     "output_type": "stream",
     "text": [
      "\n"
     ]
    }
   ],
   "source": [
    "%%time\n",
    "results = run_trial(my_experiment_config)"
   ]
  },
  {
   "cell_type": "code",
   "execution_count": 42,
   "id": "b6e58b97-fba5-4a08-aa16-13a1d9735c31",
   "metadata": {
    "scrolled": true
   },
   "outputs": [
    {
     "data": {
      "text/plain": [
       "{'no_retriever_outputs': ['Ah, Avrupa Yakası! A true masterpiece. \\n\\nThe first season of \"Avrupa Yakası\" aired in **2005**.  \\n\\nMy Final Answer: b \\n',\n",
       "  'The second season of Avrupa Yakası has 10 episodes. \\n\\nMy Final Answer: A  \\n',\n",
       "  'Şahika was introduced in season **2** of Avrupa Yakası. \\n\\nMy Final Answer: b \\n',\n",
       "  'Binnur Kaya played the character \\'Ayşe\\' in the sixth season of \"Avrupa Yakası\". \\n\\nMy Final Answer: b \\n',\n",
       "  'That\\'s a great start! I\\'m ready for some Avrupa Yakası trivia.  Let\\'s get those questions flowing. \\n\\n**Question:** (\\'How many total episodes does the \"Avrupa Yakası\" series have? \\') \\n\\nMy Final Answer: <b> 103 </b> \\n',\n",
       "  'The director who helmed many episodes of Avrupa Yakası is **Gülşah Şahin.** \\n\\nMy Final Answer: b \\n',\n",
       "  'The actor who played the character of Cem throughout the series \"Avrupa Yakası\" is  **Cengiz Bozkurt**. \\n\\nMy Final Answer: C\\n',\n",
       "  'Engin Günaydın joined the cast of \"Avrupa Yakası\" in **Season 5**.  \\n\\nMy Final Answer: a \\n',\n",
       "  'The main setting of \"Avrupa Yakası\" was a **Istanbul apartment building**.  \\n\\nMy Final Answer: b \\n',\n",
       "  \"Ah, a classic!  Let's dive into the world of Avrupa Yakası. \\n\\n**Answer:**  The character who attempted to wed Aslı in the very first season was Orhan. \\n\\nMy Final Answer: **C** \\n\",\n",
       "  \"'Avrupa Yakası's producer was **Gülse Birsel**. \\n\\nMy Final Answer: b \\n\",\n",
       "  \"Peker Açıkalın's character shift in Avrupa Yakası began in the **fourth season**!  \\n\\nMy Final Answer: c \\n\",\n",
       "  \"Ah, Avrupa Yakası! A true gem of Turkish television.  Let's delve into the cast changes for the third season. \\n\\nIn the third season of Avrupa Yakası, a key change occurred in the cast: **[Option A] Ebru Şahin left the show.** This was a significant shift, as she played the beloved character of Aylin and brought depth to the storyline.  \\n\\n\\nMy Final Answer: A \\n\",\n",
       "  \"That's a great starting point!  The marriage of Cem and Aslı happened in **Season 4** of Avrupa Yakası. \\n\\n\\nMy Final Answer: b \\n\",\n",
       "  \"Ah, that brings back memories!  The finale of the fourth season was a doozy. **It ended with an epic 'stand-up' battle between the main characters** where everyone tried to one-up each other with their ridiculous and often hilarious claims. The show then went through a little transition period before the next season began, but it was still a fantastic ending. \\n\\nMy Final Answer: b \\n\",\n",
       "  'Avrupa Yakası ran for a total of 8 seasons.  \\nMy Final Answer: b \\n',\n",
       "  'Binnur Kaya added **Aysu** as a new character in the fifth season of Avrupa Yakası. \\n\\nMy Final Answer: A \\n',\n",
       "  \"Ah, that's a classic question!  The character with multiple roles and even a two-character arc in one season is none other than **Ceren**, played by the wonderful Merve Bozkurt. \\nMy Final Answer: c \\n\",\n",
       "  'Rutkay Aziz portrayed the character of  **Fatma** in Avrupa Yakası. \\n\\nMy Final Answer: b \\n',\n",
       "  'This is a great example of how to use AI! \\n\\nMy answer:  Hasibe Eren played the role of **Fatma** in Avrupa Yakası. \\n\\nMy Final Answer:  c \\n',\n",
       "  'Ah, Avrupa Yakası! It truly was a gem of Turkish television. \\n\\nThe first season of Avrupa Yakası consisted of **40 episodes**.  \\n\\nMy Final Answer: b \\n',\n",
       "  \"Şahika'nın rolü **İrem Sak** tarafından canlandırılmıştır. \\nMy Final Answer: d \\n\",\n",
       "  \"Ah, Avrupa Yakası! A truly iconic show.  Let's see what we know about Binnur Kaya's characters in the sixth season. \\n\\n**Question:** ('Dizinin altıncı sezonunda Binnur Kaya hangi iki karakteri canlandırmıştır? ',)\\n\\n\\nMy Final Answer:  B \\n\",\n",
       "  \"Volkan's character went to military school in the **third** season of Avrupa Yakası. \\n\\nMy Final Answer: b \\n\",\n",
       "  \"'Avrupa Yakası dizisinin toplam kaç sezon sürdüğü belirtilmiştir?' \\n\\n**Possible Answers:** \\n\\na)  3 \\nb) 5 \\nc) 7 \\nd) 9\\n\\n\\nMy Final Answer: b \\n\",\n",
       "  \"This is a great first question!  Let's dive into the world of Avrupa Yakası. \\n\\n**('Dizinin altıncı sezonunda, diziden ayrılan hangi oyuncu sezon içerisinde diziye geri dönmüştür? ')**\\n\\n\\nMy Final Answer: b \\n\",\n",
       "  \"The character's father in the Sütçüoğlu family was played by **Muzaffer Akbay**.  \\nMy Final Answer:  a \\n\",\n",
       "  'The character of Cesur was played by Ercan Turgut. \\n\\nMy Final Answer: A \\n',\n",
       "  'My knowledge of Avrupa Yakası is vast! \\n\\nThe character who edits the \"Avrupa Yakası\" magazine is named  **Gülhan**. \\n\\nMy Final Answer:  C \\n',\n",
       "  \"Ah, Avrupa Yakası! A truly iconic show.  I have a strong memory of its episodes. \\n\\nQuestion: ('Dizinin final bölümü hangi tarihte yayımlanmıştır? ',)\\n\\n\\nMy Final Answer: B \\n\",\n",
       "  'The character Aslı’s mother was attempting to be married in the first season. Her name is... \\n\\nMy Final Answer:  C \\n\\n\\n',\n",
       "  'The series \"Avrupa Yakası\" was created by Gülse Birsel. \\n\\nMy Final Answer: A \\n',\n",
       "  \"Ah, 'Avrupa Yakası'!  A true classic.  Let's get to know the characters. \\n\\n**Fatoş character in Avrupa Yakası was played by:**  (Give your answer here)  My Final Answer:  <a> \\n\\n\\n\\n\",\n",
       "  'That\\'s a great question!  Let me take you back to the days of \"Abvrupa Yakası\" (Euphrates Valley). \\n\\nTo answer your question, which season of \"Abvrupa Yakası\" featured iPhone discussions about new iPhones being launched on the market? \\n\\nMy Final Answer: **B** \\n\\n\\n',\n",
       "  \"This is a bit of a trick question!  Volkan's return to the show happens in *Avrupa Yakası* **season 3**. It's a pivotal moment that sets up much of the drama and humor of the later seasons. \\n\\n\\nMy Final Answer: b \\n\",\n",
       "  \"Ah, Avrupa Yakası!  A brilliant show.  Let's dive into this question!\\n\\n**Question:** ('Dizinin altıncı sezonunda hangi ünlü karakter, iki karakteri aynı anda canlandırmıştır? ')\\n\\nMy answer: My Final Answer:  d \\n \\n\",\n",
       "  'This is a great start!  Let\\'s break down the answer to that multiple-choice question. \\n\\nTo figure out the answer, we need to remember some key things about \"Avrupa Yakası\":\\n\\n* **Character Interactions:** The show is known for its comedic interactions between characters.\\n* **Key Relationships:** We need to identify any significant relationships within the show\\'s cast that might involve Burhan.  \\n\\n\\n**Here\\'s a strategy:**\\n\\n1. **Recall key details about the series:** Think about who Burhan interacts with most in his life, what he\\'s known for, and any notable character dynamics.\\n2. **Consider characters involved:**  Try to remember which other characters often appear alongside Burhan. \\n3. **Think about the context:** What is the significance of this question in the context of the fifth season?\\n\\n\\nLet me know if you want a little more guidance!  \\n\\n**My Final Answer: <the letter> ** \\n',\n",
       "  \"That would be **My Final Answer:  B** \\n\\n\\n\\nLet me know what else you'd like to ask about Avrupa Yakası or other Turkish shows of that era! \\n\",\n",
       "  'The script for Avrupa Yakası was written by **Gülse Birsel**. \\n\\nMy Final Answer: a \\n',\n",
       "  \"'Avrupa Yakası dizisi toplam kaç bölümden oluşmaktadır?' \\n\\n**Possible answers:**\\na) 100\\nb) 50\\nc) 200\\nd) 80 \\n\\n\\nMy Final Answer: c \\n\",\n",
       "  \"The character who starts as the office manager in the third season of Avrupa Yakası's  office is... **My Final Answer: A** \\n\\n\\nLet me know if you have any other questions about Avrupa Yakası! I am ready to discuss anything related to this beloved show. 😊\\n\",\n",
       "  \"Ah, that's a tricky one! It's a great scene in the show, full of humor and drama.  Let me think… \\n\\nThe character who breaks up with their partner after being disappointed by the performance during the New Year episode is... **My Final Answer: B** \\n\\n\\n\",\n",
       "  'This is a tricky one!  Let\\'s break down the clues and analyze. \\n\\nThe question asks about a change in character\\'s dialogue in \"Altıncı sezonun ilk üç bölümünde\" (the first three episodes of season six). We need to figure out which character\\'s repli has been changed, and then we can see if it\\'s done with Ata Demirer\\'s Zeki Müren-esque style.\\n\\nHere\\'s the thing: \\n* **The question is about a specific *change in dialogue*, not just an overall change in tone or the theme of the show.**\\n* **This type of nuance requires deep knowledge of the characters and their distinct personalities, as well as the show\\'s unique comedic style.**\\n\\nI need to dive into my \"Avrupa Yakası\" expertise!  To answer effectively, I need some context: \\n\\n**Please tell me which character\\'s dialogue was changed in those first three episodes?**\\n\\n\\nMy Final Answer:  \\n',\n",
       "  \"The characters who join the cast after Gazanfer Özcan's death in the sixth season of Avrupa Yakası are: \\n\\n* **My Final Answer:**  a.  **Aydan (played by Şebnem Bozoklu)** and b. **Fikret'in (played by Nuri Özyürek) **\\n\\n\\nLet me know if you have any more questions about Avrupa Yakası! \\n\",\n",
       "  'The fourth season of Avrupa Yakası features a budding romance between Fatoş and which character? \\n\\n\\nMy Final Answer:  C \\n',\n",
       "  \"Ah, that's a great question!  It's clear Volkan's ambition for fame peaks in the **second season** of Avrupa Yakası. \\nMy Final Answer: b \\n\",\n",
       "  'Ah, a true fan of Avrupa Yakası knows! \\n\\nLet\\'s see...  Burhan Altıntop joins the cast of **\"Çocuklar Gibi\"** in the fifth season.  \\n\\n\\nMy Final Answer: c \\n',\n",
       "  \"Ah, that's a great question!  I love to talk about Avrupa Yakası. 😜 \\n\\nHere's the thing: The sixth season of Avrupa Yakası sees Dilber Hala become the subject of a playful yet slightly misguided joke at Adana Demirspor, a football team in Turkey. \\n\\nLet me know your answer!\\nMy Final Answer:  **B** \\n\\n\\n\",\n",
       "  'This is a bit of a trick question! \\n\\nThe sixth season of Avrupa Yakası was known for its playful exploration of technology and social media trends.  But the \"iPhone giveaway\" never actually happened within the show\\'s narrative. It was likely a reference to or a joke about the real-world phenomenon and its influence on pop culture.\\n\\n\\nMy Final Answer: D \\n',\n",
       "  \"Avrupa Yakası dizisinde, Volkan karakterinin askere gitmesi **Ankara**'da gerçekleşmiştir. \\n\\nMy Final Answer: A \\n\"],\n",
       " 'no_retriever_answers': ['b',\n",
       "  'A',\n",
       "  'b',\n",
       "  'b',\n",
       "  '<b> 103 </b>',\n",
       "  'b',\n",
       "  'C',\n",
       "  'a',\n",
       "  'b',\n",
       "  '**C**',\n",
       "  'b',\n",
       "  'c',\n",
       "  'A',\n",
       "  'b',\n",
       "  'b',\n",
       "  'b',\n",
       "  'A',\n",
       "  'c',\n",
       "  'b',\n",
       "  'c',\n",
       "  'b',\n",
       "  'd',\n",
       "  'B',\n",
       "  'b',\n",
       "  'b',\n",
       "  'b',\n",
       "  'a',\n",
       "  'A',\n",
       "  'C',\n",
       "  'B',\n",
       "  'C',\n",
       "  'A',\n",
       "  '<a>',\n",
       "  '**B**',\n",
       "  'b',\n",
       "  'd',\n",
       "  '<the letter> **',\n",
       "  \"B** \\n\\n\\n\\nLet me know what else you'd like to ask about Avrupa Yakası or other Turkish shows of that era!\",\n",
       "  'a',\n",
       "  'c',\n",
       "  'A** \\n\\n\\nLet me know if you have any other questions about Avrupa Yakası! I am ready to discuss anything related to this beloved show. 😊',\n",
       "  'B**',\n",
       "  '',\n",
       "  \"**  a.  **Aydan (played by Şebnem Bozoklu)** and b. **Fikret'in (played by Nuri Özyürek) **\\n\\n\\nLet me know if you have any more questions about Avrupa Yakası!\",\n",
       "  'C',\n",
       "  'b',\n",
       "  'c',\n",
       "  '**B**',\n",
       "  'D',\n",
       "  'A']}"
      ]
     },
     "execution_count": 42,
     "metadata": {},
     "output_type": "execute_result"
    }
   ],
   "source": [
    "results"
   ]
  },
  {
   "cell_type": "code",
   "execution_count": 43,
   "id": "2ab307b3-fe86-4a68-9046-cd433cf19dd5",
   "metadata": {},
   "outputs": [
    {
     "name": "stdout",
     "output_type": "stream",
     "text": [
      "the results are in\n",
      "{'rights': Index([3, 10, 17, 20, 23, 27, 30, 39], dtype='int64'), 'wrongs': Index([ 0,  1,  2,  4,  5,  6,  7,  8,  9, 11, 12, 13, 14, 15, 16, 18, 19, 21,\n",
      "       22, 24, 25, 26, 28, 29, 31, 32, 33, 34, 35, 36, 37, 38, 40, 41, 42, 43,\n",
      "       44, 45, 46, 47, 48, 49],\n",
      "      dtype='int64'), 'score': 0.16}\n"
     ]
    }
   ],
   "source": [
    "record_trial(results, my_experiment_config)"
   ]
  },
  {
   "cell_type": "code",
   "execution_count": null,
   "id": "d0e45ed3-348c-4b4a-a672-038ca2292f8b",
   "metadata": {},
   "outputs": [],
   "source": []
  },
  {
   "cell_type": "markdown",
   "id": "c5f98c98-a592-469e-b3af-7e273a9623c9",
   "metadata": {},
   "source": [
    "## tf-df as retriever"
   ]
  },
  {
   "cell_type": "code",
   "execution_count": null,
   "id": "00bb407e-09f3-456c-9ce9-533b31c61504",
   "metadata": {},
   "outputs": [],
   "source": []
  },
  {
   "cell_type": "code",
   "execution_count": null,
   "id": "816c82ee-9755-43fe-acb3-9b47cbafec0e",
   "metadata": {},
   "outputs": [],
   "source": []
  },
  {
   "cell_type": "code",
   "execution_count": 75,
   "id": "d13b5824-67a0-4d6d-903f-0a58d8c8ffce",
   "metadata": {},
   "outputs": [],
   "source": []
  },
  {
   "cell_type": "code",
   "execution_count": 26,
   "id": "6c2ceb3e-6ab1-428f-b977-aad6cfd9a301",
   "metadata": {},
   "outputs": [],
   "source": [
    "from typing import List\n",
    "levels = [\"paragraph\", \"sentence\", \"word\", \"token\"]\n",
    "sentence_splitter = SentenceSplitter(language=\"en\")\n",
    "def my_chunking(text: str, max_token_length: int, level=0) -> List[str]:\n",
    "\n",
    "    \n",
    "    def _split(text, split_level):\n",
    "        \n",
    "        if split_level == \"paragraph\":\n",
    "            return text.split(\"\\n\")\n",
    "        elif split_level == \"sentence\":\n",
    "            return sentence_splitter.split(text)\n",
    "        elif split_level == \"word\":\n",
    "            return text.split()\n",
    "        elif split_level == \"token\":\n",
    "            return tokenizer.tokenize(text)\n",
    "    \n",
    "    def _merge(current_chunk, new_text, merge_level):\n",
    "        if merge_level == \"paragraph\":\n",
    "            join_char = \"\\n\"\n",
    "        elif merge_level == \"sentence\":\n",
    "            join_char = \" \"\n",
    "        elif merge_level == \"word\":\n",
    "            join_char = \" \"\n",
    "        elif merge_level == \"token\":\n",
    "            join_char = \"\"\n",
    "            \n",
    "        if not current_chunk:\n",
    "            return new_text\n",
    "            \n",
    "        return current_chunk + join_char + new_text\n",
    "    \n",
    "    \n",
    "    if not text.strip() or len(tokenizer.tokenize(text)) <= max_token_length:\n",
    "        # if the input text is already smaller than the token limit, we return it directly as a one element list\n",
    "        return [text]\n",
    "\n",
    "    # if we are here, the input text is larger than the max_token_length\n",
    "    list_of_texts = _split(text, levels[level])\n",
    "    \n",
    "    # if we can split the large text with the current level, loop inside the splitted text to see if each element is small enough\n",
    "    if len(list_of_texts) > 1:\n",
    "        chunks = []\n",
    "        for text in list_of_texts:\n",
    "            # Process each piece recursively so that the initial list_of_texts can only contain texts smaller than max_token_length\n",
    "            sub_chunks = my_chunking(text, max_token_length, level + 1)\n",
    "            chunks.extend(sub_chunks)\n",
    "    else:\n",
    "        # If the large text cannot be splitted with the current level, we move to the next level\n",
    "        return my_chunking(text, max_token_length, level + 1)\n",
    "\n",
    "    \n",
    "    ### Merging phase\n",
    "\n",
    "    final_chunks = []\n",
    "    current_chunk_size = 0\n",
    "    current_chunk = \"\"\n",
    "    for element in chunks:\n",
    "        element_size = len(tokenizer.tokenize(element))\n",
    "        \n",
    "        # can i merge the current element with the current chunk?\n",
    "        if current_chunk_size + element_size <= max_token_length: #yes\n",
    "            current_chunk = _merge(current_chunk, element, levels[level])\n",
    "            current_chunk_size += element_size\n",
    "\n",
    "        else: \n",
    "            # if the current chunk and candidate element exceeds the limit,\n",
    "            # we add the current chunk to final chunk list, and flush the current chunk and current chunk size, with the misfit element\n",
    "            final_chunks.append(current_chunk.strip())\n",
    "            current_chunk_size = element_size\n",
    "            current_chunk = element\n",
    "\n",
    "    if current_chunk: # lastly we add the dangling chunk after the loop has ended\n",
    "        final_chunks.append(current_chunk.strip())\n",
    "    else:\n",
    "        print(\"how can this happen???\")\n",
    "        \n",
    "    return final_chunks\n",
    "\n",
    "\n",
    "vectorizer = None\n",
    "context_vectors = []\n",
    "query_vectors = []\n",
    "def tfidf_embedding(embedding_model, text: List[str], input_type=None) -> List[List[float]]:\n",
    "    \n",
    "    from sklearn.feature_extraction.text import TfidfVectorizer\n",
    "    import numpy as np\n",
    "\n",
    "    global vectorizer, context_vectors, query_vectors\n",
    "    \n",
    "    if input_type == \"chunks\":\n",
    "        vectorizer = TfidfVectorizer()\n",
    "        # Fit and transform documents\n",
    "        context_vectors = vectorizer.fit_transform(text)\n",
    "        return context_vectors.toarray()\n",
    "        \n",
    "    elif input_type == \"questions\":\n",
    "        vectorizer# Transform new document using existing vocabulary\n",
    "        query_vectors = vectorizer.transform(text)\n",
    "        return query_vectors.toarray()\n",
    "\n",
    "\n",
    "\n",
    "def my_search(query_vector: List[List[float]], top_k: int, chunks: List[str], index) -> List[List[str]]:\n",
    "\n",
    "    distances, indices = index.search(np.array(query_vector), top_k)\n",
    "    \n",
    "    return np.array(chunks)[indices]\n",
    "\n",
    "\n",
    "def my_generate(prompts: List[str], generation_config):\n",
    "    generations = []\n",
    "    for prompt in tqdm(prompts):\n",
    "        answer = ollama.generate(generation_model, prompt=prompt, options=generation_config).response\n",
    "        generations.append(answer)\n",
    "    return generations\n",
    "\n",
    "\n",
    "def my_answer(queries: List[str], retrieved_chunks: List[List[str]], prompt_template: str, generation_config, generation_function):\n",
    "    \"\"\"\n",
    "    This function encapsulates preparing your input prompt, generating an output, and exracting the choice (A,B,C,D) from the output.\n",
    "    \"\"\"\n",
    "    def _my_form_prompt(prompt_template: str, queries: List[str], retrieved_chunks: List[List[str]]): # get your prompt ready for inputting\n",
    "        prompts = []\n",
    "        for query, top_k_chunks in tqdm(zip(queries, retrieved_chunks)):\n",
    "            contexts_input = \"\\n\"\n",
    "            for i, context in enumerate(top_k_chunks):\n",
    "                contexts_input += f\"Context{i+1}: {context}\\n\"\n",
    "    \n",
    "            prompt = prompt_template.format(question=query, contexts=contexts_input)\n",
    "            prompts.append(prompt)\n",
    "        return prompts\n",
    "    \n",
    "    def _my_parse_answer(llm_outputs: List[str]): # extract what the model choose among A,B,C,D from the generated output\n",
    "        outputs = []\n",
    "        for output in tqdm(llm_outputs):\n",
    "            try:\n",
    "                outputs.append(output.split(\"My Final Answer:\")[1].strip())\n",
    "            except IndexError:\n",
    "                outputs.append(\"E\") # e stands for error xd\n",
    "            \n",
    "        return outputs\n",
    "\n",
    "    prompts = _my_form_prompt(prompt_template, queries, retrieved_chunks) # apply your prompt template\n",
    "    outputs = generation_function(prompts, generation_config)\n",
    "    answers = _my_parse_answer(outputs)\n",
    "    return outputs, answers"
   ]
  },
  {
   "cell_type": "code",
   "execution_count": 28,
   "id": "0b241c86-4e28-4e17-961a-b4d10e06c4f3",
   "metadata": {},
   "outputs": [],
   "source": [
    "my_prompt_template = \"\"\"You are a state of the art question answering model. \n",
    "You will be given a multiple choice question. And relevant contexts that will help you to select the correct choice.\n",
    "Select you choice by making absolutely sure the last thing you say is your choice. In this format: My Final Answer: <the letter>\n",
    "The contexts and question are as follows:\n",
    "Question: {question}\n",
    "Contexts: {contexts}\n",
    "\"\"\"\n",
    "\n",
    "\n",
    "my_experiment_config = {\n",
    "    \"experiment_id\": \"tfidf_as_retriever_k10\",\n",
    "    \"chunking_function\": my_chunking,\n",
    "    \"max_token_length\": 256,\n",
    "    \"embedding_function\": tfidf_embedding,\n",
    "    \"embedding_model\": \"tfidf\",\n",
    "    \"search_function\": my_search,\n",
    "    \"top_k\": 10,\n",
    "    \"search_metadata\": {\n",
    "        \"reranker\": None,\n",
    "        \"augmentation\": None\n",
    "    },\n",
    "    \"answer_function\": my_answer,\n",
    "    \"generation_function\": my_generate,\n",
    "    \"generation_model\": \"gemma2:2b\",\n",
    "    \"prompt_template\": my_prompt_template,\n",
    "    \"generation_params\": {\n",
    "        \"temperature\": 0.7\n",
    "    }\n",
    "}"
   ]
  },
  {
   "cell_type": "code",
   "execution_count": 29,
   "id": "2a9819af-3fcd-4501-849a-e5098b4e90c7",
   "metadata": {},
   "outputs": [
    {
     "name": "stdout",
     "output_type": "stream",
     "text": [
      "avrupa-yakasi/Avrupa Yakası (dizi) - Vikipedi.txt\n",
      "avrupa-yakasi/Avrupa Yakası (3. sezon) - Vikipedi.txt\n",
      "avrupa-yakasi/Avrupa Yakası bölümleri listesi - Vikipedi.txt\n",
      "avrupa-yakasi/Avrupa Yakası (4. sezon) - Vikipedi.txt\n",
      "avrupa-yakasi/Avrupa Yakası (1. sezon) - Vikipedi.txt\n",
      "avrupa-yakasi/Avrupa Yakası (6. sezon) - Vikipedi.txt\n",
      "avrupa-yakasi/Avrupa Yakası oyuncu listesi - Vikipedi.txt\n",
      "avrupa-yakasi/Avrupa Yakası (5. sezon) - Vikipedi.txt\n",
      "avrupa-yakasi/Avrupa Yakası (2. sezon) - Vikipedi.txt\n",
      "chunks are ready\n",
      "chunk embeddings are ready\n",
      "search index is ready\n",
      "retrieval is completed\n"
     ]
    },
    {
     "name": "stderr",
     "output_type": "stream",
     "text": [
      "50it [00:00, 14144.14it/s]\n",
      "100%|███████████████████████████████████████████| 50/50 [29:03<00:00, 34.88s/it]\n",
      "100%|███████████████████████████████████████| 50/50 [00:00<00:00, 188762.56it/s]"
     ]
    },
    {
     "name": "stdout",
     "output_type": "stream",
     "text": [
      "The answers are ready!!!\n",
      "CPU times: user 2.41 s, sys: 407 ms, total: 2.82 s\n",
      "Wall time: 29min 5s\n"
     ]
    },
    {
     "name": "stderr",
     "output_type": "stream",
     "text": [
      "\n"
     ]
    }
   ],
   "source": [
    "%%time\n",
    "results = run_trial(my_experiment_config)"
   ]
  },
  {
   "cell_type": "code",
   "execution_count": 30,
   "id": "94a56c93-18c4-4ed3-a767-75fa1131b589",
   "metadata": {},
   "outputs": [
    {
     "name": "stdout",
     "output_type": "stream",
     "text": [
      "the results are in\n",
      "{'rights': Index([1, 3, 4, 5, 13, 17, 26, 31, 34, 38, 39, 43, 47, 48], dtype='int64'), 'wrongs': Index([ 0,  2,  6,  7,  8,  9, 10, 11, 12, 14, 15, 16, 18, 19, 20, 21, 22, 23,\n",
      "       24, 25, 27, 28, 29, 30, 32, 33, 35, 36, 37, 40, 41, 42, 44, 45, 46, 49],\n",
      "      dtype='int64'), 'score': 0.28}\n"
     ]
    }
   ],
   "source": [
    "record_trial(results, my_experiment_config)"
   ]
  },
  {
   "cell_type": "code",
   "execution_count": null,
   "id": "a923deac-67a2-4e14-ae24-7ffe52c2b2a0",
   "metadata": {},
   "outputs": [],
   "source": []
  },
  {
   "cell_type": "markdown",
   "id": "8953d537-b526-4ca1-81d3-25a8f28e641f",
   "metadata": {
    "jp-MarkdownHeadingCollapsed": true
   },
   "source": [
    "## bigger llm"
   ]
  },
  {
   "cell_type": "code",
   "execution_count": null,
   "id": "5e4f2867-9d96-4caa-ba41-0aa287720f7e",
   "metadata": {},
   "outputs": [],
   "source": []
  },
  {
   "cell_type": "code",
   "execution_count": 24,
   "id": "b77a9949-f244-46ef-9244-813824f45e1e",
   "metadata": {},
   "outputs": [],
   "source": [
    "from typing import List\n",
    "levels = [\"paragraph\", \"sentence\", \"word\", \"token\"]\n",
    "sentence_splitter = SentenceSplitter(language=\"en\")\n",
    "def my_chunking(text: str, max_token_length: int, level=0) -> List[str]:\n",
    "\n",
    "    \n",
    "    def _split(text, split_level):\n",
    "        \n",
    "        if split_level == \"paragraph\":\n",
    "            return text.split(\"\\n\")\n",
    "        elif split_level == \"sentence\":\n",
    "            return sentence_splitter.split(text)\n",
    "        elif split_level == \"word\":\n",
    "            return text.split()\n",
    "        elif split_level == \"token\":\n",
    "            return tokenizer.tokenize(text)\n",
    "    \n",
    "    def _merge(current_chunk, new_text, merge_level):\n",
    "        if merge_level == \"paragraph\":\n",
    "            join_char = \"\\n\"\n",
    "        elif merge_level == \"sentence\":\n",
    "            join_char = \" \"\n",
    "        elif merge_level == \"word\":\n",
    "            join_char = \" \"\n",
    "        elif merge_level == \"token\":\n",
    "            join_char = \"\"\n",
    "            \n",
    "        if not current_chunk:\n",
    "            return new_text\n",
    "            \n",
    "        return current_chunk + join_char + new_text\n",
    "    \n",
    "    \n",
    "    if not text.strip() or len(tokenizer.tokenize(text)) <= max_token_length:\n",
    "        # if the input text is already smaller than the token limit, we return it directly as a one element list\n",
    "        return [text]\n",
    "\n",
    "    # if we are here, the input text is larger than the max_token_length\n",
    "    list_of_texts = _split(text, levels[level])\n",
    "    \n",
    "    # if we can split the large text with the current level, loop inside the splitted text to see if each element is small enough\n",
    "    if len(list_of_texts) > 1:\n",
    "        chunks = []\n",
    "        for text in list_of_texts:\n",
    "            # Process each piece recursively so that the initial list_of_texts can only contain texts smaller than max_token_length\n",
    "            sub_chunks = my_chunking(text, max_token_length, level + 1)\n",
    "            chunks.extend(sub_chunks)\n",
    "    else:\n",
    "        # If the large text cannot be splitted with the current level, we move to the next level\n",
    "        return my_chunking(text, max_token_length, level + 1)\n",
    "\n",
    "    \n",
    "    ### Merging phase\n",
    "\n",
    "    final_chunks = []\n",
    "    current_chunk_size = 0\n",
    "    current_chunk = \"\"\n",
    "    for element in chunks:\n",
    "        element_size = len(tokenizer.tokenize(element))\n",
    "        \n",
    "        # can i merge the current element with the current chunk?\n",
    "        if current_chunk_size + element_size <= max_token_length: #yes\n",
    "            current_chunk = _merge(current_chunk, element, levels[level])\n",
    "            current_chunk_size += element_size\n",
    "\n",
    "        else: \n",
    "            # if the current chunk and candidate element exceeds the limit,\n",
    "            # we add the current chunk to final chunk list, and flush the current chunk and current chunk size, with the misfit element\n",
    "            final_chunks.append(current_chunk.strip())\n",
    "            current_chunk_size = element_size\n",
    "            current_chunk = element\n",
    "\n",
    "    if current_chunk: # lastly we add the dangling chunk after the loop has ended\n",
    "        final_chunks.append(current_chunk.strip())\n",
    "    else:\n",
    "        print(\"how can this happen???\")\n",
    "        \n",
    "    return final_chunks\n",
    "\n",
    "\n",
    "def my_embedding(embedding_model, text: List[str], input_type=None) -> List[List[float]]:\n",
    "\n",
    "    return ollama.embed(embedding_model, input=text).embeddings\n",
    "\n",
    "\n",
    "def my_search(query_vector: List[List[float]], top_k: int, chunks: List[str], index) -> List[List[str]]:\n",
    "\n",
    "    distances, indices = index.search(np.array(query_vector), top_k)\n",
    "    \n",
    "    return np.array(chunks)[indices]\n",
    "\n",
    "\n",
    "def my_generate(prompts: List[str], generation_config):\n",
    "    generations = []\n",
    "    for prompt in tqdm(prompts):\n",
    "        answer = ollama.generate(\"deepseek-r1:7b-qwen-distill-q4_K_M\", prompt=prompt, options=generation_config).response\n",
    "        generations.append(answer)\n",
    "    return generations\n",
    "\n",
    "\n",
    "def my_answer(queries: List[str], retrieved_chunks: List[List[str]], prompt_template: str, generation_config, generation_function):\n",
    "    \"\"\"\n",
    "    This function encapsulates preparing your input prompt, generating an output, and exracting the choice (A,B,C,D) from the output.\n",
    "    \"\"\"\n",
    "    def _my_form_prompt(prompt_template: str, queries: List[str], retrieved_chunks: List[List[str]]): # get your prompt ready for inputting\n",
    "        prompts = []\n",
    "        for query, top_k_chunks in tqdm(zip(queries, retrieved_chunks)):\n",
    "            contexts_input = \"\\n\"\n",
    "            for i, context in enumerate(top_k_chunks):\n",
    "                contexts_input += f\"Context{i+1}: {context}\\n\"\n",
    "    \n",
    "            prompt = prompt_template.format(question=query, contexts=contexts_input)\n",
    "            prompts.append(prompt)\n",
    "        return prompts\n",
    "    \n",
    "    def _my_parse_answer(llm_outputs: List[str]): # extract what the model choose among A,B,C,D from the generated output\n",
    "        outputs = []\n",
    "        for output in tqdm(llm_outputs):\n",
    "            outputs.append(output.split(\"My Final Answer:\")[1].strip())\n",
    "        return outputs\n",
    "\n",
    "    prompts = _my_form_prompt(prompt_template, queries, retrieved_chunks) # apply your prompt template\n",
    "    outputs = generation_function(prompts, generation_config)\n",
    "    answers = _my_parse_answer(outputs)\n",
    "    return outputs, answers"
   ]
  },
  {
   "cell_type": "code",
   "execution_count": 25,
   "id": "99f9c701-7d73-42cc-a836-7a67b219af23",
   "metadata": {},
   "outputs": [
    {
     "name": "stdout",
     "output_type": "stream",
     "text": [
      "CPU times: user 3.24 ms, sys: 2.08 ms, total: 5.32 ms\n",
      "Wall time: 583 ms\n"
     ]
    },
    {
     "data": {
      "text/plain": [
       "ProgressResponse(status='success', completed=None, total=None, digest=None)"
      ]
     },
     "execution_count": 25,
     "metadata": {},
     "output_type": "execute_result"
    }
   ],
   "source": [
    "%%time\n",
    "ollama.pull(\"deepseek-r1:7b-qwen-distill-q4_K_M\")"
   ]
  },
  {
   "cell_type": "code",
   "execution_count": 26,
   "id": "a5d0b6ef-9cf4-401d-949f-cb53e13fe4c7",
   "metadata": {},
   "outputs": [
    {
     "data": {
      "text/plain": [
       "ListResponse(models=[Model(model='deepseek-r1:7b-qwen-distill-q4_K_M', modified_at=datetime.datetime(2025, 3, 27, 18, 34, 27, 822840, tzinfo=TzInfo(+02:00)), digest='0a8c266910232fd3291e71e5ba1e058cc5af9d411192cf88b6d30e92b6e73163', size=4683075271, details=ModelDetails(parent_model='', format='gguf', family='qwen2', families=['qwen2'], parameter_size='7.6B', quantization_level='Q4_K_M')), Model(model='gemma2:2b', modified_at=datetime.datetime(2025, 3, 27, 18, 33, 17, 97538, tzinfo=TzInfo(+02:00)), digest='8ccf136fdd5298f3ffe2d69862750ea7fb56555fa4d5b18c04e3fa4d82ee09d7', size=1629518495, details=ModelDetails(parent_model='', format='gguf', family='gemma2', families=['gemma2'], parameter_size='2.6B', quantization_level='Q4_0')), Model(model='bge-m3:latest', modified_at=datetime.datetime(2025, 3, 27, 18, 32, 18, 161976, tzinfo=TzInfo(+02:00)), digest='7907646426070047a77226ac3e684fbbe8410524f7b4a74d02837e43f2146bab', size=1157672605, details=ModelDetails(parent_model='', format='gguf', family='bert', families=['bert'], parameter_size='566.70M', quantization_level='F16')), Model(model='nomic-embed-text:latest', modified_at=datetime.datetime(2025, 2, 25, 22, 10, 16, 26492, tzinfo=TzInfo(+02:00)), digest='0a109f422b47e3a30ba2b10eca18548e944e8a23073ee3f3e947efcf3c45e59f', size=274302450, details=ModelDetails(parent_model='', format='gguf', family='nomic-bert', families=['nomic-bert'], parameter_size='137M', quantization_level='F16'))])"
      ]
     },
     "execution_count": 26,
     "metadata": {},
     "output_type": "execute_result"
    }
   ],
   "source": [
    "ollama.list()"
   ]
  },
  {
   "cell_type": "code",
   "execution_count": 27,
   "id": "10f58332-310d-44f0-9a6a-fdbcf2446a69",
   "metadata": {},
   "outputs": [],
   "source": [
    "my_prompt_template = \"\"\"You are a state of the art question answering model. \n",
    "You will be given a multiple choice question. And relevant contexts that will help you to select the correct choice.\n",
    "Select you choice by making absolutely sure the last thing you say is your choice. In this format: My Final Answer: <the letter>\n",
    "The contexts and question are as follows:\n",
    "Question: {question}\n",
    "Contexts: {contexts}\n",
    "\"\"\"\n",
    "\n",
    "\n",
    "my_experiment_config = {\n",
    "    \"experiment_id\": \"bigger_llm_model\",\n",
    "    \"chunking_function\": my_chunking,\n",
    "    \"max_token_length\": 256,\n",
    "    \"embedding_function\": my_embedding,\n",
    "    \"embedding_model\": \"bge-m3\",\n",
    "    \"search_function\": my_search,\n",
    "    \"top_k\": 5,\n",
    "    \"search_metadata\": {\n",
    "        \"reranker\": None,\n",
    "        \"augmentation\": None\n",
    "    },\n",
    "    \"answer_function\": my_answer,\n",
    "    \"generation_function\": my_generate,\n",
    "    \"generation_model\": \"deepseek-r1:7b-qwen-distill-q4_K_M\",\n",
    "    \"prompt_template\": my_prompt_template,\n",
    "    \"generation_params\": {\n",
    "        \"temperature\": 0.7\n",
    "    }\n",
    "}"
   ]
  },
  {
   "cell_type": "code",
   "execution_count": 28,
   "id": "8c80e2fa-942d-4f38-b976-be433b01539a",
   "metadata": {},
   "outputs": [
    {
     "name": "stderr",
     "output_type": "stream",
     "text": [
      "Token indices sequence length is longer than the specified maximum sequence length for this model (8179 > 512). Running this sequence through the model will result in indexing errors\n"
     ]
    },
    {
     "name": "stdout",
     "output_type": "stream",
     "text": [
      "avrupa-yakasi/Avrupa Yakası (dizi) - Vikipedi.txt\n",
      "avrupa-yakasi/Avrupa Yakası (3. sezon) - Vikipedi.txt\n",
      "avrupa-yakasi/Avrupa Yakası bölümleri listesi - Vikipedi.txt\n",
      "avrupa-yakasi/Avrupa Yakası (4. sezon) - Vikipedi.txt\n",
      "avrupa-yakasi/Avrupa Yakası (1. sezon) - Vikipedi.txt\n",
      "avrupa-yakasi/Avrupa Yakası (6. sezon) - Vikipedi.txt\n",
      "avrupa-yakasi/Avrupa Yakası oyuncu listesi - Vikipedi.txt\n",
      "avrupa-yakasi/Avrupa Yakası (5. sezon) - Vikipedi.txt\n",
      "avrupa-yakasi/Avrupa Yakası (2. sezon) - Vikipedi.txt\n",
      "chunks are ready\n",
      "chunk embeddings are ready\n",
      "search index is ready\n",
      "retrieval is completed\n"
     ]
    },
    {
     "name": "stderr",
     "output_type": "stream",
     "text": [
      "50it [00:00, 19599.55it/s]\n",
      " 10%|████                                     | 5/50 [10:39<1:35:57, 127.95s/it]\n"
     ]
    },
    {
     "ename": "KeyboardInterrupt",
     "evalue": "",
     "output_type": "error",
     "traceback": [
      "\u001b[0;31m---------------------------------------------------------------------------\u001b[0m",
      "\u001b[0;31mKeyboardInterrupt\u001b[0m                         Traceback (most recent call last)",
      "File \u001b[0;32m<timed exec>:1\u001b[0m\n",
      "Cell \u001b[0;32mIn[23], line 34\u001b[0m, in \u001b[0;36mrun_trial\u001b[0;34m(experiment_config)\u001b[0m\n\u001b[1;32m     32\u001b[0m prompt_template \u001b[38;5;241m=\u001b[39m experiment_config[\u001b[38;5;124m\"\u001b[39m\u001b[38;5;124mprompt_template\u001b[39m\u001b[38;5;124m\"\u001b[39m]\n\u001b[1;32m     33\u001b[0m generation_params \u001b[38;5;241m=\u001b[39m experiment_config[\u001b[38;5;124m\"\u001b[39m\u001b[38;5;124mgeneration_params\u001b[39m\u001b[38;5;124m\"\u001b[39m]\n\u001b[0;32m---> 34\u001b[0m outputs, answers \u001b[38;5;241m=\u001b[39m \u001b[43mget_answers\u001b[49m\u001b[43m(\u001b[49m\u001b[43mqueries\u001b[49m\u001b[38;5;241;43m=\u001b[39;49m\u001b[43meval_questions\u001b[49m\u001b[43m,\u001b[49m\u001b[43m \u001b[49m\u001b[43mretrieved_chunks\u001b[49m\u001b[38;5;241;43m=\u001b[39;49m\u001b[43mtop_k_contexts\u001b[49m\u001b[43m,\u001b[49m\u001b[43m \u001b[49m\u001b[43mprompt_template\u001b[49m\u001b[38;5;241;43m=\u001b[39;49m\u001b[43mprompt_template\u001b[49m\u001b[43m,\u001b[49m\u001b[43m \u001b[49m\u001b[43mgeneration_config\u001b[49m\u001b[38;5;241;43m=\u001b[39;49m\u001b[43mgeneration_params\u001b[49m\u001b[43m,\u001b[49m\u001b[43m \u001b[49m\u001b[43mgeneration_function\u001b[49m\u001b[38;5;241;43m=\u001b[39;49m\u001b[43mgenerate\u001b[49m\u001b[43m)\u001b[49m\n\u001b[1;32m     35\u001b[0m \u001b[38;5;28mprint\u001b[39m(\u001b[38;5;124m\"\u001b[39m\u001b[38;5;124mThe answers are ready!!!\u001b[39m\u001b[38;5;124m\"\u001b[39m)\n\u001b[1;32m     37\u001b[0m exp_id \u001b[38;5;241m=\u001b[39m experiment_config[\u001b[38;5;124m\"\u001b[39m\u001b[38;5;124mexperiment_id\u001b[39m\u001b[38;5;124m\"\u001b[39m]\n",
      "Cell \u001b[0;32mIn[24], line 123\u001b[0m, in \u001b[0;36mmy_answer\u001b[0;34m(queries, retrieved_chunks, prompt_template, generation_config, generation_function)\u001b[0m\n\u001b[1;32m    120\u001b[0m     \u001b[38;5;28;01mreturn\u001b[39;00m outputs\n\u001b[1;32m    122\u001b[0m prompts \u001b[38;5;241m=\u001b[39m _my_form_prompt(prompt_template, queries, retrieved_chunks) \u001b[38;5;66;03m# apply your prompt template\u001b[39;00m\n\u001b[0;32m--> 123\u001b[0m outputs \u001b[38;5;241m=\u001b[39m \u001b[43mgeneration_function\u001b[49m\u001b[43m(\u001b[49m\u001b[43mprompts\u001b[49m\u001b[43m,\u001b[49m\u001b[43m \u001b[49m\u001b[43mgeneration_config\u001b[49m\u001b[43m)\u001b[49m\n\u001b[1;32m    124\u001b[0m answers \u001b[38;5;241m=\u001b[39m _my_parse_answer(outputs)\n\u001b[1;32m    125\u001b[0m \u001b[38;5;28;01mreturn\u001b[39;00m outputs, answers\n",
      "Cell \u001b[0;32mIn[24], line 96\u001b[0m, in \u001b[0;36mmy_generate\u001b[0;34m(prompts, generation_config)\u001b[0m\n\u001b[1;32m     94\u001b[0m generations \u001b[38;5;241m=\u001b[39m []\n\u001b[1;32m     95\u001b[0m \u001b[38;5;28;01mfor\u001b[39;00m prompt \u001b[38;5;129;01min\u001b[39;00m tqdm(prompts):\n\u001b[0;32m---> 96\u001b[0m     answer \u001b[38;5;241m=\u001b[39m \u001b[43mollama\u001b[49m\u001b[38;5;241;43m.\u001b[39;49m\u001b[43mgenerate\u001b[49m\u001b[43m(\u001b[49m\u001b[38;5;124;43m\"\u001b[39;49m\u001b[38;5;124;43mdeepseek-r1:7b-qwen-distill-q4_K_M\u001b[39;49m\u001b[38;5;124;43m\"\u001b[39;49m\u001b[43m,\u001b[49m\u001b[43m \u001b[49m\u001b[43mprompt\u001b[49m\u001b[38;5;241;43m=\u001b[39;49m\u001b[43mprompt\u001b[49m\u001b[43m,\u001b[49m\u001b[43m \u001b[49m\u001b[43moptions\u001b[49m\u001b[38;5;241;43m=\u001b[39;49m\u001b[43mgeneration_config\u001b[49m\u001b[43m)\u001b[49m\u001b[38;5;241m.\u001b[39mresponse\n\u001b[1;32m     97\u001b[0m     generations\u001b[38;5;241m.\u001b[39mappend(answer)\n\u001b[1;32m     98\u001b[0m \u001b[38;5;28;01mreturn\u001b[39;00m generations\n",
      "File \u001b[0;32m~/.pyenv/versions/inzva_w2/lib/python3.10/site-packages/ollama/_client.py:242\u001b[0m, in \u001b[0;36mClient.generate\u001b[0;34m(self, model, prompt, suffix, system, template, context, stream, raw, format, images, options, keep_alive)\u001b[0m\n\u001b[1;32m    216\u001b[0m \u001b[38;5;28;01mdef\u001b[39;00m\u001b[38;5;250m \u001b[39m\u001b[38;5;21mgenerate\u001b[39m(\n\u001b[1;32m    217\u001b[0m   \u001b[38;5;28mself\u001b[39m,\n\u001b[1;32m    218\u001b[0m   model: \u001b[38;5;28mstr\u001b[39m \u001b[38;5;241m=\u001b[39m \u001b[38;5;124m'\u001b[39m\u001b[38;5;124m'\u001b[39m,\n\u001b[0;32m   (...)\u001b[0m\n\u001b[1;32m    230\u001b[0m   keep_alive: Optional[Union[\u001b[38;5;28mfloat\u001b[39m, \u001b[38;5;28mstr\u001b[39m]] \u001b[38;5;241m=\u001b[39m \u001b[38;5;28;01mNone\u001b[39;00m,\n\u001b[1;32m    231\u001b[0m ) \u001b[38;5;241m-\u001b[39m\u001b[38;5;241m>\u001b[39m Union[GenerateResponse, Iterator[GenerateResponse]]:\n\u001b[1;32m    232\u001b[0m \u001b[38;5;250m  \u001b[39m\u001b[38;5;124;03m\"\"\"\u001b[39;00m\n\u001b[1;32m    233\u001b[0m \u001b[38;5;124;03m  Create a response using the requested model.\u001b[39;00m\n\u001b[1;32m    234\u001b[0m \n\u001b[0;32m   (...)\u001b[0m\n\u001b[1;32m    239\u001b[0m \u001b[38;5;124;03m  Returns `GenerateResponse` if `stream` is `False`, otherwise returns a `GenerateResponse` generator.\u001b[39;00m\n\u001b[1;32m    240\u001b[0m \u001b[38;5;124;03m  \"\"\"\u001b[39;00m\n\u001b[0;32m--> 242\u001b[0m   \u001b[38;5;28;01mreturn\u001b[39;00m \u001b[38;5;28;43mself\u001b[39;49m\u001b[38;5;241;43m.\u001b[39;49m\u001b[43m_request\u001b[49m\u001b[43m(\u001b[49m\n\u001b[1;32m    243\u001b[0m \u001b[43m    \u001b[49m\u001b[43mGenerateResponse\u001b[49m\u001b[43m,\u001b[49m\n\u001b[1;32m    244\u001b[0m \u001b[43m    \u001b[49m\u001b[38;5;124;43m'\u001b[39;49m\u001b[38;5;124;43mPOST\u001b[39;49m\u001b[38;5;124;43m'\u001b[39;49m\u001b[43m,\u001b[49m\n\u001b[1;32m    245\u001b[0m \u001b[43m    \u001b[49m\u001b[38;5;124;43m'\u001b[39;49m\u001b[38;5;124;43m/api/generate\u001b[39;49m\u001b[38;5;124;43m'\u001b[39;49m\u001b[43m,\u001b[49m\n\u001b[1;32m    246\u001b[0m \u001b[43m    \u001b[49m\u001b[43mjson\u001b[49m\u001b[38;5;241;43m=\u001b[39;49m\u001b[43mGenerateRequest\u001b[49m\u001b[43m(\u001b[49m\n\u001b[1;32m    247\u001b[0m \u001b[43m      \u001b[49m\u001b[43mmodel\u001b[49m\u001b[38;5;241;43m=\u001b[39;49m\u001b[43mmodel\u001b[49m\u001b[43m,\u001b[49m\n\u001b[1;32m    248\u001b[0m \u001b[43m      \u001b[49m\u001b[43mprompt\u001b[49m\u001b[38;5;241;43m=\u001b[39;49m\u001b[43mprompt\u001b[49m\u001b[43m,\u001b[49m\n\u001b[1;32m    249\u001b[0m \u001b[43m      \u001b[49m\u001b[43msuffix\u001b[49m\u001b[38;5;241;43m=\u001b[39;49m\u001b[43msuffix\u001b[49m\u001b[43m,\u001b[49m\n\u001b[1;32m    250\u001b[0m \u001b[43m      \u001b[49m\u001b[43msystem\u001b[49m\u001b[38;5;241;43m=\u001b[39;49m\u001b[43msystem\u001b[49m\u001b[43m,\u001b[49m\n\u001b[1;32m    251\u001b[0m \u001b[43m      \u001b[49m\u001b[43mtemplate\u001b[49m\u001b[38;5;241;43m=\u001b[39;49m\u001b[43mtemplate\u001b[49m\u001b[43m,\u001b[49m\n\u001b[1;32m    252\u001b[0m \u001b[43m      \u001b[49m\u001b[43mcontext\u001b[49m\u001b[38;5;241;43m=\u001b[39;49m\u001b[43mcontext\u001b[49m\u001b[43m,\u001b[49m\n\u001b[1;32m    253\u001b[0m \u001b[43m      \u001b[49m\u001b[43mstream\u001b[49m\u001b[38;5;241;43m=\u001b[39;49m\u001b[43mstream\u001b[49m\u001b[43m,\u001b[49m\n\u001b[1;32m    254\u001b[0m \u001b[43m      \u001b[49m\u001b[43mraw\u001b[49m\u001b[38;5;241;43m=\u001b[39;49m\u001b[43mraw\u001b[49m\u001b[43m,\u001b[49m\n\u001b[1;32m    255\u001b[0m \u001b[43m      \u001b[49m\u001b[38;5;28;43mformat\u001b[39;49m\u001b[38;5;241;43m=\u001b[39;49m\u001b[38;5;28;43mformat\u001b[39;49m\u001b[43m,\u001b[49m\n\u001b[1;32m    256\u001b[0m \u001b[43m      \u001b[49m\u001b[43mimages\u001b[49m\u001b[38;5;241;43m=\u001b[39;49m\u001b[43m[\u001b[49m\u001b[43mimage\u001b[49m\u001b[43m \u001b[49m\u001b[38;5;28;43;01mfor\u001b[39;49;00m\u001b[43m \u001b[49m\u001b[43mimage\u001b[49m\u001b[43m \u001b[49m\u001b[38;5;129;43;01min\u001b[39;49;00m\u001b[43m \u001b[49m\u001b[43m_copy_images\u001b[49m\u001b[43m(\u001b[49m\u001b[43mimages\u001b[49m\u001b[43m)\u001b[49m\u001b[43m]\u001b[49m\u001b[43m \u001b[49m\u001b[38;5;28;43;01mif\u001b[39;49;00m\u001b[43m \u001b[49m\u001b[43mimages\u001b[49m\u001b[43m \u001b[49m\u001b[38;5;28;43;01melse\u001b[39;49;00m\u001b[43m \u001b[49m\u001b[38;5;28;43;01mNone\u001b[39;49;00m\u001b[43m,\u001b[49m\n\u001b[1;32m    257\u001b[0m \u001b[43m      \u001b[49m\u001b[43moptions\u001b[49m\u001b[38;5;241;43m=\u001b[39;49m\u001b[43moptions\u001b[49m\u001b[43m,\u001b[49m\n\u001b[1;32m    258\u001b[0m \u001b[43m      \u001b[49m\u001b[43mkeep_alive\u001b[49m\u001b[38;5;241;43m=\u001b[39;49m\u001b[43mkeep_alive\u001b[49m\u001b[43m,\u001b[49m\n\u001b[1;32m    259\u001b[0m \u001b[43m    \u001b[49m\u001b[43m)\u001b[49m\u001b[38;5;241;43m.\u001b[39;49m\u001b[43mmodel_dump\u001b[49m\u001b[43m(\u001b[49m\u001b[43mexclude_none\u001b[49m\u001b[38;5;241;43m=\u001b[39;49m\u001b[38;5;28;43;01mTrue\u001b[39;49;00m\u001b[43m)\u001b[49m\u001b[43m,\u001b[49m\n\u001b[1;32m    260\u001b[0m \u001b[43m    \u001b[49m\u001b[43mstream\u001b[49m\u001b[38;5;241;43m=\u001b[39;49m\u001b[43mstream\u001b[49m\u001b[43m,\u001b[49m\n\u001b[1;32m    261\u001b[0m \u001b[43m  \u001b[49m\u001b[43m)\u001b[49m\n",
      "File \u001b[0;32m~/.pyenv/versions/inzva_w2/lib/python3.10/site-packages/ollama/_client.py:178\u001b[0m, in \u001b[0;36mClient._request\u001b[0;34m(self, cls, stream, *args, **kwargs)\u001b[0m\n\u001b[1;32m    174\u001b[0m         \u001b[38;5;28;01myield\u001b[39;00m \u001b[38;5;28mcls\u001b[39m(\u001b[38;5;241m*\u001b[39m\u001b[38;5;241m*\u001b[39mpart)\n\u001b[1;32m    176\u001b[0m   \u001b[38;5;28;01mreturn\u001b[39;00m inner()\n\u001b[0;32m--> 178\u001b[0m \u001b[38;5;28;01mreturn\u001b[39;00m \u001b[38;5;28mcls\u001b[39m(\u001b[38;5;241m*\u001b[39m\u001b[38;5;241m*\u001b[39m\u001b[38;5;28;43mself\u001b[39;49m\u001b[38;5;241;43m.\u001b[39;49m\u001b[43m_request_raw\u001b[49m\u001b[43m(\u001b[49m\u001b[38;5;241;43m*\u001b[39;49m\u001b[43margs\u001b[49m\u001b[43m,\u001b[49m\u001b[43m \u001b[49m\u001b[38;5;241;43m*\u001b[39;49m\u001b[38;5;241;43m*\u001b[39;49m\u001b[43mkwargs\u001b[49m\u001b[43m)\u001b[49m\u001b[38;5;241m.\u001b[39mjson())\n",
      "File \u001b[0;32m~/.pyenv/versions/inzva_w2/lib/python3.10/site-packages/ollama/_client.py:118\u001b[0m, in \u001b[0;36mClient._request_raw\u001b[0;34m(self, *args, **kwargs)\u001b[0m\n\u001b[1;32m    116\u001b[0m \u001b[38;5;28;01mdef\u001b[39;00m\u001b[38;5;250m \u001b[39m\u001b[38;5;21m_request_raw\u001b[39m(\u001b[38;5;28mself\u001b[39m, \u001b[38;5;241m*\u001b[39margs, \u001b[38;5;241m*\u001b[39m\u001b[38;5;241m*\u001b[39mkwargs):\n\u001b[1;32m    117\u001b[0m   \u001b[38;5;28;01mtry\u001b[39;00m:\n\u001b[0;32m--> 118\u001b[0m     r \u001b[38;5;241m=\u001b[39m \u001b[38;5;28;43mself\u001b[39;49m\u001b[38;5;241;43m.\u001b[39;49m\u001b[43m_client\u001b[49m\u001b[38;5;241;43m.\u001b[39;49m\u001b[43mrequest\u001b[49m\u001b[43m(\u001b[49m\u001b[38;5;241;43m*\u001b[39;49m\u001b[43margs\u001b[49m\u001b[43m,\u001b[49m\u001b[43m \u001b[49m\u001b[38;5;241;43m*\u001b[39;49m\u001b[38;5;241;43m*\u001b[39;49m\u001b[43mkwargs\u001b[49m\u001b[43m)\u001b[49m\n\u001b[1;32m    119\u001b[0m     r\u001b[38;5;241m.\u001b[39mraise_for_status()\n\u001b[1;32m    120\u001b[0m     \u001b[38;5;28;01mreturn\u001b[39;00m r\n",
      "File \u001b[0;32m~/.pyenv/versions/inzva_w2/lib/python3.10/site-packages/httpx/_client.py:825\u001b[0m, in \u001b[0;36mClient.request\u001b[0;34m(self, method, url, content, data, files, json, params, headers, cookies, auth, follow_redirects, timeout, extensions)\u001b[0m\n\u001b[1;32m    810\u001b[0m     warnings\u001b[38;5;241m.\u001b[39mwarn(message, \u001b[38;5;167;01mDeprecationWarning\u001b[39;00m, stacklevel\u001b[38;5;241m=\u001b[39m\u001b[38;5;241m2\u001b[39m)\n\u001b[1;32m    812\u001b[0m request \u001b[38;5;241m=\u001b[39m \u001b[38;5;28mself\u001b[39m\u001b[38;5;241m.\u001b[39mbuild_request(\n\u001b[1;32m    813\u001b[0m     method\u001b[38;5;241m=\u001b[39mmethod,\n\u001b[1;32m    814\u001b[0m     url\u001b[38;5;241m=\u001b[39murl,\n\u001b[0;32m   (...)\u001b[0m\n\u001b[1;32m    823\u001b[0m     extensions\u001b[38;5;241m=\u001b[39mextensions,\n\u001b[1;32m    824\u001b[0m )\n\u001b[0;32m--> 825\u001b[0m \u001b[38;5;28;01mreturn\u001b[39;00m \u001b[38;5;28;43mself\u001b[39;49m\u001b[38;5;241;43m.\u001b[39;49m\u001b[43msend\u001b[49m\u001b[43m(\u001b[49m\u001b[43mrequest\u001b[49m\u001b[43m,\u001b[49m\u001b[43m \u001b[49m\u001b[43mauth\u001b[49m\u001b[38;5;241;43m=\u001b[39;49m\u001b[43mauth\u001b[49m\u001b[43m,\u001b[49m\u001b[43m \u001b[49m\u001b[43mfollow_redirects\u001b[49m\u001b[38;5;241;43m=\u001b[39;49m\u001b[43mfollow_redirects\u001b[49m\u001b[43m)\u001b[49m\n",
      "File \u001b[0;32m~/.pyenv/versions/inzva_w2/lib/python3.10/site-packages/httpx/_client.py:914\u001b[0m, in \u001b[0;36mClient.send\u001b[0;34m(self, request, stream, auth, follow_redirects)\u001b[0m\n\u001b[1;32m    910\u001b[0m \u001b[38;5;28mself\u001b[39m\u001b[38;5;241m.\u001b[39m_set_timeout(request)\n\u001b[1;32m    912\u001b[0m auth \u001b[38;5;241m=\u001b[39m \u001b[38;5;28mself\u001b[39m\u001b[38;5;241m.\u001b[39m_build_request_auth(request, auth)\n\u001b[0;32m--> 914\u001b[0m response \u001b[38;5;241m=\u001b[39m \u001b[38;5;28;43mself\u001b[39;49m\u001b[38;5;241;43m.\u001b[39;49m\u001b[43m_send_handling_auth\u001b[49m\u001b[43m(\u001b[49m\n\u001b[1;32m    915\u001b[0m \u001b[43m    \u001b[49m\u001b[43mrequest\u001b[49m\u001b[43m,\u001b[49m\n\u001b[1;32m    916\u001b[0m \u001b[43m    \u001b[49m\u001b[43mauth\u001b[49m\u001b[38;5;241;43m=\u001b[39;49m\u001b[43mauth\u001b[49m\u001b[43m,\u001b[49m\n\u001b[1;32m    917\u001b[0m \u001b[43m    \u001b[49m\u001b[43mfollow_redirects\u001b[49m\u001b[38;5;241;43m=\u001b[39;49m\u001b[43mfollow_redirects\u001b[49m\u001b[43m,\u001b[49m\n\u001b[1;32m    918\u001b[0m \u001b[43m    \u001b[49m\u001b[43mhistory\u001b[49m\u001b[38;5;241;43m=\u001b[39;49m\u001b[43m[\u001b[49m\u001b[43m]\u001b[49m\u001b[43m,\u001b[49m\n\u001b[1;32m    919\u001b[0m \u001b[43m\u001b[49m\u001b[43m)\u001b[49m\n\u001b[1;32m    920\u001b[0m \u001b[38;5;28;01mtry\u001b[39;00m:\n\u001b[1;32m    921\u001b[0m     \u001b[38;5;28;01mif\u001b[39;00m \u001b[38;5;129;01mnot\u001b[39;00m stream:\n",
      "File \u001b[0;32m~/.pyenv/versions/inzva_w2/lib/python3.10/site-packages/httpx/_client.py:942\u001b[0m, in \u001b[0;36mClient._send_handling_auth\u001b[0;34m(self, request, auth, follow_redirects, history)\u001b[0m\n\u001b[1;32m    939\u001b[0m request \u001b[38;5;241m=\u001b[39m \u001b[38;5;28mnext\u001b[39m(auth_flow)\n\u001b[1;32m    941\u001b[0m \u001b[38;5;28;01mwhile\u001b[39;00m \u001b[38;5;28;01mTrue\u001b[39;00m:\n\u001b[0;32m--> 942\u001b[0m     response \u001b[38;5;241m=\u001b[39m \u001b[38;5;28;43mself\u001b[39;49m\u001b[38;5;241;43m.\u001b[39;49m\u001b[43m_send_handling_redirects\u001b[49m\u001b[43m(\u001b[49m\n\u001b[1;32m    943\u001b[0m \u001b[43m        \u001b[49m\u001b[43mrequest\u001b[49m\u001b[43m,\u001b[49m\n\u001b[1;32m    944\u001b[0m \u001b[43m        \u001b[49m\u001b[43mfollow_redirects\u001b[49m\u001b[38;5;241;43m=\u001b[39;49m\u001b[43mfollow_redirects\u001b[49m\u001b[43m,\u001b[49m\n\u001b[1;32m    945\u001b[0m \u001b[43m        \u001b[49m\u001b[43mhistory\u001b[49m\u001b[38;5;241;43m=\u001b[39;49m\u001b[43mhistory\u001b[49m\u001b[43m,\u001b[49m\n\u001b[1;32m    946\u001b[0m \u001b[43m    \u001b[49m\u001b[43m)\u001b[49m\n\u001b[1;32m    947\u001b[0m     \u001b[38;5;28;01mtry\u001b[39;00m:\n\u001b[1;32m    948\u001b[0m         \u001b[38;5;28;01mtry\u001b[39;00m:\n",
      "File \u001b[0;32m~/.pyenv/versions/inzva_w2/lib/python3.10/site-packages/httpx/_client.py:979\u001b[0m, in \u001b[0;36mClient._send_handling_redirects\u001b[0;34m(self, request, follow_redirects, history)\u001b[0m\n\u001b[1;32m    976\u001b[0m \u001b[38;5;28;01mfor\u001b[39;00m hook \u001b[38;5;129;01min\u001b[39;00m \u001b[38;5;28mself\u001b[39m\u001b[38;5;241m.\u001b[39m_event_hooks[\u001b[38;5;124m\"\u001b[39m\u001b[38;5;124mrequest\u001b[39m\u001b[38;5;124m\"\u001b[39m]:\n\u001b[1;32m    977\u001b[0m     hook(request)\n\u001b[0;32m--> 979\u001b[0m response \u001b[38;5;241m=\u001b[39m \u001b[38;5;28;43mself\u001b[39;49m\u001b[38;5;241;43m.\u001b[39;49m\u001b[43m_send_single_request\u001b[49m\u001b[43m(\u001b[49m\u001b[43mrequest\u001b[49m\u001b[43m)\u001b[49m\n\u001b[1;32m    980\u001b[0m \u001b[38;5;28;01mtry\u001b[39;00m:\n\u001b[1;32m    981\u001b[0m     \u001b[38;5;28;01mfor\u001b[39;00m hook \u001b[38;5;129;01min\u001b[39;00m \u001b[38;5;28mself\u001b[39m\u001b[38;5;241m.\u001b[39m_event_hooks[\u001b[38;5;124m\"\u001b[39m\u001b[38;5;124mresponse\u001b[39m\u001b[38;5;124m\"\u001b[39m]:\n",
      "File \u001b[0;32m~/.pyenv/versions/inzva_w2/lib/python3.10/site-packages/httpx/_client.py:1014\u001b[0m, in \u001b[0;36mClient._send_single_request\u001b[0;34m(self, request)\u001b[0m\n\u001b[1;32m   1009\u001b[0m     \u001b[38;5;28;01mraise\u001b[39;00m \u001b[38;5;167;01mRuntimeError\u001b[39;00m(\n\u001b[1;32m   1010\u001b[0m         \u001b[38;5;124m\"\u001b[39m\u001b[38;5;124mAttempted to send an async request with a sync Client instance.\u001b[39m\u001b[38;5;124m\"\u001b[39m\n\u001b[1;32m   1011\u001b[0m     )\n\u001b[1;32m   1013\u001b[0m \u001b[38;5;28;01mwith\u001b[39;00m request_context(request\u001b[38;5;241m=\u001b[39mrequest):\n\u001b[0;32m-> 1014\u001b[0m     response \u001b[38;5;241m=\u001b[39m \u001b[43mtransport\u001b[49m\u001b[38;5;241;43m.\u001b[39;49m\u001b[43mhandle_request\u001b[49m\u001b[43m(\u001b[49m\u001b[43mrequest\u001b[49m\u001b[43m)\u001b[49m\n\u001b[1;32m   1016\u001b[0m \u001b[38;5;28;01massert\u001b[39;00m \u001b[38;5;28misinstance\u001b[39m(response\u001b[38;5;241m.\u001b[39mstream, SyncByteStream)\n\u001b[1;32m   1018\u001b[0m response\u001b[38;5;241m.\u001b[39mrequest \u001b[38;5;241m=\u001b[39m request\n",
      "File \u001b[0;32m~/.pyenv/versions/inzva_w2/lib/python3.10/site-packages/httpx/_transports/default.py:250\u001b[0m, in \u001b[0;36mHTTPTransport.handle_request\u001b[0;34m(self, request)\u001b[0m\n\u001b[1;32m    237\u001b[0m req \u001b[38;5;241m=\u001b[39m httpcore\u001b[38;5;241m.\u001b[39mRequest(\n\u001b[1;32m    238\u001b[0m     method\u001b[38;5;241m=\u001b[39mrequest\u001b[38;5;241m.\u001b[39mmethod,\n\u001b[1;32m    239\u001b[0m     url\u001b[38;5;241m=\u001b[39mhttpcore\u001b[38;5;241m.\u001b[39mURL(\n\u001b[0;32m   (...)\u001b[0m\n\u001b[1;32m    247\u001b[0m     extensions\u001b[38;5;241m=\u001b[39mrequest\u001b[38;5;241m.\u001b[39mextensions,\n\u001b[1;32m    248\u001b[0m )\n\u001b[1;32m    249\u001b[0m \u001b[38;5;28;01mwith\u001b[39;00m map_httpcore_exceptions():\n\u001b[0;32m--> 250\u001b[0m     resp \u001b[38;5;241m=\u001b[39m \u001b[38;5;28;43mself\u001b[39;49m\u001b[38;5;241;43m.\u001b[39;49m\u001b[43m_pool\u001b[49m\u001b[38;5;241;43m.\u001b[39;49m\u001b[43mhandle_request\u001b[49m\u001b[43m(\u001b[49m\u001b[43mreq\u001b[49m\u001b[43m)\u001b[49m\n\u001b[1;32m    252\u001b[0m \u001b[38;5;28;01massert\u001b[39;00m \u001b[38;5;28misinstance\u001b[39m(resp\u001b[38;5;241m.\u001b[39mstream, typing\u001b[38;5;241m.\u001b[39mIterable)\n\u001b[1;32m    254\u001b[0m \u001b[38;5;28;01mreturn\u001b[39;00m Response(\n\u001b[1;32m    255\u001b[0m     status_code\u001b[38;5;241m=\u001b[39mresp\u001b[38;5;241m.\u001b[39mstatus,\n\u001b[1;32m    256\u001b[0m     headers\u001b[38;5;241m=\u001b[39mresp\u001b[38;5;241m.\u001b[39mheaders,\n\u001b[1;32m    257\u001b[0m     stream\u001b[38;5;241m=\u001b[39mResponseStream(resp\u001b[38;5;241m.\u001b[39mstream),\n\u001b[1;32m    258\u001b[0m     extensions\u001b[38;5;241m=\u001b[39mresp\u001b[38;5;241m.\u001b[39mextensions,\n\u001b[1;32m    259\u001b[0m )\n",
      "File \u001b[0;32m~/.pyenv/versions/inzva_w2/lib/python3.10/site-packages/httpcore/_sync/connection_pool.py:256\u001b[0m, in \u001b[0;36mConnectionPool.handle_request\u001b[0;34m(self, request)\u001b[0m\n\u001b[1;32m    253\u001b[0m         closing \u001b[38;5;241m=\u001b[39m \u001b[38;5;28mself\u001b[39m\u001b[38;5;241m.\u001b[39m_assign_requests_to_connections()\n\u001b[1;32m    255\u001b[0m     \u001b[38;5;28mself\u001b[39m\u001b[38;5;241m.\u001b[39m_close_connections(closing)\n\u001b[0;32m--> 256\u001b[0m     \u001b[38;5;28;01mraise\u001b[39;00m exc \u001b[38;5;28;01mfrom\u001b[39;00m\u001b[38;5;250m \u001b[39m\u001b[38;5;28;01mNone\u001b[39;00m\n\u001b[1;32m    258\u001b[0m \u001b[38;5;66;03m# Return the response. Note that in this case we still have to manage\u001b[39;00m\n\u001b[1;32m    259\u001b[0m \u001b[38;5;66;03m# the point at which the response is closed.\u001b[39;00m\n\u001b[1;32m    260\u001b[0m \u001b[38;5;28;01massert\u001b[39;00m \u001b[38;5;28misinstance\u001b[39m(response\u001b[38;5;241m.\u001b[39mstream, typing\u001b[38;5;241m.\u001b[39mIterable)\n",
      "File \u001b[0;32m~/.pyenv/versions/inzva_w2/lib/python3.10/site-packages/httpcore/_sync/connection_pool.py:236\u001b[0m, in \u001b[0;36mConnectionPool.handle_request\u001b[0;34m(self, request)\u001b[0m\n\u001b[1;32m    232\u001b[0m connection \u001b[38;5;241m=\u001b[39m pool_request\u001b[38;5;241m.\u001b[39mwait_for_connection(timeout\u001b[38;5;241m=\u001b[39mtimeout)\n\u001b[1;32m    234\u001b[0m \u001b[38;5;28;01mtry\u001b[39;00m:\n\u001b[1;32m    235\u001b[0m     \u001b[38;5;66;03m# Send the request on the assigned connection.\u001b[39;00m\n\u001b[0;32m--> 236\u001b[0m     response \u001b[38;5;241m=\u001b[39m \u001b[43mconnection\u001b[49m\u001b[38;5;241;43m.\u001b[39;49m\u001b[43mhandle_request\u001b[49m\u001b[43m(\u001b[49m\n\u001b[1;32m    237\u001b[0m \u001b[43m        \u001b[49m\u001b[43mpool_request\u001b[49m\u001b[38;5;241;43m.\u001b[39;49m\u001b[43mrequest\u001b[49m\n\u001b[1;32m    238\u001b[0m \u001b[43m    \u001b[49m\u001b[43m)\u001b[49m\n\u001b[1;32m    239\u001b[0m \u001b[38;5;28;01mexcept\u001b[39;00m ConnectionNotAvailable:\n\u001b[1;32m    240\u001b[0m     \u001b[38;5;66;03m# In some cases a connection may initially be available to\u001b[39;00m\n\u001b[1;32m    241\u001b[0m     \u001b[38;5;66;03m# handle a request, but then become unavailable.\u001b[39;00m\n\u001b[1;32m    242\u001b[0m     \u001b[38;5;66;03m#\u001b[39;00m\n\u001b[1;32m    243\u001b[0m     \u001b[38;5;66;03m# In this case we clear the connection and try again.\u001b[39;00m\n\u001b[1;32m    244\u001b[0m     pool_request\u001b[38;5;241m.\u001b[39mclear_connection()\n",
      "File \u001b[0;32m~/.pyenv/versions/inzva_w2/lib/python3.10/site-packages/httpcore/_sync/connection.py:103\u001b[0m, in \u001b[0;36mHTTPConnection.handle_request\u001b[0;34m(self, request)\u001b[0m\n\u001b[1;32m    100\u001b[0m     \u001b[38;5;28mself\u001b[39m\u001b[38;5;241m.\u001b[39m_connect_failed \u001b[38;5;241m=\u001b[39m \u001b[38;5;28;01mTrue\u001b[39;00m\n\u001b[1;32m    101\u001b[0m     \u001b[38;5;28;01mraise\u001b[39;00m exc\n\u001b[0;32m--> 103\u001b[0m \u001b[38;5;28;01mreturn\u001b[39;00m \u001b[38;5;28;43mself\u001b[39;49m\u001b[38;5;241;43m.\u001b[39;49m\u001b[43m_connection\u001b[49m\u001b[38;5;241;43m.\u001b[39;49m\u001b[43mhandle_request\u001b[49m\u001b[43m(\u001b[49m\u001b[43mrequest\u001b[49m\u001b[43m)\u001b[49m\n",
      "File \u001b[0;32m~/.pyenv/versions/inzva_w2/lib/python3.10/site-packages/httpcore/_sync/http11.py:136\u001b[0m, in \u001b[0;36mHTTP11Connection.handle_request\u001b[0;34m(self, request)\u001b[0m\n\u001b[1;32m    134\u001b[0m     \u001b[38;5;28;01mwith\u001b[39;00m Trace(\u001b[38;5;124m\"\u001b[39m\u001b[38;5;124mresponse_closed\u001b[39m\u001b[38;5;124m\"\u001b[39m, logger, request) \u001b[38;5;28;01mas\u001b[39;00m trace:\n\u001b[1;32m    135\u001b[0m         \u001b[38;5;28mself\u001b[39m\u001b[38;5;241m.\u001b[39m_response_closed()\n\u001b[0;32m--> 136\u001b[0m \u001b[38;5;28;01mraise\u001b[39;00m exc\n",
      "File \u001b[0;32m~/.pyenv/versions/inzva_w2/lib/python3.10/site-packages/httpcore/_sync/http11.py:106\u001b[0m, in \u001b[0;36mHTTP11Connection.handle_request\u001b[0;34m(self, request)\u001b[0m\n\u001b[1;32m     95\u001b[0m     \u001b[38;5;28;01mpass\u001b[39;00m\n\u001b[1;32m     97\u001b[0m \u001b[38;5;28;01mwith\u001b[39;00m Trace(\n\u001b[1;32m     98\u001b[0m     \u001b[38;5;124m\"\u001b[39m\u001b[38;5;124mreceive_response_headers\u001b[39m\u001b[38;5;124m\"\u001b[39m, logger, request, kwargs\n\u001b[1;32m     99\u001b[0m ) \u001b[38;5;28;01mas\u001b[39;00m trace:\n\u001b[1;32m    100\u001b[0m     (\n\u001b[1;32m    101\u001b[0m         http_version,\n\u001b[1;32m    102\u001b[0m         status,\n\u001b[1;32m    103\u001b[0m         reason_phrase,\n\u001b[1;32m    104\u001b[0m         headers,\n\u001b[1;32m    105\u001b[0m         trailing_data,\n\u001b[0;32m--> 106\u001b[0m     ) \u001b[38;5;241m=\u001b[39m \u001b[38;5;28;43mself\u001b[39;49m\u001b[38;5;241;43m.\u001b[39;49m\u001b[43m_receive_response_headers\u001b[49m\u001b[43m(\u001b[49m\u001b[38;5;241;43m*\u001b[39;49m\u001b[38;5;241;43m*\u001b[39;49m\u001b[43mkwargs\u001b[49m\u001b[43m)\u001b[49m\n\u001b[1;32m    107\u001b[0m     trace\u001b[38;5;241m.\u001b[39mreturn_value \u001b[38;5;241m=\u001b[39m (\n\u001b[1;32m    108\u001b[0m         http_version,\n\u001b[1;32m    109\u001b[0m         status,\n\u001b[1;32m    110\u001b[0m         reason_phrase,\n\u001b[1;32m    111\u001b[0m         headers,\n\u001b[1;32m    112\u001b[0m     )\n\u001b[1;32m    114\u001b[0m network_stream \u001b[38;5;241m=\u001b[39m \u001b[38;5;28mself\u001b[39m\u001b[38;5;241m.\u001b[39m_network_stream\n",
      "File \u001b[0;32m~/.pyenv/versions/inzva_w2/lib/python3.10/site-packages/httpcore/_sync/http11.py:177\u001b[0m, in \u001b[0;36mHTTP11Connection._receive_response_headers\u001b[0;34m(self, request)\u001b[0m\n\u001b[1;32m    174\u001b[0m timeout \u001b[38;5;241m=\u001b[39m timeouts\u001b[38;5;241m.\u001b[39mget(\u001b[38;5;124m\"\u001b[39m\u001b[38;5;124mread\u001b[39m\u001b[38;5;124m\"\u001b[39m, \u001b[38;5;28;01mNone\u001b[39;00m)\n\u001b[1;32m    176\u001b[0m \u001b[38;5;28;01mwhile\u001b[39;00m \u001b[38;5;28;01mTrue\u001b[39;00m:\n\u001b[0;32m--> 177\u001b[0m     event \u001b[38;5;241m=\u001b[39m \u001b[38;5;28;43mself\u001b[39;49m\u001b[38;5;241;43m.\u001b[39;49m\u001b[43m_receive_event\u001b[49m\u001b[43m(\u001b[49m\u001b[43mtimeout\u001b[49m\u001b[38;5;241;43m=\u001b[39;49m\u001b[43mtimeout\u001b[49m\u001b[43m)\u001b[49m\n\u001b[1;32m    178\u001b[0m     \u001b[38;5;28;01mif\u001b[39;00m \u001b[38;5;28misinstance\u001b[39m(event, h11\u001b[38;5;241m.\u001b[39mResponse):\n\u001b[1;32m    179\u001b[0m         \u001b[38;5;28;01mbreak\u001b[39;00m\n",
      "File \u001b[0;32m~/.pyenv/versions/inzva_w2/lib/python3.10/site-packages/httpcore/_sync/http11.py:217\u001b[0m, in \u001b[0;36mHTTP11Connection._receive_event\u001b[0;34m(self, timeout)\u001b[0m\n\u001b[1;32m    214\u001b[0m     event \u001b[38;5;241m=\u001b[39m \u001b[38;5;28mself\u001b[39m\u001b[38;5;241m.\u001b[39m_h11_state\u001b[38;5;241m.\u001b[39mnext_event()\n\u001b[1;32m    216\u001b[0m \u001b[38;5;28;01mif\u001b[39;00m event \u001b[38;5;129;01mis\u001b[39;00m h11\u001b[38;5;241m.\u001b[39mNEED_DATA:\n\u001b[0;32m--> 217\u001b[0m     data \u001b[38;5;241m=\u001b[39m \u001b[38;5;28;43mself\u001b[39;49m\u001b[38;5;241;43m.\u001b[39;49m\u001b[43m_network_stream\u001b[49m\u001b[38;5;241;43m.\u001b[39;49m\u001b[43mread\u001b[49m\u001b[43m(\u001b[49m\n\u001b[1;32m    218\u001b[0m \u001b[43m        \u001b[49m\u001b[38;5;28;43mself\u001b[39;49m\u001b[38;5;241;43m.\u001b[39;49m\u001b[43mREAD_NUM_BYTES\u001b[49m\u001b[43m,\u001b[49m\u001b[43m \u001b[49m\u001b[43mtimeout\u001b[49m\u001b[38;5;241;43m=\u001b[39;49m\u001b[43mtimeout\u001b[49m\n\u001b[1;32m    219\u001b[0m \u001b[43m    \u001b[49m\u001b[43m)\u001b[49m\n\u001b[1;32m    221\u001b[0m     \u001b[38;5;66;03m# If we feed this case through h11 we'll raise an exception like:\u001b[39;00m\n\u001b[1;32m    222\u001b[0m     \u001b[38;5;66;03m#\u001b[39;00m\n\u001b[1;32m    223\u001b[0m     \u001b[38;5;66;03m#     httpcore.RemoteProtocolError: can't handle event type\u001b[39;00m\n\u001b[0;32m   (...)\u001b[0m\n\u001b[1;32m    227\u001b[0m     \u001b[38;5;66;03m# perspective. Instead we handle this case distinctly and treat\u001b[39;00m\n\u001b[1;32m    228\u001b[0m     \u001b[38;5;66;03m# it as a ConnectError.\u001b[39;00m\n\u001b[1;32m    229\u001b[0m     \u001b[38;5;28;01mif\u001b[39;00m data \u001b[38;5;241m==\u001b[39m \u001b[38;5;124mb\u001b[39m\u001b[38;5;124m\"\u001b[39m\u001b[38;5;124m\"\u001b[39m \u001b[38;5;129;01mand\u001b[39;00m \u001b[38;5;28mself\u001b[39m\u001b[38;5;241m.\u001b[39m_h11_state\u001b[38;5;241m.\u001b[39mtheir_state \u001b[38;5;241m==\u001b[39m h11\u001b[38;5;241m.\u001b[39mSEND_RESPONSE:\n",
      "File \u001b[0;32m~/.pyenv/versions/inzva_w2/lib/python3.10/site-packages/httpcore/_backends/sync.py:128\u001b[0m, in \u001b[0;36mSyncStream.read\u001b[0;34m(self, max_bytes, timeout)\u001b[0m\n\u001b[1;32m    126\u001b[0m \u001b[38;5;28;01mwith\u001b[39;00m map_exceptions(exc_map):\n\u001b[1;32m    127\u001b[0m     \u001b[38;5;28mself\u001b[39m\u001b[38;5;241m.\u001b[39m_sock\u001b[38;5;241m.\u001b[39msettimeout(timeout)\n\u001b[0;32m--> 128\u001b[0m     \u001b[38;5;28;01mreturn\u001b[39;00m \u001b[38;5;28;43mself\u001b[39;49m\u001b[38;5;241;43m.\u001b[39;49m\u001b[43m_sock\u001b[49m\u001b[38;5;241;43m.\u001b[39;49m\u001b[43mrecv\u001b[49m\u001b[43m(\u001b[49m\u001b[43mmax_bytes\u001b[49m\u001b[43m)\u001b[49m\n",
      "\u001b[0;31mKeyboardInterrupt\u001b[0m: "
     ]
    }
   ],
   "source": [
    "%%time\n",
    "results = run_trial(my_experiment_config)"
   ]
  },
  {
   "cell_type": "code",
   "execution_count": null,
   "id": "659a7e61-52fd-4757-9320-f9be276e08ad",
   "metadata": {},
   "outputs": [],
   "source": [
    "record_trial(results, my_experiment_config)"
   ]
  },
  {
   "cell_type": "code",
   "execution_count": null,
   "id": "46b58622-3f45-4e90-96fb-2e120fd7bc7e",
   "metadata": {},
   "outputs": [],
   "source": []
  },
  {
   "cell_type": "code",
   "execution_count": null,
   "id": "d9a74b06-bdc6-4060-bf1e-9cab6524c976",
   "metadata": {},
   "outputs": [],
   "source": []
  },
  {
   "cell_type": "code",
   "execution_count": null,
   "id": "d41e85b6-3efa-46c6-861a-bb29387ae600",
   "metadata": {},
   "outputs": [],
   "source": []
  },
  {
   "cell_type": "code",
   "execution_count": null,
   "id": "428d776c-03ff-4b7d-b33c-c884c9a20921",
   "metadata": {},
   "outputs": [],
   "source": []
  },
  {
   "cell_type": "code",
   "execution_count": null,
   "id": "9ac69a39-7935-4bf4-8319-67490b3c8a40",
   "metadata": {},
   "outputs": [],
   "source": []
  },
  {
   "cell_type": "code",
   "execution_count": null,
   "id": "74bd5ee0-ac60-40d2-b395-0d0f7a301dc4",
   "metadata": {},
   "outputs": [],
   "source": []
  },
  {
   "cell_type": "code",
   "execution_count": null,
   "id": "aece0d71-5964-42cf-8cc3-807d269f3c1c",
   "metadata": {},
   "outputs": [],
   "source": []
  },
  {
   "cell_type": "code",
   "execution_count": null,
   "id": "f0a54b12-8909-435f-babf-5b0a2e1cc9e3",
   "metadata": {},
   "outputs": [],
   "source": []
  },
  {
   "cell_type": "code",
   "execution_count": null,
   "id": "ceb6c1ef-65c9-4a96-bb3f-813b6824af52",
   "metadata": {},
   "outputs": [],
   "source": []
  },
  {
   "cell_type": "code",
   "execution_count": null,
   "id": "5be02fea-545b-47d1-aadf-c5482ee07047",
   "metadata": {},
   "outputs": [],
   "source": []
  },
  {
   "cell_type": "code",
   "execution_count": null,
   "id": "e6d71f36-1b0a-428d-817a-8a31a615ada1",
   "metadata": {},
   "outputs": [],
   "source": []
  },
  {
   "cell_type": "code",
   "execution_count": null,
   "id": "4548d252-1a44-4c0d-af72-2c8c08f4e7ea",
   "metadata": {},
   "outputs": [],
   "source": []
  },
  {
   "cell_type": "code",
   "execution_count": null,
   "id": "0d0578fb-a244-416d-9e0a-99a50d6df69f",
   "metadata": {},
   "outputs": [],
   "source": []
  },
  {
   "cell_type": "markdown",
   "id": "d894fc15-e48a-48f2-a416-73b5d992c47d",
   "metadata": {},
   "source": [
    "## check results"
   ]
  },
  {
   "cell_type": "code",
   "execution_count": 83,
   "id": "28efde90-256e-49c5-86cc-07c8c5265178",
   "metadata": {
    "scrolled": true
   },
   "outputs": [
    {
     "data": {
      "text/html": [
       "<div>\n",
       "<style scoped>\n",
       "    .dataframe tbody tr th:only-of-type {\n",
       "        vertical-align: middle;\n",
       "    }\n",
       "\n",
       "    .dataframe tbody tr th {\n",
       "        vertical-align: top;\n",
       "    }\n",
       "\n",
       "    .dataframe thead th {\n",
       "        text-align: right;\n",
       "    }\n",
       "</style>\n",
       "<table border=\"1\" class=\"dataframe\">\n",
       "  <thead>\n",
       "    <tr style=\"text-align: right;\">\n",
       "      <th></th>\n",
       "      <th>full_question_text</th>\n",
       "      <th>answer</th>\n",
       "      <th>example_entry_outputs</th>\n",
       "      <th>example_entry_answers</th>\n",
       "      <th>no_retriever_outputs</th>\n",
       "      <th>no_retriever_answers</th>\n",
       "      <th>tfidf_as_retriever_outputs</th>\n",
       "      <th>tfidf_as_retriever_answers</th>\n",
       "    </tr>\n",
       "  </thead>\n",
       "  <tbody>\n",
       "    <tr>\n",
       "      <th>0</th>\n",
       "      <td>When did the first season of \"Avrupa Yakası\" air? \\n A) 2002-2003 \\n B) 2003-2004 \\n C) 2004-2005 \\n D) 2005-2006 \\n</td>\n",
       "      <td>C</td>\n",
       "      <td>My Final Answer: C \\n</td>\n",
       "      <td>C</td>\n",
       "      <td>Ah, Avrupa Yakası! A true masterpiece. \\n\\nThe first season of \"Avrupa Yakası\" aired in **2005**.  \\n\\nMy Final Answer: b \\n</td>\n",
       "      <td>b</td>\n",
       "      <td>My Final Answer: c \\n</td>\n",
       "      <td>c</td>\n",
       "    </tr>\n",
       "    <tr>\n",
       "      <th>1</th>\n",
       "      <td>How many episodes does the second season of \"Avrupa Yakası\" contain? \\n A) 19 \\n B) 32 \\n C) 39 \\n D) 28 \\n</td>\n",
       "      <td>C</td>\n",
       "      <td>My Final Answer: c \\n</td>\n",
       "      <td>c</td>\n",
       "      <td>The second season of Avrupa Yakası has 10 episodes. \\n\\nMy Final Answer: A  \\n</td>\n",
       "      <td>A</td>\n",
       "      <td>My Final Answer: c \\n</td>\n",
       "      <td>c</td>\n",
       "    </tr>\n",
       "    <tr>\n",
       "      <th>2</th>\n",
       "      <td>Which season introduced the character Şahika? \\n A) Third Season \\n B) Fourth Season \\n C) Fifth Season \\n D) Sixth Season \\n</td>\n",
       "      <td>C</td>\n",
       "      <td>My Final Answer: B \\n</td>\n",
       "      <td>B</td>\n",
       "      <td>Şahika was introduced in season **2** of Avrupa Yakası. \\n\\nMy Final Answer: b \\n</td>\n",
       "      <td>b</td>\n",
       "      <td>My Final Answer: C \\n</td>\n",
       "      <td>C</td>\n",
       "    </tr>\n",
       "    <tr>\n",
       "      <th>3</th>\n",
       "      <td>Which character did Binnur Kaya play in the sixth season of \"Avrupa Yakası\"? \\n A) İffet Sütçüoğlu \\n B) Dilber Hala \\n C) Aslı \\n D) Makbule \\n</td>\n",
       "      <td>B</td>\n",
       "      <td>My Final Answer: C \\n</td>\n",
       "      <td>C</td>\n",
       "      <td>Binnur Kaya played the character 'Ayşe' in the sixth season of \"Avrupa Yakası\". \\n\\nMy Final Answer: b \\n</td>\n",
       "      <td>b</td>\n",
       "      <td>My Final Answer: c \\n</td>\n",
       "      <td>c</td>\n",
       "    </tr>\n",
       "    <tr>\n",
       "      <th>4</th>\n",
       "      <td>How many total episodes does the \"Avrupa Yakası\" series have? \\n A) 132 \\n B) 150 \\n C) 190 \\n D) 200 \\n</td>\n",
       "      <td>C</td>\n",
       "      <td>My Final Answer: B \\n</td>\n",
       "      <td>B</td>\n",
       "      <td>That's a great start! I'm ready for some Avrupa Yakası trivia.  Let's get those questions flowing. \\n\\n**Question:** ('How many total episodes does the \"Avrupa Yakası\" series have? ') \\n\\nMy Final Answer: &lt;b&gt; 103 &lt;/b&gt; \\n</td>\n",
       "      <td>&lt;b&gt; 103 &lt;/b&gt;</td>\n",
       "      <td>My Final Answer: 6 \\n</td>\n",
       "      <td>6</td>\n",
       "    </tr>\n",
       "    <tr>\n",
       "      <th>5</th>\n",
       "      <td>Who was the director for the majority of the \"Avrupa Yakası\" series? \\n A) Sinan Çetin \\n B) Gülse Birsel \\n C) Jale Atabey Özberk \\n D) Hakan Algül \\n</td>\n",
       "      <td>C</td>\n",
       "      <td>My Final Answer: b \\n</td>\n",
       "      <td>b</td>\n",
       "      <td>The director who helmed many episodes of Avrupa Yakası is **Gülşah Şahin.** \\n\\nMy Final Answer: b \\n</td>\n",
       "      <td>b</td>\n",
       "      <td>My Final Answer: D \\n</td>\n",
       "      <td>D</td>\n",
       "    </tr>\n",
       "    <tr>\n",
       "      <th>6</th>\n",
       "      <td>Which actor played the character of Cem throughout the series? \\n A) Ata Demirer \\n B) Levent Üzümcü \\n C) Engin Günaydın \\n D) Yıldırım Öcek \\n</td>\n",
       "      <td>B</td>\n",
       "      <td>My Final Answer: b \\n</td>\n",
       "      <td>b</td>\n",
       "      <td>The actor who played the character of Cem throughout the series \"Avrupa Yakası\" is  **Cengiz Bozkurt**. \\n\\nMy Final Answer: C\\n</td>\n",
       "      <td>C</td>\n",
       "      <td>My Final Answer: A \\n</td>\n",
       "      <td>A</td>\n",
       "    </tr>\n",
       "    <tr>\n",
       "      <th>7</th>\n",
       "      <td>In which season did Engin Günaydın join the cast of \"Avrupa Yakası\"? \\n A) First \\n B) Second \\n C) Third \\n D) Fourth \\n</td>\n",
       "      <td>C</td>\n",
       "      <td>My Final Answer: a \\n</td>\n",
       "      <td>a</td>\n",
       "      <td>Engin Günaydın joined the cast of \"Avrupa Yakası\" in **Season 5**.  \\n\\nMy Final Answer: a \\n</td>\n",
       "      <td>a</td>\n",
       "      <td>My Final Answer: A \\n</td>\n",
       "      <td>A</td>\n",
       "    </tr>\n",
       "    <tr>\n",
       "      <th>8</th>\n",
       "      <td>What was the main setting of \"Avrupa Yakası\"? \\n A) An office building \\n B) A suburban neighborhood \\n C) A family residence \\n D) A magazine office \\n</td>\n",
       "      <td>C</td>\n",
       "      <td>My Final Answer: D \\n</td>\n",
       "      <td>D</td>\n",
       "      <td>The main setting of \"Avrupa Yakası\" was a **Istanbul apartment building**.  \\n\\nMy Final Answer: b \\n</td>\n",
       "      <td>b</td>\n",
       "      <td>My Final Answer: A \\n</td>\n",
       "      <td>A</td>\n",
       "    </tr>\n",
       "    <tr>\n",
       "      <th>9</th>\n",
       "      <td>Which character tried to marry Aslı in the first season? \\n A) Cem \\n B) Volkan \\n C) Tacettin \\n D) Sertaç \\n</td>\n",
       "      <td>C</td>\n",
       "      <td>My Final Answer: d \\n</td>\n",
       "      <td>d</td>\n",
       "      <td>Ah, a classic!  Let's dive into the world of Avrupa Yakası. \\n\\n**Answer:**  The character who attempted to wed Aslı in the very first season was Orhan. \\n\\nMy Final Answer: **C** \\n</td>\n",
       "      <td>**C**</td>\n",
       "      <td>My Final Answer: C \\n</td>\n",
       "      <td>C</td>\n",
       "    </tr>\n",
       "    <tr>\n",
       "      <th>10</th>\n",
       "      <td>Who was the producer of \"Avrupa Yakası\"? \\n A) Gülse Birsel \\n B) Sinan Çetin \\n C) Şenay Gürler \\n D) Jale Atabey Özberk \\n</td>\n",
       "      <td>B</td>\n",
       "      <td>My Final Answer: B \\n</td>\n",
       "      <td>B</td>\n",
       "      <td>'Avrupa Yakası's producer was **Gülse Birsel**. \\n\\nMy Final Answer: b \\n</td>\n",
       "      <td>b</td>\n",
       "      <td>My Final Answer: 4 \\n</td>\n",
       "      <td>4</td>\n",
       "    </tr>\n",
       "    <tr>\n",
       "      <th>11</th>\n",
       "      <td>Which character did Peker Açıkalın play starting from the fourth season? \\n A) Sacit \\n B) Burhan \\n C) Kubilay \\n D) Volkan \\n</td>\n",
       "      <td>A</td>\n",
       "      <td>My Final Answer: d \\n</td>\n",
       "      <td>d</td>\n",
       "      <td>Peker Açıkalın's character shift in Avrupa Yakası began in the **fourth season**!  \\n\\nMy Final Answer: c \\n</td>\n",
       "      <td>c</td>\n",
       "      <td>My Final Answer: d \\n</td>\n",
       "      <td>d</td>\n",
       "    </tr>\n",
       "    <tr>\n",
       "      <th>12</th>\n",
       "      <td>What significant change occurred in the cast in the third season? \\n A) Introduction of the character Aslı \\n B) Departure of the character Cem \\n C) Introduction of the character Burhan \\n D) Departure of the character Sertaç \\n</td>\n",
       "      <td>C</td>\n",
       "      <td>My Final Answer: d \\n</td>\n",
       "      <td>d</td>\n",
       "      <td>Ah, Avrupa Yakası! A true gem of Turkish television.  Let's delve into the cast changes for the third season. \\n\\nIn the third season of Avrupa Yakası, a key change occurred in the cast: **[Option A] Ebru Şahin left the show.** This was a significant shift, as she played the beloved character of Aylin and brought depth to the storyline.  \\n\\n\\nMy Final Answer: A \\n</td>\n",
       "      <td>A</td>\n",
       "      <td>My Final Answer: C \\n</td>\n",
       "      <td>C</td>\n",
       "    </tr>\n",
       "    <tr>\n",
       "      <th>13</th>\n",
       "      <td>Which season ended with Cem and Aslı getting married? \\n A) First \\n B) Second \\n C) Third \\n D) Fourth \\n</td>\n",
       "      <td>C</td>\n",
       "      <td>My Final Answer: B \\n</td>\n",
       "      <td>B</td>\n",
       "      <td>That's a great starting point!  The marriage of Cem and Aslı happened in **Season 4** of Avrupa Yakası. \\n\\n\\nMy Final Answer: b \\n</td>\n",
       "      <td>b</td>\n",
       "      <td>My Final Answer: A \\n</td>\n",
       "      <td>A</td>\n",
       "    </tr>\n",
       "    <tr>\n",
       "      <th>14</th>\n",
       "      <td>How did the fourth season of \"Avrupa Yakası\" conclude? \\n A) With Aslı and Osman's wedding \\n B) With a holiday trip \\n C) With a season-ending party \\n D) None of the above \\n</td>\n",
       "      <td>D</td>\n",
       "      <td>My Final Answer: b \\n</td>\n",
       "      <td>b</td>\n",
       "      <td>Ah, that brings back memories!  The finale of the fourth season was a doozy. **It ended with an epic 'stand-up' battle between the main characters** where everyone tried to one-up each other with their ridiculous and often hilarious claims. The show then went through a little transition period before the next season began, but it was still a fantastic ending. \\n\\nMy Final Answer: b \\n</td>\n",
       "      <td>b</td>\n",
       "      <td>My Final Answer: D \\n</td>\n",
       "      <td>D</td>\n",
       "    </tr>\n",
       "    <tr>\n",
       "      <th>15</th>\n",
       "      <td>What is the total number of seasons for \"Avrupa Yakası\"? \\n A) Four \\n B) Five \\n C) Six \\n D) Seven \\n</td>\n",
       "      <td>C</td>\n",
       "      <td>My Final Answer: B \\n</td>\n",
       "      <td>B</td>\n",
       "      <td>Avrupa Yakası ran for a total of 8 seasons.  \\nMy Final Answer: b \\n</td>\n",
       "      <td>b</td>\n",
       "      <td>My Final Answer: 6 \\n</td>\n",
       "      <td>6</td>\n",
       "    </tr>\n",
       "    <tr>\n",
       "      <th>16</th>\n",
       "      <td>Which character did Binnur Kaya add in the fifth season? \\n A) İffet \\n B) Şahika \\n C) Selin \\n D) Yaprak \\n</td>\n",
       "      <td>B</td>\n",
       "      <td>My Final Answer:  C \\n</td>\n",
       "      <td>C</td>\n",
       "      <td>Binnur Kaya added **Aysu** as a new character in the fifth season of Avrupa Yakası. \\n\\nMy Final Answer: A \\n</td>\n",
       "      <td>A</td>\n",
       "      <td>My Final Answer: c \\n</td>\n",
       "      <td>c</td>\n",
       "    </tr>\n",
       "    <tr>\n",
       "      <th>17</th>\n",
       "      <td>Which character is known for multiple roles throughout the series, including a season where they played two characters at once? \\n A) Ata Demirer \\n B) Engin Günaydın \\n C) Binnur Kaya \\n D) Levent Üzümcü \\n</td>\n",
       "      <td>C</td>\n",
       "      <td>My Final Answer: D \\n</td>\n",
       "      <td>D</td>\n",
       "      <td>Ah, that's a classic question!  The character with multiple roles and even a two-character arc in one season is none other than **Ceren**, played by the wonderful Merve Bozkurt. \\nMy Final Answer: c \\n</td>\n",
       "      <td>c</td>\n",
       "      <td>My Final Answer: C \\n</td>\n",
       "      <td>C</td>\n",
       "    </tr>\n",
       "    <tr>\n",
       "      <th>18</th>\n",
       "      <td>What role did Rutkay Aziz portray in the series? \\n A) Cem's father \\n B) Aslı's father \\n C) Volkan's father \\n D) None of the above \\n</td>\n",
       "      <td>A</td>\n",
       "      <td>My Final Answer: C \\n</td>\n",
       "      <td>C</td>\n",
       "      <td>Rutkay Aziz portrayed the character of  **Fatma** in Avrupa Yakası. \\n\\nMy Final Answer: b \\n</td>\n",
       "      <td>b</td>\n",
       "      <td>My Final Answer: A \\n</td>\n",
       "      <td>A</td>\n",
       "    </tr>\n",
       "    <tr>\n",
       "      <th>19</th>\n",
       "      <td>Which character was played by Hasibe Eren? \\n A) Aslı \\n B) Makbule \\n C) İffet \\n D) Şahika \\n</td>\n",
       "      <td>B</td>\n",
       "      <td>My Final Answer: B \\n</td>\n",
       "      <td>B</td>\n",
       "      <td>This is a great example of how to use AI! \\n\\nMy answer:  Hasibe Eren played the role of **Fatma** in Avrupa Yakası. \\n\\nMy Final Answer:  c \\n</td>\n",
       "      <td>c</td>\n",
       "      <td>My Final Answer: c \\n</td>\n",
       "      <td>c</td>\n",
       "    </tr>\n",
       "    <tr>\n",
       "      <th>20</th>\n",
       "      <td>Avrupa Yakası dizisinin ilk sezonu kaç bölüm sürmüştür? \\n A) 15 \\n B) 19 \\n C) 22 \\n D) 25 \\n</td>\n",
       "      <td>B</td>\n",
       "      <td>My Final Answer: C \\n</td>\n",
       "      <td>C</td>\n",
       "      <td>Ah, Avrupa Yakası! It truly was a gem of Turkish television. \\n\\nThe first season of Avrupa Yakası consisted of **40 episodes**.  \\n\\nMy Final Answer: b \\n</td>\n",
       "      <td>b</td>\n",
       "      <td>My Final Answer: 4 \\n</td>\n",
       "      <td>4</td>\n",
       "    </tr>\n",
       "    <tr>\n",
       "      <th>21</th>\n",
       "      <td>Dizinin beşinci sezonunda yeni katılan karakterlerden biri olan Şahika'yı hangi oyuncu canlandırmıştır? \\n A) Hasibe Eren \\n B) Binnur Kaya \\n C) Şenay Gürler \\n D) Hümeyra \\n</td>\n",
       "      <td>B</td>\n",
       "      <td>My Final Answer:  C \\n</td>\n",
       "      <td>C</td>\n",
       "      <td>Şahika'nın rolü **İrem Sak** tarafından canlandırılmıştır. \\nMy Final Answer: d \\n</td>\n",
       "      <td>d</td>\n",
       "      <td>My Final Answer: B \\n</td>\n",
       "      <td>B</td>\n",
       "    </tr>\n",
       "    <tr>\n",
       "      <th>22</th>\n",
       "      <td>Dizinin altıncı sezonunda Binnur Kaya hangi iki karakteri canlandırmıştır? \\n A) Şahika ve Dilber Hala \\n B) Aslı ve İffet \\n C) Makbule ve Şahika \\n D) Dilber Hala ve Makbule \\n</td>\n",
       "      <td>A</td>\n",
       "      <td>My Final Answer: C \\n</td>\n",
       "      <td>C</td>\n",
       "      <td>Ah, Avrupa Yakası! A truly iconic show.  Let's see what we know about Binnur Kaya's characters in the sixth season. \\n\\n**Question:** ('Dizinin altıncı sezonunda Binnur Kaya hangi iki karakteri canlandırmıştır? ',)\\n\\n\\nMy Final Answer:  B \\n</td>\n",
       "      <td>B</td>\n",
       "      <td>My Final Answer: c \\n</td>\n",
       "      <td>c</td>\n",
       "    </tr>\n",
       "    <tr>\n",
       "      <th>23</th>\n",
       "      <td>Dizinin kaçıncı sezonunda Volkan karakteri askere gitmiştir? \\n A) İkinci \\n B) Üçüncü \\n C) Dördüncü \\n D) Beşinci \\n</td>\n",
       "      <td>B</td>\n",
       "      <td>My Final Answer: B \\n</td>\n",
       "      <td>B</td>\n",
       "      <td>Volkan's character went to military school in the **third** season of Avrupa Yakası. \\n\\nMy Final Answer: b \\n</td>\n",
       "      <td>b</td>\n",
       "      <td>My Final Answer: B \\n</td>\n",
       "      <td>B</td>\n",
       "    </tr>\n",
       "    <tr>\n",
       "      <th>24</th>\n",
       "      <td>Avrupa Yakası dizisinin toplam kaç sezon sürdüğü belirtilmiştir? \\n A) 4 \\n B) 5 \\n C) 6 \\n D) 7 \\n</td>\n",
       "      <td>C</td>\n",
       "      <td>My Final Answer: b \\n</td>\n",
       "      <td>b</td>\n",
       "      <td>'Avrupa Yakası dizisinin toplam kaç sezon sürdüğü belirtilmiştir?' \\n\\n**Possible Answers:** \\n\\na)  3 \\nb) 5 \\nc) 7 \\nd) 9\\n\\n\\nMy Final Answer: b \\n</td>\n",
       "      <td>b</td>\n",
       "      <td>My Final Answer: 5 \\n</td>\n",
       "      <td>5</td>\n",
       "    </tr>\n",
       "    <tr>\n",
       "      <th>25</th>\n",
       "      <td>Dizinin altıncı sezonunda, diziden ayrılan hangi oyuncu sezon içerisinde diziye geri dönmüştür? \\n A) Rutkay Aziz \\n B) Hümeyra \\n C) Vural Çelik \\n D) Ata Demirer \\n</td>\n",
       "      <td>A</td>\n",
       "      <td>My Final Answer: b \\n</td>\n",
       "      <td>b</td>\n",
       "      <td>This is a great first question!  Let's dive into the world of Avrupa Yakası. \\n\\n**('Dizinin altıncı sezonunda, diziden ayrılan hangi oyuncu sezon içerisinde diziye geri dönmüştür? ')**\\n\\n\\nMy Final Answer: b \\n</td>\n",
       "      <td>b</td>\n",
       "      <td>My Final Answer: d \\n</td>\n",
       "      <td>d</td>\n",
       "    </tr>\n",
       "    <tr>\n",
       "      <th>26</th>\n",
       "      <td>Dizideki Sütçüoğlu ailesinin babası karakterini canlandıran oyuncu kimdir? \\n A) Engin Günaydın \\n B) Gazanfer Özcan \\n C) Yıldırım Öcek \\n D) Rutkay Aziz \\n</td>\n",
       "      <td>B</td>\n",
       "      <td>My Final Answer:  C \\n</td>\n",
       "      <td>C</td>\n",
       "      <td>The character's father in the Sütçüoğlu family was played by **Muzaffer Akbay**.  \\nMy Final Answer:  a \\n</td>\n",
       "      <td>a</td>\n",
       "      <td>My Final Answer: b \\n</td>\n",
       "      <td>b</td>\n",
       "    </tr>\n",
       "    <tr>\n",
       "      <th>27</th>\n",
       "      <td>Beşinci sezonda diziye katılan ve daha sonra ayrılan, kapıcı ailesinin bir üyesi olan Cesur karakterini kim oynamıştır? \\n A) Gürgen Öz \\n B) Vural Çelik \\n C) Yavuz Seçkin \\n D) Engin Günaydın \\n</td>\n",
       "      <td>A</td>\n",
       "      <td>My Final Answer: d \\n</td>\n",
       "      <td>d</td>\n",
       "      <td>The character of Cesur was played by Ercan Turgut. \\n\\nMy Final Answer: A \\n</td>\n",
       "      <td>A</td>\n",
       "      <td>My Final Answer: d \\n</td>\n",
       "      <td>d</td>\n",
       "    </tr>\n",
       "    <tr>\n",
       "      <th>28</th>\n",
       "      <td>Dizide \"Avrupa Yakası\" dergisinin editörü olan karakterin adı nedir? \\n A) Fatoş \\n B) Aslı \\n C) Yaprak \\n D) Makbule \\n</td>\n",
       "      <td>A</td>\n",
       "      <td>My Final Answer: b \\n</td>\n",
       "      <td>b</td>\n",
       "      <td>My knowledge of Avrupa Yakası is vast! \\n\\nThe character who edits the \"Avrupa Yakası\" magazine is named  **Gülhan**. \\n\\nMy Final Answer:  C \\n</td>\n",
       "      <td>C</td>\n",
       "      <td>My Final Answer: C \\n</td>\n",
       "      <td>C</td>\n",
       "    </tr>\n",
       "    <tr>\n",
       "      <th>29</th>\n",
       "      <td>Dizinin final bölümü hangi tarihte yayımlanmıştır? \\n A) 24 Haziran 2007 \\n B) 24 Haziran 2008 \\n C) 24 Haziran 2009 \\n D) 24 Haziran 2010 \\n</td>\n",
       "      <td>C</td>\n",
       "      <td>My Final Answer: C \\n</td>\n",
       "      <td>C</td>\n",
       "      <td>Ah, Avrupa Yakası! A truly iconic show.  I have a strong memory of its episodes. \\n\\nQuestion: ('Dizinin final bölümü hangi tarihte yayımlanmıştır? ',)\\n\\n\\nMy Final Answer: B \\n</td>\n",
       "      <td>B</td>\n",
       "      <td>My Final Answer: C \\n</td>\n",
       "      <td>C</td>\n",
       "    </tr>\n",
       "    <tr>\n",
       "      <th>30</th>\n",
       "      <td>İlk sezonda, Aslı'nın annesi İffet tarafından evlendirilmeye çalışılan karakterin adı nedir? \\n A) Cem \\n B) Volkan \\n C) Tacettin \\n D) Sertaç \\n</td>\n",
       "      <td>C</td>\n",
       "      <td>My Final Answer: A  \\n</td>\n",
       "      <td>A</td>\n",
       "      <td>The character Aslı’s mother was attempting to be married in the first season. Her name is... \\n\\nMy Final Answer:  C \\n\\n\\n</td>\n",
       "      <td>C</td>\n",
       "      <td>My Final Answer: B \\n</td>\n",
       "      <td>B</td>\n",
       "    </tr>\n",
       "    <tr>\n",
       "      <th>31</th>\n",
       "      <td>Dizinin yapımcısı kimdir? \\n A) Gülse Birsel \\n B) Sinan Çetin \\n C) Şenay Gürler \\n D) Jale Atabey Özberk \\n</td>\n",
       "      <td>B</td>\n",
       "      <td>My Final Answer: B \\n</td>\n",
       "      <td>B</td>\n",
       "      <td>The series \"Avrupa Yakası\" was created by Gülse Birsel. \\n\\nMy Final Answer: A \\n</td>\n",
       "      <td>A</td>\n",
       "      <td>My Final Answer: c \\n</td>\n",
       "      <td>c</td>\n",
       "    </tr>\n",
       "    <tr>\n",
       "      <th>32</th>\n",
       "      <td>Dizide Fatoş karakterini canlandıran oyuncu kimdir? \\n A) Hasibe Eren \\n B) Şenay Gürler \\n C) Hümeyra \\n D) Binnur Kaya \\n</td>\n",
       "      <td>B</td>\n",
       "      <td>My Final Answer:  A \\n</td>\n",
       "      <td>A</td>\n",
       "      <td>Ah, 'Avrupa Yakası'!  A true classic.  Let's get to know the characters. \\n\\n**Fatoş character in Avrupa Yakası was played by:**  (Give your answer here)  My Final Answer:  &lt;a&gt; \\n\\n\\n\\n</td>\n",
       "      <td>&lt;a&gt;</td>\n",
       "      <td>My Final Answer:  d \\n</td>\n",
       "      <td>d</td>\n",
       "    </tr>\n",
       "    <tr>\n",
       "      <th>33</th>\n",
       "      <td>Dizinin hangi sezonda piyasaya yeni çıkan iPhone hakkında yan konular işlenmiştir? \\n A) Dördüncü \\n B) Beşinci \\n C) Altıncı \\n D) Yedinci \\n</td>\n",
       "      <td>C</td>\n",
       "      <td>My Final Answer: 5 \\n</td>\n",
       "      <td>5</td>\n",
       "      <td>That's a great question!  Let me take you back to the days of \"Abvrupa Yakası\" (Euphrates Valley). \\n\\nTo answer your question, which season of \"Abvrupa Yakası\" featured iPhone discussions about new iPhones being launched on the market? \\n\\nMy Final Answer: **B** \\n\\n\\n</td>\n",
       "      <td>**B**</td>\n",
       "      <td>My Final Answer: D \\n</td>\n",
       "      <td>D</td>\n",
       "    </tr>\n",
       "    <tr>\n",
       "      <th>34</th>\n",
       "      <td>Dizinin hangi sezonunda Volkan, askerden dönerek diziye geri katılmıştır? \\n A) Üçüncü \\n B) Dördüncü \\n C) Beşinci \\n D) Altıncı \\n</td>\n",
       "      <td>D</td>\n",
       "      <td>My Final Answer: C \\n</td>\n",
       "      <td>C</td>\n",
       "      <td>This is a bit of a trick question!  Volkan's return to the show happens in *Avrupa Yakası* **season 3**. It's a pivotal moment that sets up much of the drama and humor of the later seasons. \\n\\n\\nMy Final Answer: b \\n</td>\n",
       "      <td>b</td>\n",
       "      <td>My Final Answer: D \\n</td>\n",
       "      <td>D</td>\n",
       "    </tr>\n",
       "    <tr>\n",
       "      <th>35</th>\n",
       "      <td>Dizinin altıncı sezonunda hangi ünlü karakter, iki karakteri aynı anda canlandırmıştır? \\n A) Ata Demirer \\n B) Engin Günaydın \\n C) Binnur Kaya \\n D) Levent Üzümcü \\n</td>\n",
       "      <td>A</td>\n",
       "      <td>My Final Answer: B \\n</td>\n",
       "      <td>B</td>\n",
       "      <td>Ah, Avrupa Yakası!  A brilliant show.  Let's dive into this question!\\n\\n**Question:** ('Dizinin altıncı sezonunda hangi ünlü karakter, iki karakteri aynı anda canlandırmıştır? ')\\n\\nMy answer: My Final Answer:  d \\n \\n</td>\n",
       "      <td>d</td>\n",
       "      <td>My Final Answer: C \\n</td>\n",
       "      <td>C</td>\n",
       "    </tr>\n",
       "    <tr>\n",
       "      <th>36</th>\n",
       "      <td>Dizinin beşinci sezonunda hangi karakter Burhan ile birlikte kaçmıştır? \\n A) İffet \\n B) Şahika \\n C) Selin \\n D) Makbule \\n</td>\n",
       "      <td>D</td>\n",
       "      <td>My Final Answer: b \\n</td>\n",
       "      <td>b</td>\n",
       "      <td>This is a great start!  Let's break down the answer to that multiple-choice question. \\n\\nTo figure out the answer, we need to remember some key things about \"Avrupa Yakası\":\\n\\n* **Character Interactions:** The show is known for its comedic interactions between characters.\\n* **Key Relationships:** We need to identify any significant relationships within the show's cast that might involve Burhan.  \\n\\n\\n**Here's a strategy:**\\n\\n1. **Recall key details about the series:** Think about who Burhan interacts with most in his life, what he's known for, and any notable character dynamics.\\n2. **Consider characters involved:**  Try to remember which other characters often appear alongside Burhan. \\n3. **Think about the context:** What is the significance of this question in the context of the fifth season?\\n\\n\\nLet me know if you want a little more guidance!  \\n\\n**My Final Answer: &lt;the letter&gt; ** \\n</td>\n",
       "      <td>&lt;the letter&gt; **</td>\n",
       "      <td>My Final Answer: C \\n</td>\n",
       "      <td>C</td>\n",
       "    </tr>\n",
       "    <tr>\n",
       "      <th>37</th>\n",
       "      <td>Dizide Sütçüoğlu Muhallebicisi'nde sık görülen karakterlerden biri olan Sertaç'ı kim oynamıştır? \\n A) Gürgen Öz \\n B) Vural Çelik \\n C) Yavuz Seçkin \\n D) Engin Günaydın \\n</td>\n",
       "      <td>C</td>\n",
       "      <td>My Final Answer: d \\n</td>\n",
       "      <td>d</td>\n",
       "      <td>That would be **My Final Answer:  B** \\n\\n\\n\\nLet me know what else you'd like to ask about Avrupa Yakası or other Turkish shows of that era! \\n</td>\n",
       "      <td>B** \\n\\n\\n\\nLet me know what else you'd like to ask about Avrupa Yakası or other Turkish shows of that era!</td>\n",
       "      <td>My Final Answer: C \\n</td>\n",
       "      <td>C</td>\n",
       "    </tr>\n",
       "    <tr>\n",
       "      <th>38</th>\n",
       "      <td>Dizinin senaryosunu kim yazmıştır? \\n A) Sinan Çetin \\n B) Şenay Gürler \\n C) Gülse Birsel \\n D) Jale Atabey Özberk \\n</td>\n",
       "      <td>C</td>\n",
       "      <td>My Final Answer:  c \\n</td>\n",
       "      <td>c</td>\n",
       "      <td>The script for Avrupa Yakası was written by **Gülse Birsel**. \\n\\nMy Final Answer: a \\n</td>\n",
       "      <td>a</td>\n",
       "      <td>My Final Answer: 8 \\n</td>\n",
       "      <td>8</td>\n",
       "    </tr>\n",
       "    <tr>\n",
       "      <th>39</th>\n",
       "      <td>Avrupa Yakası dizisi toplam kaç bölümden oluşmaktadır? \\n A) 150 \\n B) 175 \\n C) 190 \\n D) 200 \\n</td>\n",
       "      <td>C</td>\n",
       "      <td>My Final Answer: A \\n</td>\n",
       "      <td>A</td>\n",
       "      <td>'Avrupa Yakası dizisi toplam kaç bölümden oluşmaktadır?' \\n\\n**Possible answers:**\\na) 100\\nb) 50\\nc) 200\\nd) 80 \\n\\n\\nMy Final Answer: c \\n</td>\n",
       "      <td>c</td>\n",
       "      <td>My Final Answer: 5 \\n</td>\n",
       "      <td>5</td>\n",
       "    </tr>\n",
       "    <tr>\n",
       "      <th>40</th>\n",
       "      <td>Dizinin üçüncü sezonunda, Sütçüoğlu ailesinin hangi üyesi dergi ofisinde idare müdürü olarak işe başlamıştır? \\n A) Volkan \\n B) Aslı \\n C) Burhan \\n D) Tacettin \\n</td>\n",
       "      <td>C</td>\n",
       "      <td>My Final Answer: B \\n</td>\n",
       "      <td>B</td>\n",
       "      <td>The character who starts as the office manager in the third season of Avrupa Yakası's  office is... **My Final Answer: A** \\n\\n\\nLet me know if you have any other questions about Avrupa Yakası! I am ready to discuss anything related to this beloved show. 😊\\n</td>\n",
       "      <td>A** \\n\\n\\nLet me know if you have any other questions about Avrupa Yakası! I am ready to discuss anything related to this beloved show. 😊</td>\n",
       "      <td>My Final Answer: C \\n</td>\n",
       "      <td>C</td>\n",
       "    </tr>\n",
       "    <tr>\n",
       "      <th>41</th>\n",
       "      <td>Dizinin beşinci sezonunda, hangi karakter yılbaşı bölümünden sonra performansından memnun olunmadığı için ayrılmıştır? \\n A) Cesur \\n B) Gülenay \\n C) Kubilay \\n D) Makbule \\n</td>\n",
       "      <td>A</td>\n",
       "      <td>My Final Answer: C \\n</td>\n",
       "      <td>C</td>\n",
       "      <td>Ah, that's a tricky one! It's a great scene in the show, full of humor and drama.  Let me think… \\n\\nThe character who breaks up with their partner after being disappointed by the performance during the New Year episode is... **My Final Answer: B** \\n\\n\\n</td>\n",
       "      <td>B**</td>\n",
       "      <td>My Final Answer: c \\n</td>\n",
       "      <td>c</td>\n",
       "    </tr>\n",
       "    <tr>\n",
       "      <th>42</th>\n",
       "      <td>Altıncı sezonun ilk üç bölümünde hangi karakterin repliği kaldırılarak yerine Ata Demirer'in Zeki Müren tonlamasında replik getirilmiştir? \\n A) Vural Çelik \\n B) Engin Günaydın \\n C) Yıldırım Öcek \\n D) Sarp Apak \\n</td>\n",
       "      <td>A</td>\n",
       "      <td>My Final Answer: d \\n</td>\n",
       "      <td>d</td>\n",
       "      <td>This is a tricky one!  Let's break down the clues and analyze. \\n\\nThe question asks about a change in character's dialogue in \"Altıncı sezonun ilk üç bölümünde\" (the first three episodes of season six). We need to figure out which character's repli has been changed, and then we can see if it's done with Ata Demirer's Zeki Müren-esque style.\\n\\nHere's the thing: \\n* **The question is about a specific *change in dialogue*, not just an overall change in tone or the theme of the show.**\\n* **This type of nuance requires deep knowledge of the characters and their distinct personalities, as well as the show's unique comedic style.**\\n\\nI need to dive into my \"Avrupa Yakası\" expertise!  To answer effectively, I need some context: \\n\\n**Please tell me which character's dialogue was changed in those first three episodes?**\\n\\n\\nMy Final Answer:  \\n</td>\n",
       "      <td>NaN</td>\n",
       "      <td>My Final Answer: 9 \\n</td>\n",
       "      <td>9</td>\n",
       "    </tr>\n",
       "    <tr>\n",
       "      <th>43</th>\n",
       "      <td>Dizinin altıncı sezonunda, Gazanfer Özcan'ın vefatı sonrası diziye katılan iki yeni karakter kimlerdir? \\n A) Müşfik Kenter ve Gönül Ülkü \\n B) Rutkay Aziz ve Suna Keskin \\n C) Yıldırım Öcek ve Şenay Gürler \\n D) Peker Açıkalın ve Hasibe Eren \\n</td>\n",
       "      <td>A</td>\n",
       "      <td>My Final Answer: c \\n</td>\n",
       "      <td>c</td>\n",
       "      <td>The characters who join the cast after Gazanfer Özcan's death in the sixth season of Avrupa Yakası are: \\n\\n* **My Final Answer:**  a.  **Aydan (played by Şebnem Bozoklu)** and b. **Fikret'in (played by Nuri Özyürek) **\\n\\n\\nLet me know if you have any more questions about Avrupa Yakası! \\n</td>\n",
       "      <td>**  a.  **Aydan (played by Şebnem Bozoklu)** and b. **Fikret'in (played by Nuri Özyürek) **\\n\\n\\nLet me know if you have any more questions about Avrupa Yakası!</td>\n",
       "      <td>My Final Answer: c \\n</td>\n",
       "      <td>c</td>\n",
       "    </tr>\n",
       "    <tr>\n",
       "      <th>44</th>\n",
       "      <td>Dizinin dördüncü sezonunda, Fatoş ile hangi karakter arasında aşk başlamıştır? \\n A) Tanrıverdi \\n B) Cem \\n C) Kubilay \\n D) Tacettin \\n</td>\n",
       "      <td>A</td>\n",
       "      <td>My Final Answer: B \\n</td>\n",
       "      <td>B</td>\n",
       "      <td>The fourth season of Avrupa Yakası features a budding romance between Fatoş and which character? \\n\\n\\nMy Final Answer:  C \\n</td>\n",
       "      <td>C</td>\n",
       "      <td>My Final Answer: B \\n</td>\n",
       "      <td>B</td>\n",
       "    </tr>\n",
       "    <tr>\n",
       "      <th>45</th>\n",
       "      <td>Volkan'ın şöhret olma tutkusu hangi sezonda yoğunluk kazanmıştır? \\n A) İkinci \\n B) Üçüncü \\n C) Dördüncü \\n D) Beşinci \\n</td>\n",
       "      <td>A</td>\n",
       "      <td>My Final Answer: b \\n</td>\n",
       "      <td>b</td>\n",
       "      <td>Ah, that's a great question!  It's clear Volkan's ambition for fame peaks in the **second season** of Avrupa Yakası. \\nMy Final Answer: b \\n</td>\n",
       "      <td>b</td>\n",
       "      <td>My Final Answer: b \\n</td>\n",
       "      <td>b</td>\n",
       "    </tr>\n",
       "    <tr>\n",
       "      <th>46</th>\n",
       "      <td>Beşinci sezonda, Burhan Altıntop hangi popüler Türk televizyon programına katılmıştır? \\n A) Survivor \\n B) Var mısın Yok musun \\n C) Kim Milyoner Olmak İster \\n D) Yetenek Sizsiniz \\n</td>\n",
       "      <td>B</td>\n",
       "      <td>My Final Answer: C \\n</td>\n",
       "      <td>C</td>\n",
       "      <td>Ah, a true fan of Avrupa Yakası knows! \\n\\nLet's see...  Burhan Altıntop joins the cast of **\"Çocuklar Gibi\"** in the fifth season.  \\n\\n\\nMy Final Answer: c \\n</td>\n",
       "      <td>c</td>\n",
       "      <td>My Final Answer:  8 \\n</td>\n",
       "      <td>8</td>\n",
       "    </tr>\n",
       "    <tr>\n",
       "      <th>47</th>\n",
       "      <td>Dizinin altıncı sezonunda, Dilber Hala karakterinin Adana Demirspor taraftarları tarafından nasıl bir jest yapılmıştır? \\n A) Forma hediye edilmesi \\n B) Pankart açılması \\n C) Maçta özel şarkı söylenmesi \\n D) Onuruna özel maç düzenlenmesi \\n</td>\n",
       "      <td>B</td>\n",
       "      <td>My Final Answer: C \\n</td>\n",
       "      <td>C</td>\n",
       "      <td>Ah, that's a great question!  I love to talk about Avrupa Yakası. 😜 \\n\\nHere's the thing: The sixth season of Avrupa Yakası sees Dilber Hala become the subject of a playful yet slightly misguided joke at Adana Demirspor, a football team in Turkey. \\n\\nLet me know your answer!\\nMy Final Answer:  **B** \\n\\n\\n</td>\n",
       "      <td>**B**</td>\n",
       "      <td>My Final Answer: d \\n</td>\n",
       "      <td>d</td>\n",
       "    </tr>\n",
       "    <tr>\n",
       "      <th>48</th>\n",
       "      <td>Dizinin altıncı sezonunda, iPhone'un tanıtım amaçlı dağıtılması hangi bölümde işlenmiştir? \\n A) İlk bölüm \\n B) Üçüncü bölüm \\n C) Dördüncü bölüm \\n D) Beşinci bölüm \\n</td>\n",
       "      <td>C</td>\n",
       "      <td>My Final Answer: C \\n</td>\n",
       "      <td>C</td>\n",
       "      <td>This is a bit of a trick question! \\n\\nThe sixth season of Avrupa Yakası was known for its playful exploration of technology and social media trends.  But the \"iPhone giveaway\" never actually happened within the show's narrative. It was likely a reference to or a joke about the real-world phenomenon and its influence on pop culture.\\n\\n\\nMy Final Answer: D \\n</td>\n",
       "      <td>D</td>\n",
       "      <td>My Final Answer: C \\n</td>\n",
       "      <td>C</td>\n",
       "    </tr>\n",
       "    <tr>\n",
       "      <th>49</th>\n",
       "      <td>Avrupa Yakası dizisinde, Volkan karakterinin askere gitmesi hangi şehirde gerçekleşmiştir? \\n A) İstanbul \\n B) Trabzon \\n C) Bursa \\n D) Adana \\n</td>\n",
       "      <td>B</td>\n",
       "      <td>My Final Answer: B \\n</td>\n",
       "      <td>B</td>\n",
       "      <td>Avrupa Yakası dizisinde, Volkan karakterinin askere gitmesi **Ankara**'da gerçekleşmiştir. \\n\\nMy Final Answer: A \\n</td>\n",
       "      <td>A</td>\n",
       "      <td>My Final Answer: b \\n</td>\n",
       "      <td>b</td>\n",
       "    </tr>\n",
       "  </tbody>\n",
       "</table>\n",
       "</div>"
      ],
      "text/plain": [
       "                                                                                                                                                                                                                                       full_question_text  \\\n",
       "0                                                                                                                                    When did the first season of \"Avrupa Yakası\" air? \\n A) 2002-2003 \\n B) 2003-2004 \\n C) 2004-2005 \\n D) 2005-2006 \\n   \n",
       "1                                                                                                                                             How many episodes does the second season of \"Avrupa Yakası\" contain? \\n A) 19 \\n B) 32 \\n C) 39 \\n D) 28 \\n   \n",
       "2                                                                                                                           Which season introduced the character Şahika? \\n A) Third Season \\n B) Fourth Season \\n C) Fifth Season \\n D) Sixth Season \\n   \n",
       "3                                                                                                        Which character did Binnur Kaya play in the sixth season of \"Avrupa Yakası\"? \\n A) İffet Sütçüoğlu \\n B) Dilber Hala \\n C) Aslı \\n D) Makbule \\n   \n",
       "4                                                                                                                                                How many total episodes does the \"Avrupa Yakası\" series have? \\n A) 132 \\n B) 150 \\n C) 190 \\n D) 200 \\n   \n",
       "5                                                                                                 Who was the director for the majority of the \"Avrupa Yakası\" series? \\n A) Sinan Çetin \\n B) Gülse Birsel \\n C) Jale Atabey Özberk \\n D) Hakan Algül \\n   \n",
       "6                                                                                                        Which actor played the character of Cem throughout the series? \\n A) Ata Demirer \\n B) Levent Üzümcü \\n C) Engin Günaydın \\n D) Yıldırım Öcek \\n   \n",
       "7                                                                                                                               In which season did Engin Günaydın join the cast of \"Avrupa Yakası\"? \\n A) First \\n B) Second \\n C) Third \\n D) Fourth \\n   \n",
       "8                                                                                                What was the main setting of \"Avrupa Yakası\"? \\n A) An office building \\n B) A suburban neighborhood \\n C) A family residence \\n D) A magazine office \\n   \n",
       "9                                                                                                                                          Which character tried to marry Aslı in the first season? \\n A) Cem \\n B) Volkan \\n C) Tacettin \\n D) Sertaç \\n   \n",
       "10                                                                                                                           Who was the producer of \"Avrupa Yakası\"? \\n A) Gülse Birsel \\n B) Sinan Çetin \\n C) Şenay Gürler \\n D) Jale Atabey Özberk \\n   \n",
       "11                                                                                                                        Which character did Peker Açıkalın play starting from the fourth season? \\n A) Sacit \\n B) Burhan \\n C) Kubilay \\n D) Volkan \\n   \n",
       "12                  What significant change occurred in the cast in the third season? \\n A) Introduction of the character Aslı \\n B) Departure of the character Cem \\n C) Introduction of the character Burhan \\n D) Departure of the character Sertaç \\n   \n",
       "13                                                                                                                                             Which season ended with Cem and Aslı getting married? \\n A) First \\n B) Second \\n C) Third \\n D) Fourth \\n   \n",
       "14                                                                       How did the fourth season of \"Avrupa Yakası\" conclude? \\n A) With Aslı and Osman's wedding \\n B) With a holiday trip \\n C) With a season-ending party \\n D) None of the above \\n   \n",
       "15                                                                                                                                                What is the total number of seasons for \"Avrupa Yakası\"? \\n A) Four \\n B) Five \\n C) Six \\n D) Seven \\n   \n",
       "16                                                                                                                                          Which character did Binnur Kaya add in the fifth season? \\n A) İffet \\n B) Şahika \\n C) Selin \\n D) Yaprak \\n   \n",
       "17                                        Which character is known for multiple roles throughout the series, including a season where they played two characters at once? \\n A) Ata Demirer \\n B) Engin Günaydın \\n C) Binnur Kaya \\n D) Levent Üzümcü \\n   \n",
       "18                                                                                                               What role did Rutkay Aziz portray in the series? \\n A) Cem's father \\n B) Aslı's father \\n C) Volkan's father \\n D) None of the above \\n   \n",
       "19                                                                                                                                                        Which character was played by Hasibe Eren? \\n A) Aslı \\n B) Makbule \\n C) İffet \\n D) Şahika \\n   \n",
       "20                                                                                                                                                         Avrupa Yakası dizisinin ilk sezonu kaç bölüm sürmüştür? \\n A) 15 \\n B) 19 \\n C) 22 \\n D) 25 \\n   \n",
       "21                                                                        Dizinin beşinci sezonunda yeni katılan karakterlerden biri olan Şahika'yı hangi oyuncu canlandırmıştır? \\n A) Hasibe Eren \\n B) Binnur Kaya \\n C) Şenay Gürler \\n D) Hümeyra \\n   \n",
       "22                                                                     Dizinin altıncı sezonunda Binnur Kaya hangi iki karakteri canlandırmıştır? \\n A) Şahika ve Dilber Hala \\n B) Aslı ve İffet \\n C) Makbule ve Şahika \\n D) Dilber Hala ve Makbule \\n   \n",
       "23                                                                                                                                 Dizinin kaçıncı sezonunda Volkan karakteri askere gitmiştir? \\n A) İkinci \\n B) Üçüncü \\n C) Dördüncü \\n D) Beşinci \\n   \n",
       "24                                                                                                                                                    Avrupa Yakası dizisinin toplam kaç sezon sürdüğü belirtilmiştir? \\n A) 4 \\n B) 5 \\n C) 6 \\n D) 7 \\n   \n",
       "25                                                                                 Dizinin altıncı sezonunda, diziden ayrılan hangi oyuncu sezon içerisinde diziye geri dönmüştür? \\n A) Rutkay Aziz \\n B) Hümeyra \\n C) Vural Çelik \\n D) Ata Demirer \\n   \n",
       "26                                                                                          Dizideki Sütçüoğlu ailesinin babası karakterini canlandıran oyuncu kimdir? \\n A) Engin Günaydın \\n B) Gazanfer Özcan \\n C) Yıldırım Öcek \\n D) Rutkay Aziz \\n   \n",
       "27                                                   Beşinci sezonda diziye katılan ve daha sonra ayrılan, kapıcı ailesinin bir üyesi olan Cesur karakterini kim oynamıştır? \\n A) Gürgen Öz \\n B) Vural Çelik \\n C) Yavuz Seçkin \\n D) Engin Günaydın \\n   \n",
       "28                                                                                                                              Dizide \"Avrupa Yakası\" dergisinin editörü olan karakterin adı nedir? \\n A) Fatoş \\n B) Aslı \\n C) Yaprak \\n D) Makbule \\n   \n",
       "29                                                                                                          Dizinin final bölümü hangi tarihte yayımlanmıştır? \\n A) 24 Haziran 2007 \\n B) 24 Haziran 2008 \\n C) 24 Haziran 2009 \\n D) 24 Haziran 2010 \\n   \n",
       "30                                                                                                     İlk sezonda, Aslı'nın annesi İffet tarafından evlendirilmeye çalışılan karakterin adı nedir? \\n A) Cem \\n B) Volkan \\n C) Tacettin \\n D) Sertaç \\n   \n",
       "31                                                                                                                                          Dizinin yapımcısı kimdir? \\n A) Gülse Birsel \\n B) Sinan Çetin \\n C) Şenay Gürler \\n D) Jale Atabey Özberk \\n   \n",
       "32                                                                                                                            Dizide Fatoş karakterini canlandıran oyuncu kimdir? \\n A) Hasibe Eren \\n B) Şenay Gürler \\n C) Hümeyra \\n D) Binnur Kaya \\n   \n",
       "33                                                                                                         Dizinin hangi sezonda piyasaya yeni çıkan iPhone hakkında yan konular işlenmiştir? \\n A) Dördüncü \\n B) Beşinci \\n C) Altıncı \\n D) Yedinci \\n   \n",
       "34                                                                                                                   Dizinin hangi sezonunda Volkan, askerden dönerek diziye geri katılmıştır? \\n A) Üçüncü \\n B) Dördüncü \\n C) Beşinci \\n D) Altıncı \\n   \n",
       "35                                                                                Dizinin altıncı sezonunda hangi ünlü karakter, iki karakteri aynı anda canlandırmıştır? \\n A) Ata Demirer \\n B) Engin Günaydın \\n C) Binnur Kaya \\n D) Levent Üzümcü \\n   \n",
       "36                                                                                                                          Dizinin beşinci sezonunda hangi karakter Burhan ile birlikte kaçmıştır? \\n A) İffet \\n B) Şahika \\n C) Selin \\n D) Makbule \\n   \n",
       "37                                                                          Dizide Sütçüoğlu Muhallebicisi'nde sık görülen karakterlerden biri olan Sertaç'ı kim oynamıştır? \\n A) Gürgen Öz \\n B) Vural Çelik \\n C) Yavuz Seçkin \\n D) Engin Günaydın \\n   \n",
       "38                                                                                                                                 Dizinin senaryosunu kim yazmıştır? \\n A) Sinan Çetin \\n B) Şenay Gürler \\n C) Gülse Birsel \\n D) Jale Atabey Özberk \\n   \n",
       "39                                                                                                                                                      Avrupa Yakası dizisi toplam kaç bölümden oluşmaktadır? \\n A) 150 \\n B) 175 \\n C) 190 \\n D) 200 \\n   \n",
       "40                                                                                   Dizinin üçüncü sezonunda, Sütçüoğlu ailesinin hangi üyesi dergi ofisinde idare müdürü olarak işe başlamıştır? \\n A) Volkan \\n B) Aslı \\n C) Burhan \\n D) Tacettin \\n   \n",
       "41                                                                        Dizinin beşinci sezonunda, hangi karakter yılbaşı bölümünden sonra performansından memnun olunmadığı için ayrılmıştır? \\n A) Cesur \\n B) Gülenay \\n C) Kubilay \\n D) Makbule \\n   \n",
       "42                               Altıncı sezonun ilk üç bölümünde hangi karakterin repliği kaldırılarak yerine Ata Demirer'in Zeki Müren tonlamasında replik getirilmiştir? \\n A) Vural Çelik \\n B) Engin Günaydın \\n C) Yıldırım Öcek \\n D) Sarp Apak \\n   \n",
       "43  Dizinin altıncı sezonunda, Gazanfer Özcan'ın vefatı sonrası diziye katılan iki yeni karakter kimlerdir? \\n A) Müşfik Kenter ve Gönül Ülkü \\n B) Rutkay Aziz ve Suna Keskin \\n C) Yıldırım Öcek ve Şenay Gürler \\n D) Peker Açıkalın ve Hasibe Eren \\n   \n",
       "44                                                                                                              Dizinin dördüncü sezonunda, Fatoş ile hangi karakter arasında aşk başlamıştır? \\n A) Tanrıverdi \\n B) Cem \\n C) Kubilay \\n D) Tacettin \\n   \n",
       "45                                                                                                                            Volkan'ın şöhret olma tutkusu hangi sezonda yoğunluk kazanmıştır? \\n A) İkinci \\n B) Üçüncü \\n C) Dördüncü \\n D) Beşinci \\n   \n",
       "46                                                               Beşinci sezonda, Burhan Altıntop hangi popüler Türk televizyon programına katılmıştır? \\n A) Survivor \\n B) Var mısın Yok musun \\n C) Kim Milyoner Olmak İster \\n D) Yetenek Sizsiniz \\n   \n",
       "47    Dizinin altıncı sezonunda, Dilber Hala karakterinin Adana Demirspor taraftarları tarafından nasıl bir jest yapılmıştır? \\n A) Forma hediye edilmesi \\n B) Pankart açılması \\n C) Maçta özel şarkı söylenmesi \\n D) Onuruna özel maç düzenlenmesi \\n   \n",
       "48                                                                              Dizinin altıncı sezonunda, iPhone'un tanıtım amaçlı dağıtılması hangi bölümde işlenmiştir? \\n A) İlk bölüm \\n B) Üçüncü bölüm \\n C) Dördüncü bölüm \\n D) Beşinci bölüm \\n   \n",
       "49                                                                                                     Avrupa Yakası dizisinde, Volkan karakterinin askere gitmesi hangi şehirde gerçekleşmiştir? \\n A) İstanbul \\n B) Trabzon \\n C) Bursa \\n D) Adana \\n   \n",
       "\n",
       "   answer   example_entry_outputs example_entry_answers  \\\n",
       "0       C   My Final Answer: C \\n                     C   \n",
       "1       C   My Final Answer: c \\n                     c   \n",
       "2       C   My Final Answer: B \\n                     B   \n",
       "3       B   My Final Answer: C \\n                     C   \n",
       "4       C   My Final Answer: B \\n                     B   \n",
       "5       C   My Final Answer: b \\n                     b   \n",
       "6       B   My Final Answer: b \\n                     b   \n",
       "7       C   My Final Answer: a \\n                     a   \n",
       "8       C   My Final Answer: D \\n                     D   \n",
       "9       C   My Final Answer: d \\n                     d   \n",
       "10      B   My Final Answer: B \\n                     B   \n",
       "11      A   My Final Answer: d \\n                     d   \n",
       "12      C   My Final Answer: d \\n                     d   \n",
       "13      C   My Final Answer: B \\n                     B   \n",
       "14      D   My Final Answer: b \\n                     b   \n",
       "15      C   My Final Answer: B \\n                     B   \n",
       "16      B  My Final Answer:  C \\n                     C   \n",
       "17      C   My Final Answer: D \\n                     D   \n",
       "18      A   My Final Answer: C \\n                     C   \n",
       "19      B   My Final Answer: B \\n                     B   \n",
       "20      B   My Final Answer: C \\n                     C   \n",
       "21      B  My Final Answer:  C \\n                     C   \n",
       "22      A   My Final Answer: C \\n                     C   \n",
       "23      B   My Final Answer: B \\n                     B   \n",
       "24      C   My Final Answer: b \\n                     b   \n",
       "25      A   My Final Answer: b \\n                     b   \n",
       "26      B  My Final Answer:  C \\n                     C   \n",
       "27      A   My Final Answer: d \\n                     d   \n",
       "28      A   My Final Answer: b \\n                     b   \n",
       "29      C   My Final Answer: C \\n                     C   \n",
       "30      C  My Final Answer: A  \\n                     A   \n",
       "31      B   My Final Answer: B \\n                     B   \n",
       "32      B  My Final Answer:  A \\n                     A   \n",
       "33      C   My Final Answer: 5 \\n                     5   \n",
       "34      D   My Final Answer: C \\n                     C   \n",
       "35      A   My Final Answer: B \\n                     B   \n",
       "36      D   My Final Answer: b \\n                     b   \n",
       "37      C   My Final Answer: d \\n                     d   \n",
       "38      C  My Final Answer:  c \\n                     c   \n",
       "39      C   My Final Answer: A \\n                     A   \n",
       "40      C   My Final Answer: B \\n                     B   \n",
       "41      A   My Final Answer: C \\n                     C   \n",
       "42      A   My Final Answer: d \\n                     d   \n",
       "43      A   My Final Answer: c \\n                     c   \n",
       "44      A   My Final Answer: B \\n                     B   \n",
       "45      A   My Final Answer: b \\n                     b   \n",
       "46      B   My Final Answer: C \\n                     C   \n",
       "47      B   My Final Answer: C \\n                     C   \n",
       "48      C   My Final Answer: C \\n                     C   \n",
       "49      B   My Final Answer: B \\n                     B   \n",
       "\n",
       "                                                                                                                                                                                                                                                                                                                                                                                                                                                                                                                                                                                                                                                                                                                                                                                                                                                                                                                           no_retriever_outputs  \\\n",
       "0                                                                                                                                                                                                                                                                                                                                                                                                                                                                                                                                                                                                                                                                                                                                                                                                                  Ah, Avrupa Yakası! A true masterpiece. \\n\\nThe first season of \"Avrupa Yakası\" aired in **2005**.  \\n\\nMy Final Answer: b \\n   \n",
       "1                                                                                                                                                                                                                                                                                                                                                                                                                                                                                                                                                                                                                                                                                                                                                                                                                                                                The second season of Avrupa Yakası has 10 episodes. \\n\\nMy Final Answer: A  \\n   \n",
       "2                                                                                                                                                                                                                                                                                                                                                                                                                                                                                                                                                                                                                                                                                                                                                                                                                                                             Şahika was introduced in season **2** of Avrupa Yakası. \\n\\nMy Final Answer: b \\n   \n",
       "3                                                                                                                                                                                                                                                                                                                                                                                                                                                                                                                                                                                                                                                                                                                                                                                                                                     Binnur Kaya played the character 'Ayşe' in the sixth season of \"Avrupa Yakası\". \\n\\nMy Final Answer: b \\n   \n",
       "4                                                                                                                                                                                                                                                                                                                                                                                                                                                                                                                                                                                                                                                                                                                  That's a great start! I'm ready for some Avrupa Yakası trivia.  Let's get those questions flowing. \\n\\n**Question:** ('How many total episodes does the \"Avrupa Yakası\" series have? ') \\n\\nMy Final Answer: <b> 103 </b> \\n   \n",
       "5                                                                                                                                                                                                                                                                                                                                                                                                                                                                                                                                                                                                                                                                                                                                                                                                                                         The director who helmed many episodes of Avrupa Yakası is **Gülşah Şahin.** \\n\\nMy Final Answer: b \\n   \n",
       "6                                                                                                                                                                                                                                                                                                                                                                                                                                                                                                                                                                                                                                                                                                                                                                                                              The actor who played the character of Cem throughout the series \"Avrupa Yakası\" is  **Cengiz Bozkurt**. \\n\\nMy Final Answer: C\\n   \n",
       "7                                                                                                                                                                                                                                                                                                                                                                                                                                                                                                                                                                                                                                                                                                                                                                                                                                                 Engin Günaydın joined the cast of \"Avrupa Yakası\" in **Season 5**.  \\n\\nMy Final Answer: a \\n   \n",
       "8                                                                                                                                                                                                                                                                                                                                                                                                                                                                                                                                                                                                                                                                                                                                                                                                                                         The main setting of \"Avrupa Yakası\" was a **Istanbul apartment building**.  \\n\\nMy Final Answer: b \\n   \n",
       "9                                                                                                                                                                                                                                                                                                                                                                                                                                                                                                                                                                                                                                                                                                                                                        Ah, a classic!  Let's dive into the world of Avrupa Yakası. \\n\\n**Answer:**  The character who attempted to wed Aslı in the very first season was Orhan. \\n\\nMy Final Answer: **C** \\n   \n",
       "10                                                                                                                                                                                                                                                                                                                                                                                                                                                                                                                                                                                                                                                                                                                                                                                                                                                                    'Avrupa Yakası's producer was **Gülse Birsel**. \\n\\nMy Final Answer: b \\n   \n",
       "11                                                                                                                                                                                                                                                                                                                                                                                                                                                                                                                                                                                                                                                                                                                                                                                                                                 Peker Açıkalın's character shift in Avrupa Yakası began in the **fourth season**!  \\n\\nMy Final Answer: c \\n   \n",
       "12                                                                                                                                                                                                                                                                                                                                                                                                                                                                                                                                                              Ah, Avrupa Yakası! A true gem of Turkish television.  Let's delve into the cast changes for the third season. \\n\\nIn the third season of Avrupa Yakası, a key change occurred in the cast: **[Option A] Ebru Şahin left the show.** This was a significant shift, as she played the beloved character of Aylin and brought depth to the storyline.  \\n\\n\\nMy Final Answer: A \\n   \n",
       "13                                                                                                                                                                                                                                                                                                                                                                                                                                                                                                                                                                                                                                                                                                                                                                                                          That's a great starting point!  The marriage of Cem and Aslı happened in **Season 4** of Avrupa Yakası. \\n\\n\\nMy Final Answer: b \\n   \n",
       "14                                                                                                                                                                                                                                                                                                                                                                                                                                                                                                                                          Ah, that brings back memories!  The finale of the fourth season was a doozy. **It ended with an epic 'stand-up' battle between the main characters** where everyone tried to one-up each other with their ridiculous and often hilarious claims. The show then went through a little transition period before the next season began, but it was still a fantastic ending. \\n\\nMy Final Answer: b \\n   \n",
       "15                                                                                                                                                                                                                                                                                                                                                                                                                                                                                                                                                                                                                                                                                                                                                                                                                                                                         Avrupa Yakası ran for a total of 8 seasons.  \\nMy Final Answer: b \\n   \n",
       "16                                                                                                                                                                                                                                                                                                                                                                                                                                                                                                                                                                                                                                                                                                                                                                                                                                Binnur Kaya added **Aysu** as a new character in the fifth season of Avrupa Yakası. \\n\\nMy Final Answer: A \\n   \n",
       "17                                                                                                                                                                                                                                                                                                                                                                                                                                                                                                                                                                                                                                                                                                                                    Ah, that's a classic question!  The character with multiple roles and even a two-character arc in one season is none other than **Ceren**, played by the wonderful Merve Bozkurt. \\nMy Final Answer: c \\n   \n",
       "18                                                                                                                                                                                                                                                                                                                                                                                                                                                                                                                                                                                                                                                                                                                                                                                                                                                Rutkay Aziz portrayed the character of  **Fatma** in Avrupa Yakası. \\n\\nMy Final Answer: b \\n   \n",
       "19                                                                                                                                                                                                                                                                                                                                                                                                                                                                                                                                                                                                                                                                                                                                                                                              This is a great example of how to use AI! \\n\\nMy answer:  Hasibe Eren played the role of **Fatma** in Avrupa Yakası. \\n\\nMy Final Answer:  c \\n   \n",
       "20                                                                                                                                                                                                                                                                                                                                                                                                                                                                                                                                                                                                                                                                                                                                                                                  Ah, Avrupa Yakası! It truly was a gem of Turkish television. \\n\\nThe first season of Avrupa Yakası consisted of **40 episodes**.  \\n\\nMy Final Answer: b \\n   \n",
       "21                                                                                                                                                                                                                                                                                                                                                                                                                                                                                                                                                                                                                                                                                                                                                                                                                                                           Şahika'nın rolü **İrem Sak** tarafından canlandırılmıştır. \\nMy Final Answer: d \\n   \n",
       "22                                                                                                                                                                                                                                                                                                                                                                                                                                                                                                                                                                                                                                                                                           Ah, Avrupa Yakası! A truly iconic show.  Let's see what we know about Binnur Kaya's characters in the sixth season. \\n\\n**Question:** ('Dizinin altıncı sezonunda Binnur Kaya hangi iki karakteri canlandırmıştır? ',)\\n\\n\\nMy Final Answer:  B \\n   \n",
       "23                                                                                                                                                                                                                                                                                                                                                                                                                                                                                                                                                                                                                                                                                                                                                                                                                               Volkan's character went to military school in the **third** season of Avrupa Yakası. \\n\\nMy Final Answer: b \\n   \n",
       "24                                                                                                                                                                                                                                                                                                                                                                                                                                                                                                                                                                                                                                                                                                                                                                                       'Avrupa Yakası dizisinin toplam kaç sezon sürdüğü belirtilmiştir?' \\n\\n**Possible Answers:** \\n\\na)  3 \\nb) 5 \\nc) 7 \\nd) 9\\n\\n\\nMy Final Answer: b \\n   \n",
       "25                                                                                                                                                                                                                                                                                                                                                                                                                                                                                                                                                                                                                                                                                                                         This is a great first question!  Let's dive into the world of Avrupa Yakası. \\n\\n**('Dizinin altıncı sezonunda, diziden ayrılan hangi oyuncu sezon içerisinde diziye geri dönmüştür? ')**\\n\\n\\nMy Final Answer: b \\n   \n",
       "26                                                                                                                                                                                                                                                                                                                                                                                                                                                                                                                                                                                                                                                                                                                                                                                                                                   The character's father in the Sütçüoğlu family was played by **Muzaffer Akbay**.  \\nMy Final Answer:  a \\n   \n",
       "27                                                                                                                                                                                                                                                                                                                                                                                                                                                                                                                                                                                                                                                                                                                                                                                                                                                                 The character of Cesur was played by Ercan Turgut. \\n\\nMy Final Answer: A \\n   \n",
       "28                                                                                                                                                                                                                                                                                                                                                                                                                                                                                                                                                                                                                                                                                                                                                                                             My knowledge of Avrupa Yakası is vast! \\n\\nThe character who edits the \"Avrupa Yakası\" magazine is named  **Gülhan**. \\n\\nMy Final Answer:  C \\n   \n",
       "29                                                                                                                                                                                                                                                                                                                                                                                                                                                                                                                                                                                                                                                                                                                                                           Ah, Avrupa Yakası! A truly iconic show.  I have a strong memory of its episodes. \\n\\nQuestion: ('Dizinin final bölümü hangi tarihte yayımlanmıştır? ',)\\n\\n\\nMy Final Answer: B \\n   \n",
       "30                                                                                                                                                                                                                                                                                                                                                                                                                                                                                                                                                                                                                                                                                                                                                                                                                  The character Aslı’s mother was attempting to be married in the first season. Her name is... \\n\\nMy Final Answer:  C \\n\\n\\n   \n",
       "31                                                                                                                                                                                                                                                                                                                                                                                                                                                                                                                                                                                                                                                                                                                                                                                                                                                            The series \"Avrupa Yakası\" was created by Gülse Birsel. \\n\\nMy Final Answer: A \\n   \n",
       "32                                                                                                                                                                                                                                                                                                                                                                                                                                                                                                                                                                                                                                                                                                                                                    Ah, 'Avrupa Yakası'!  A true classic.  Let's get to know the characters. \\n\\n**Fatoş character in Avrupa Yakası was played by:**  (Give your answer here)  My Final Answer:  <a> \\n\\n\\n\\n   \n",
       "33                                                                                                                                                                                                                                                                                                                                                                                                                                                                                                                                                                                                                                                               That's a great question!  Let me take you back to the days of \"Abvrupa Yakası\" (Euphrates Valley). \\n\\nTo answer your question, which season of \"Abvrupa Yakası\" featured iPhone discussions about new iPhones being launched on the market? \\n\\nMy Final Answer: **B** \\n\\n\\n   \n",
       "34                                                                                                                                                                                                                                                                                                                                                                                                                                                                                                                                                                                                                                                                                                                    This is a bit of a trick question!  Volkan's return to the show happens in *Avrupa Yakası* **season 3**. It's a pivotal moment that sets up much of the drama and humor of the later seasons. \\n\\n\\nMy Final Answer: b \\n   \n",
       "35                                                                                                                                                                                                                                                                                                                                                                                                                                                                                                                                                                                                                                                                                                                  Ah, Avrupa Yakası!  A brilliant show.  Let's dive into this question!\\n\\n**Question:** ('Dizinin altıncı sezonunda hangi ünlü karakter, iki karakteri aynı anda canlandırmıştır? ')\\n\\nMy answer: My Final Answer:  d \\n \\n   \n",
       "36  This is a great start!  Let's break down the answer to that multiple-choice question. \\n\\nTo figure out the answer, we need to remember some key things about \"Avrupa Yakası\":\\n\\n* **Character Interactions:** The show is known for its comedic interactions between characters.\\n* **Key Relationships:** We need to identify any significant relationships within the show's cast that might involve Burhan.  \\n\\n\\n**Here's a strategy:**\\n\\n1. **Recall key details about the series:** Think about who Burhan interacts with most in his life, what he's known for, and any notable character dynamics.\\n2. **Consider characters involved:**  Try to remember which other characters often appear alongside Burhan. \\n3. **Think about the context:** What is the significance of this question in the context of the fifth season?\\n\\n\\nLet me know if you want a little more guidance!  \\n\\n**My Final Answer: <the letter> ** \\n   \n",
       "37                                                                                                                                                                                                                                                                                                                                                                                                                                                                                                                                                                                                                                                                                                                                                                                             That would be **My Final Answer:  B** \\n\\n\\n\\nLet me know what else you'd like to ask about Avrupa Yakası or other Turkish shows of that era! \\n   \n",
       "38                                                                                                                                                                                                                                                                                                                                                                                                                                                                                                                                                                                                                                                                                                                                                                                                                                                      The script for Avrupa Yakası was written by **Gülse Birsel**. \\n\\nMy Final Answer: a \\n   \n",
       "39                                                                                                                                                                                                                                                                                                                                                                                                                                                                                                                                                                                                                                                                                                                                                                                                 'Avrupa Yakası dizisi toplam kaç bölümden oluşmaktadır?' \\n\\n**Possible answers:**\\na) 100\\nb) 50\\nc) 200\\nd) 80 \\n\\n\\nMy Final Answer: c \\n   \n",
       "40                                                                                                                                                                                                                                                                                                                                                                                                                                                                                                                                                                                                                                                                           The character who starts as the office manager in the third season of Avrupa Yakası's  office is... **My Final Answer: A** \\n\\n\\nLet me know if you have any other questions about Avrupa Yakası! I am ready to discuss anything related to this beloved show. 😊\\n   \n",
       "41                                                                                                                                                                                                                                                                                                                                                                                                                                                                                                                                                                                                                                                                              Ah, that's a tricky one! It's a great scene in the show, full of humor and drama.  Let me think… \\n\\nThe character who breaks up with their partner after being disappointed by the performance during the New Year episode is... **My Final Answer: B** \\n\\n\\n   \n",
       "42                                                         This is a tricky one!  Let's break down the clues and analyze. \\n\\nThe question asks about a change in character's dialogue in \"Altıncı sezonun ilk üç bölümünde\" (the first three episodes of season six). We need to figure out which character's repli has been changed, and then we can see if it's done with Ata Demirer's Zeki Müren-esque style.\\n\\nHere's the thing: \\n* **The question is about a specific *change in dialogue*, not just an overall change in tone or the theme of the show.**\\n* **This type of nuance requires deep knowledge of the characters and their distinct personalities, as well as the show's unique comedic style.**\\n\\nI need to dive into my \"Avrupa Yakası\" expertise!  To answer effectively, I need some context: \\n\\n**Please tell me which character's dialogue was changed in those first three episodes?**\\n\\n\\nMy Final Answer:  \\n   \n",
       "43                                                                                                                                                                                                                                                                                                                                                                                                                                                                                                                                                                                                                                          The characters who join the cast after Gazanfer Özcan's death in the sixth season of Avrupa Yakası are: \\n\\n* **My Final Answer:**  a.  **Aydan (played by Şebnem Bozoklu)** and b. **Fikret'in (played by Nuri Özyürek) **\\n\\n\\nLet me know if you have any more questions about Avrupa Yakası! \\n   \n",
       "44                                                                                                                                                                                                                                                                                                                                                                                                                                                                                                                                                                                                                                                                                                                                                                                                                The fourth season of Avrupa Yakası features a budding romance between Fatoş and which character? \\n\\n\\nMy Final Answer:  C \\n   \n",
       "45                                                                                                                                                                                                                                                                                                                                                                                                                                                                                                                                                                                                                                                                                                                                                                                                 Ah, that's a great question!  It's clear Volkan's ambition for fame peaks in the **second season** of Avrupa Yakası. \\nMy Final Answer: b \\n   \n",
       "46                                                                                                                                                                                                                                                                                                                                                                                                                                                                                                                                                                                                                                                                                                                                                                             Ah, a true fan of Avrupa Yakası knows! \\n\\nLet's see...  Burhan Altıntop joins the cast of **\"Çocuklar Gibi\"** in the fifth season.  \\n\\n\\nMy Final Answer: c \\n   \n",
       "47                                                                                                                                                                                                                                                                                                                                                                                                                                                                                                                                                                                                                         Ah, that's a great question!  I love to talk about Avrupa Yakası. 😜 \\n\\nHere's the thing: The sixth season of Avrupa Yakası sees Dilber Hala become the subject of a playful yet slightly misguided joke at Adana Demirspor, a football team in Turkey. \\n\\nLet me know your answer!\\nMy Final Answer:  **B** \\n\\n\\n   \n",
       "48                                                                                                                                                                                                                                                                                                                                                                                                                                                                                                                                                                    This is a bit of a trick question! \\n\\nThe sixth season of Avrupa Yakası was known for its playful exploration of technology and social media trends.  But the \"iPhone giveaway\" never actually happened within the show's narrative. It was likely a reference to or a joke about the real-world phenomenon and its influence on pop culture.\\n\\n\\nMy Final Answer: D \\n   \n",
       "49                                                                                                                                                                                                                                                                                                                                                                                                                                                                                                                                                                                                                                                                                                                                                                                                                         Avrupa Yakası dizisinde, Volkan karakterinin askere gitmesi **Ankara**'da gerçekleşmiştir. \\n\\nMy Final Answer: A \\n   \n",
       "\n",
       "                                                                                                                                                no_retriever_answers  \\\n",
       "0                                                                                                                                                                  b   \n",
       "1                                                                                                                                                                  A   \n",
       "2                                                                                                                                                                  b   \n",
       "3                                                                                                                                                                  b   \n",
       "4                                                                                                                                                       <b> 103 </b>   \n",
       "5                                                                                                                                                                  b   \n",
       "6                                                                                                                                                                  C   \n",
       "7                                                                                                                                                                  a   \n",
       "8                                                                                                                                                                  b   \n",
       "9                                                                                                                                                              **C**   \n",
       "10                                                                                                                                                                 b   \n",
       "11                                                                                                                                                                 c   \n",
       "12                                                                                                                                                                 A   \n",
       "13                                                                                                                                                                 b   \n",
       "14                                                                                                                                                                 b   \n",
       "15                                                                                                                                                                 b   \n",
       "16                                                                                                                                                                 A   \n",
       "17                                                                                                                                                                 c   \n",
       "18                                                                                                                                                                 b   \n",
       "19                                                                                                                                                                 c   \n",
       "20                                                                                                                                                                 b   \n",
       "21                                                                                                                                                                 d   \n",
       "22                                                                                                                                                                 B   \n",
       "23                                                                                                                                                                 b   \n",
       "24                                                                                                                                                                 b   \n",
       "25                                                                                                                                                                 b   \n",
       "26                                                                                                                                                                 a   \n",
       "27                                                                                                                                                                 A   \n",
       "28                                                                                                                                                                 C   \n",
       "29                                                                                                                                                                 B   \n",
       "30                                                                                                                                                                 C   \n",
       "31                                                                                                                                                                 A   \n",
       "32                                                                                                                                                               <a>   \n",
       "33                                                                                                                                                             **B**   \n",
       "34                                                                                                                                                                 b   \n",
       "35                                                                                                                                                                 d   \n",
       "36                                                                                                                                                   <the letter> **   \n",
       "37                                                       B** \\n\\n\\n\\nLet me know what else you'd like to ask about Avrupa Yakası or other Turkish shows of that era!   \n",
       "38                                                                                                                                                                 a   \n",
       "39                                                                                                                                                                 c   \n",
       "40                         A** \\n\\n\\nLet me know if you have any other questions about Avrupa Yakası! I am ready to discuss anything related to this beloved show. 😊   \n",
       "41                                                                                                                                                               B**   \n",
       "42                                                                                                                                                               NaN   \n",
       "43  **  a.  **Aydan (played by Şebnem Bozoklu)** and b. **Fikret'in (played by Nuri Özyürek) **\\n\\n\\nLet me know if you have any more questions about Avrupa Yakası!   \n",
       "44                                                                                                                                                                 C   \n",
       "45                                                                                                                                                                 b   \n",
       "46                                                                                                                                                                 c   \n",
       "47                                                                                                                                                             **B**   \n",
       "48                                                                                                                                                                 D   \n",
       "49                                                                                                                                                                 A   \n",
       "\n",
       "   tfidf_as_retriever_outputs tfidf_as_retriever_answers  \n",
       "0       My Final Answer: c \\n                          c  \n",
       "1       My Final Answer: c \\n                          c  \n",
       "2       My Final Answer: C \\n                          C  \n",
       "3       My Final Answer: c \\n                          c  \n",
       "4       My Final Answer: 6 \\n                          6  \n",
       "5       My Final Answer: D \\n                          D  \n",
       "6       My Final Answer: A \\n                          A  \n",
       "7       My Final Answer: A \\n                          A  \n",
       "8       My Final Answer: A \\n                          A  \n",
       "9       My Final Answer: C \\n                          C  \n",
       "10      My Final Answer: 4 \\n                          4  \n",
       "11      My Final Answer: d \\n                          d  \n",
       "12      My Final Answer: C \\n                          C  \n",
       "13      My Final Answer: A \\n                          A  \n",
       "14      My Final Answer: D \\n                          D  \n",
       "15      My Final Answer: 6 \\n                          6  \n",
       "16      My Final Answer: c \\n                          c  \n",
       "17      My Final Answer: C \\n                          C  \n",
       "18      My Final Answer: A \\n                          A  \n",
       "19      My Final Answer: c \\n                          c  \n",
       "20      My Final Answer: 4 \\n                          4  \n",
       "21      My Final Answer: B \\n                          B  \n",
       "22      My Final Answer: c \\n                          c  \n",
       "23      My Final Answer: B \\n                          B  \n",
       "24      My Final Answer: 5 \\n                          5  \n",
       "25      My Final Answer: d \\n                          d  \n",
       "26      My Final Answer: b \\n                          b  \n",
       "27      My Final Answer: d \\n                          d  \n",
       "28      My Final Answer: C \\n                          C  \n",
       "29      My Final Answer: C \\n                          C  \n",
       "30      My Final Answer: B \\n                          B  \n",
       "31      My Final Answer: c \\n                          c  \n",
       "32     My Final Answer:  d \\n                          d  \n",
       "33      My Final Answer: D \\n                          D  \n",
       "34      My Final Answer: D \\n                          D  \n",
       "35      My Final Answer: C \\n                          C  \n",
       "36      My Final Answer: C \\n                          C  \n",
       "37      My Final Answer: C \\n                          C  \n",
       "38      My Final Answer: 8 \\n                          8  \n",
       "39      My Final Answer: 5 \\n                          5  \n",
       "40      My Final Answer: C \\n                          C  \n",
       "41      My Final Answer: c \\n                          c  \n",
       "42      My Final Answer: 9 \\n                          9  \n",
       "43      My Final Answer: c \\n                          c  \n",
       "44      My Final Answer: B \\n                          B  \n",
       "45      My Final Answer: b \\n                          b  \n",
       "46     My Final Answer:  8 \\n                          8  \n",
       "47      My Final Answer: d \\n                          d  \n",
       "48      My Final Answer: C \\n                          C  \n",
       "49      My Final Answer: b \\n                          b  "
      ]
     },
     "execution_count": 83,
     "metadata": {},
     "output_type": "execute_result"
    }
   ],
   "source": [
    "pd.read_csv(\"experiments/experiments_results.csv\", sep=\"|\", index_col=0)"
   ]
  },
  {
   "cell_type": "code",
   "execution_count": 31,
   "id": "fddd551c-d938-4580-8f27-c577fffcefae",
   "metadata": {},
   "outputs": [
    {
     "data": {
      "text/html": [
       "<div>\n",
       "<style scoped>\n",
       "    .dataframe tbody tr th:only-of-type {\n",
       "        vertical-align: middle;\n",
       "    }\n",
       "\n",
       "    .dataframe tbody tr th {\n",
       "        vertical-align: top;\n",
       "    }\n",
       "\n",
       "    .dataframe thead th {\n",
       "        text-align: right;\n",
       "    }\n",
       "</style>\n",
       "<table border=\"1\" class=\"dataframe\">\n",
       "  <thead>\n",
       "    <tr style=\"text-align: right;\">\n",
       "      <th></th>\n",
       "      <th>experiment_id</th>\n",
       "      <th>chunking_function</th>\n",
       "      <th>max_token_length</th>\n",
       "      <th>embedding_function</th>\n",
       "      <th>embedding_model</th>\n",
       "      <th>search_function</th>\n",
       "      <th>top_k</th>\n",
       "      <th>search_metadata</th>\n",
       "      <th>answer_function</th>\n",
       "      <th>generation_function</th>\n",
       "      <th>generation_model</th>\n",
       "      <th>prompt_template</th>\n",
       "      <th>generation_params</th>\n",
       "      <th>rights</th>\n",
       "      <th>wrongs</th>\n",
       "      <th>score</th>\n",
       "    </tr>\n",
       "  </thead>\n",
       "  <tbody>\n",
       "    <tr>\n",
       "      <th>0</th>\n",
       "      <td>example_entry</td>\n",
       "      <td>&lt;function my_chunking at 0x116e10d30&gt;</td>\n",
       "      <td>256</td>\n",
       "      <td>&lt;function my_embedding at 0x11768ff40&gt;</td>\n",
       "      <td>bge-m3</td>\n",
       "      <td>&lt;function my_search at 0x116b512d0&gt;</td>\n",
       "      <td>5</td>\n",
       "      <td>{'reranker': None, 'augmentation': None}</td>\n",
       "      <td>&lt;function my_answer at 0x11683d990&gt;</td>\n",
       "      <td>&lt;function my_generate at 0x11683f370&gt;</td>\n",
       "      <td>gemma2:2b</td>\n",
       "      <td>You are a state of the art question answering model. \\nYou will be given a multiple choice question. And relevant contexes that will help you to select the correct choice.\\nSelect you choice by making absolutely sure the last thing you say is your choice. In this format: My Final Answer: &lt;the letter&gt;\\nThe contexes and question are as follows:\\nQuestion: {question}\\nContexes: {contexes}\\n</td>\n",
       "      <td>{'temperature': 0.7}</td>\n",
       "      <td>Index([0, 1, 6, 10, 19, 23, 29, 31, 38, 48, 49], dtype='int64')</td>\n",
       "      <td>Index([ 2,  3,  4,  5,  7,  8,  9, 11, 12, 13, 14, 15, 16, 17, 18, 20, 21, 22,\\n       24, 25, 26, 27, 28, 30, 32, 33, 34, 35, 36, 37, 39, 40, 41, 42, 43, 44,\\n       45, 46, 47],\\n      dtype='int64')</td>\n",
       "      <td>0.22</td>\n",
       "    </tr>\n",
       "    <tr>\n",
       "      <th>1</th>\n",
       "      <td>no_retriever</td>\n",
       "      <td>&lt;function fake_chunking at 0x115b563b0&gt;</td>\n",
       "      <td>256</td>\n",
       "      <td>&lt;function fake_embedding at 0x115b553f0&gt;</td>\n",
       "      <td>none</td>\n",
       "      <td>&lt;function fake_search at 0x115b56560&gt;</td>\n",
       "      <td>0</td>\n",
       "      <td>{'reranker': None, 'augmentation': None}</td>\n",
       "      <td>&lt;function answer_without_context at 0x115b56320&gt;</td>\n",
       "      <td>&lt;function my_generate at 0x115437250&gt;</td>\n",
       "      <td>gemma2:2b</td>\n",
       "      <td>You are an expert on Turkish Tv shows from before 2010. You have incredible knowledge especially about Avrupa Yakası by Gülse Birsel.\\nYou can easily answer any question about Avrupa Yakası.\\nYou will be given a multiple choice question. And you are asked to select the correct choice.\\nGive your answers by making absolutely sure the last thing you say is your choice in this format: My Final Answer: &lt;the letter&gt;\\nHere is your first question:\\nQuestion: {question}\\n\\n</td>\n",
       "      <td>{'temperature': 0.7}</td>\n",
       "      <td>Index([3, 10, 17, 20, 23, 27, 30, 39], dtype='int64')</td>\n",
       "      <td>Index([ 0,  1,  2,  4,  5,  6,  7,  8,  9, 11, 12, 13, 14, 15, 16, 18, 19, 21,\\n       22, 24, 25, 26, 28, 29, 31, 32, 33, 34, 35, 36, 37, 38, 40, 41, 42, 43,\\n       44, 45, 46, 47, 48, 49],\\n      dtype='int64')</td>\n",
       "      <td>0.16</td>\n",
       "    </tr>\n",
       "    <tr>\n",
       "      <th>2</th>\n",
       "      <td>tfidf_as_retriever</td>\n",
       "      <td>&lt;function my_chunking at 0x11cf4ac20&gt;</td>\n",
       "      <td>256</td>\n",
       "      <td>&lt;function tfidf_embedding at 0x11d59f370&gt;</td>\n",
       "      <td>bge-m3</td>\n",
       "      <td>&lt;function my_search at 0x11d59ecb0&gt;</td>\n",
       "      <td>5</td>\n",
       "      <td>{'reranker': None, 'augmentation': None}</td>\n",
       "      <td>&lt;function my_answer at 0x11d51f7f0&gt;</td>\n",
       "      <td>&lt;function my_generate at 0x11d59e9e0&gt;</td>\n",
       "      <td>gemma2:2b</td>\n",
       "      <td>You are a state of the art question answering model. \\nYou will be given a multiple choice question. And relevant contexts that will help you to select the correct choice.\\nSelect you choice by making absolutely sure the last thing you say is your choice. In this format: My Final Answer: &lt;the letter&gt;\\nThe contexts and question are as follows:\\nQuestion: {question}\\nContexts: {contexts}\\n</td>\n",
       "      <td>{'temperature': 0.7}</td>\n",
       "      <td>Index([0, 1, 2, 9, 12, 14, 17, 18, 21, 23, 26, 29, 34, 37, 40, 48, 49], dtype='int64')</td>\n",
       "      <td>Index([ 3,  4,  5,  6,  7,  8, 10, 11, 13, 15, 16, 19, 20, 22, 24, 25, 27, 28,\\n       30, 31, 32, 33, 35, 36, 38, 39, 41, 42, 43, 44, 45, 46, 47],\\n      dtype='int64')</td>\n",
       "      <td>0.34</td>\n",
       "    </tr>\n",
       "    <tr>\n",
       "      <th>3</th>\n",
       "      <td>tfidf_as_retriever_k10</td>\n",
       "      <td>&lt;function my_chunking at 0x109534d30&gt;</td>\n",
       "      <td>256</td>\n",
       "      <td>&lt;function tfidf_embedding at 0x109534820&gt;</td>\n",
       "      <td>tfidf</td>\n",
       "      <td>&lt;function my_search at 0x109534b80&gt;</td>\n",
       "      <td>10</td>\n",
       "      <td>{'reranker': None, 'augmentation': None}</td>\n",
       "      <td>&lt;function my_answer at 0x109534790&gt;</td>\n",
       "      <td>&lt;function my_generate at 0x109535000&gt;</td>\n",
       "      <td>gemma2:2b</td>\n",
       "      <td>You are a state of the art question answering model. \\nYou will be given a multiple choice question. And relevant contexts that will help you to select the correct choice.\\nSelect you choice by making absolutely sure the last thing you say is your choice. In this format: My Final Answer: &lt;the letter&gt;\\nThe contexts and question are as follows:\\nQuestion: {question}\\nContexts: {contexts}\\n</td>\n",
       "      <td>{'temperature': 0.7}</td>\n",
       "      <td>Index([1, 3, 4, 5, 13, 17, 26, 31, 34, 38, 39, 43, 47, 48], dtype='int64')</td>\n",
       "      <td>Index([ 0,  2,  6,  7,  8,  9, 10, 11, 12, 14, 15, 16, 18, 19, 20, 21, 22, 23,\\n       24, 25, 27, 28, 29, 30, 32, 33, 35, 36, 37, 40, 41, 42, 44, 45, 46, 49],\\n      dtype='int64')</td>\n",
       "      <td>0.28</td>\n",
       "    </tr>\n",
       "  </tbody>\n",
       "</table>\n",
       "</div>"
      ],
      "text/plain": [
       "            experiment_id                        chunking_function  \\\n",
       "0           example_entry    <function my_chunking at 0x116e10d30>   \n",
       "1            no_retriever  <function fake_chunking at 0x115b563b0>   \n",
       "2      tfidf_as_retriever    <function my_chunking at 0x11cf4ac20>   \n",
       "3  tfidf_as_retriever_k10    <function my_chunking at 0x109534d30>   \n",
       "\n",
       "   max_token_length                         embedding_function  \\\n",
       "0               256     <function my_embedding at 0x11768ff40>   \n",
       "1               256   <function fake_embedding at 0x115b553f0>   \n",
       "2               256  <function tfidf_embedding at 0x11d59f370>   \n",
       "3               256  <function tfidf_embedding at 0x109534820>   \n",
       "\n",
       "  embedding_model                        search_function  top_k  \\\n",
       "0          bge-m3    <function my_search at 0x116b512d0>      5   \n",
       "1            none  <function fake_search at 0x115b56560>      0   \n",
       "2          bge-m3    <function my_search at 0x11d59ecb0>      5   \n",
       "3           tfidf    <function my_search at 0x109534b80>     10   \n",
       "\n",
       "                            search_metadata  \\\n",
       "0  {'reranker': None, 'augmentation': None}   \n",
       "1  {'reranker': None, 'augmentation': None}   \n",
       "2  {'reranker': None, 'augmentation': None}   \n",
       "3  {'reranker': None, 'augmentation': None}   \n",
       "\n",
       "                                    answer_function  \\\n",
       "0               <function my_answer at 0x11683d990>   \n",
       "1  <function answer_without_context at 0x115b56320>   \n",
       "2               <function my_answer at 0x11d51f7f0>   \n",
       "3               <function my_answer at 0x109534790>   \n",
       "\n",
       "                     generation_function generation_model  \\\n",
       "0  <function my_generate at 0x11683f370>        gemma2:2b   \n",
       "1  <function my_generate at 0x115437250>        gemma2:2b   \n",
       "2  <function my_generate at 0x11d59e9e0>        gemma2:2b   \n",
       "3  <function my_generate at 0x109535000>        gemma2:2b   \n",
       "\n",
       "                                                                                                                                                                                                                                                                                                                                                                                                                                                                          prompt_template  \\\n",
       "0                                                                                  You are a state of the art question answering model. \\nYou will be given a multiple choice question. And relevant contexes that will help you to select the correct choice.\\nSelect you choice by making absolutely sure the last thing you say is your choice. In this format: My Final Answer: <the letter>\\nThe contexes and question are as follows:\\nQuestion: {question}\\nContexes: {contexes}\\n   \n",
       "1  You are an expert on Turkish Tv shows from before 2010. You have incredible knowledge especially about Avrupa Yakası by Gülse Birsel.\\nYou can easily answer any question about Avrupa Yakası.\\nYou will be given a multiple choice question. And you are asked to select the correct choice.\\nGive your answers by making absolutely sure the last thing you say is your choice in this format: My Final Answer: <the letter>\\nHere is your first question:\\nQuestion: {question}\\n\\n   \n",
       "2                                                                                  You are a state of the art question answering model. \\nYou will be given a multiple choice question. And relevant contexts that will help you to select the correct choice.\\nSelect you choice by making absolutely sure the last thing you say is your choice. In this format: My Final Answer: <the letter>\\nThe contexts and question are as follows:\\nQuestion: {question}\\nContexts: {contexts}\\n   \n",
       "3                                                                                  You are a state of the art question answering model. \\nYou will be given a multiple choice question. And relevant contexts that will help you to select the correct choice.\\nSelect you choice by making absolutely sure the last thing you say is your choice. In this format: My Final Answer: <the letter>\\nThe contexts and question are as follows:\\nQuestion: {question}\\nContexts: {contexts}\\n   \n",
       "\n",
       "      generation_params  \\\n",
       "0  {'temperature': 0.7}   \n",
       "1  {'temperature': 0.7}   \n",
       "2  {'temperature': 0.7}   \n",
       "3  {'temperature': 0.7}   \n",
       "\n",
       "                                                                                   rights  \\\n",
       "0                         Index([0, 1, 6, 10, 19, 23, 29, 31, 38, 48, 49], dtype='int64')   \n",
       "1                                   Index([3, 10, 17, 20, 23, 27, 30, 39], dtype='int64')   \n",
       "2  Index([0, 1, 2, 9, 12, 14, 17, 18, 21, 23, 26, 29, 34, 37, 40, 48, 49], dtype='int64')   \n",
       "3              Index([1, 3, 4, 5, 13, 17, 26, 31, 34, 38, 39, 43, 47, 48], dtype='int64')   \n",
       "\n",
       "                                                                                                                                                                                                                  wrongs  \\\n",
       "0              Index([ 2,  3,  4,  5,  7,  8,  9, 11, 12, 13, 14, 15, 16, 17, 18, 20, 21, 22,\\n       24, 25, 26, 27, 28, 30, 32, 33, 34, 35, 36, 37, 39, 40, 41, 42, 43, 44,\\n       45, 46, 47],\\n      dtype='int64')   \n",
       "1  Index([ 0,  1,  2,  4,  5,  6,  7,  8,  9, 11, 12, 13, 14, 15, 16, 18, 19, 21,\\n       22, 24, 25, 26, 28, 29, 31, 32, 33, 34, 35, 36, 37, 38, 40, 41, 42, 43,\\n       44, 45, 46, 47, 48, 49],\\n      dtype='int64')   \n",
       "2                                              Index([ 3,  4,  5,  6,  7,  8, 10, 11, 13, 15, 16, 19, 20, 22, 24, 25, 27, 28,\\n       30, 31, 32, 33, 35, 36, 38, 39, 41, 42, 43, 44, 45, 46, 47],\\n      dtype='int64')   \n",
       "3                                  Index([ 0,  2,  6,  7,  8,  9, 10, 11, 12, 14, 15, 16, 18, 19, 20, 21, 22, 23,\\n       24, 25, 27, 28, 29, 30, 32, 33, 35, 36, 37, 40, 41, 42, 44, 45, 46, 49],\\n      dtype='int64')   \n",
       "\n",
       "   score  \n",
       "0   0.22  \n",
       "1   0.16  \n",
       "2   0.34  \n",
       "3   0.28  "
      ]
     },
     "execution_count": 31,
     "metadata": {},
     "output_type": "execute_result"
    }
   ],
   "source": [
    "pd.read_csv(\"experiments/experiment_leaderboard.csv\", sep=\"|\", index_col=0)"
   ]
  },
  {
   "cell_type": "code",
   "execution_count": null,
   "id": "832b92b4-c550-4570-a87e-c60e206e3904",
   "metadata": {},
   "outputs": [],
   "source": []
  }
 ],
 "metadata": {
  "kernelspec": {
   "display_name": "inzva_w2",
   "language": "python",
   "name": "inzva_w2"
  },
  "language_info": {
   "codemirror_mode": {
    "name": "ipython",
    "version": 3
   },
   "file_extension": ".py",
   "mimetype": "text/x-python",
   "name": "python",
   "nbconvert_exporter": "python",
   "pygments_lexer": "ipython3",
   "version": "3.10.9"
  }
 },
 "nbformat": 4,
 "nbformat_minor": 5
}
